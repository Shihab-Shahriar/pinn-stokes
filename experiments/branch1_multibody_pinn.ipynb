{
 "cells": [
  {
   "cell_type": "code",
   "execution_count": 1,
   "id": "277dd928-28ad-4ad4-8606-a674db3bb4e4",
   "metadata": {},
   "outputs": [],
   "source": [
    "import numpy as np\n",
    "import os\n",
    "import seaborn as sns\n",
    "import matplotlib.pyplot as plt\n",
    "import pandas as pd\n",
    "from scipy.spatial.transform import Rotation\n",
    "from scipy.spatial.distance import pdist\n",
    "from sklearn.preprocessing import *\n",
    "import torch\n",
    "import torch.nn as nn\n",
    "import torch.nn.functional as F\n",
    "\n",
    "import sys\n",
    "\n",
    "sys.path.append(\"/home/shihab/repo/src\")\n",
    "from analysis_utils import convert_to_tensors, shuffle_and_split\n",
    "\n",
    "torch.manual_seed(411)\n",
    "np.random.seed(41)\n",
    "\n",
    "device = torch.device(\"cuda\" if torch.cuda.is_available() else \"cpu\")\n",
    "torch.set_default_device(device)"
   ]
  },
  {
   "cell_type": "markdown",
   "id": "c25c8cd8-f42b-4622-aca4-ae79b803879f",
   "metadata": {},
   "source": [
    "Oct 08\n",
    "\n",
    "Just use same basis tensors as 2body.\n",
    "\n",
    "Oct 22: Solved the high error problem with angular velocity"
   ]
  },
  {
   "cell_type": "code",
   "execution_count": 2,
   "id": "9a42190f-fa74-4018-a134-3d7d452109fa",
   "metadata": {},
   "outputs": [
    {
     "name": "stdout",
     "output_type": "stream",
     "text": [
      "49400\n",
      "(49400, 47)\n"
     ]
    },
    {
     "data": {
      "text/plain": [
       "((49400, 47),\n",
       " Index(['x_s', 'y_s', 'z_s', 'f_x_s', 'f_y_s', 'f_z_s', 'tor_x_s', 'tor_y_s',\n",
       "        'tor_z_s', 'x_k_0', 'y_k_0', 'z_k_0', 'x_k_1', 'y_k_1', 'z_k_1',\n",
       "        'x_k_2', 'y_k_2', 'z_k_2', 'x_k_3', 'y_k_3', 'z_k_3', 'x_k_4', 'y_k_4',\n",
       "        'z_k_4', 'x_k_5', 'y_k_5', 'z_k_5', 'x_k_6', 'y_k_6', 'z_k_6', 'x_k_7',\n",
       "        'y_k_7', 'z_k_7', 'x_k_8', 'y_k_8', 'z_k_8', 'x_k_9', 'y_k_9', 'z_k_9',\n",
       "        'vel_x', 'vel_y', 'vel_z', 'angvel_x', 'angvel_y', 'angvel_z', 'dist_s',\n",
       "        'min_dist_s'],\n",
       "       dtype='object'))"
      ]
     },
     "execution_count": 2,
     "metadata": {},
     "output_type": "execute_result"
    }
   ],
   "source": [
    "root = \"../data/multibody\"\n",
    "times1 = [f for f in os.listdir(root) if f.startswith(\"X_sphere_\")]\n",
    "times1 = set([(root, f[9:-4]) for f in times1])\n",
    "\n",
    "root = \"../data/multibody_new/\"\n",
    "times2 = [f for f in os.listdir(root) if f.startswith(\"X_sphere_\")]\n",
    "times2 = set([(root, f[9:-4]) for f in times2])\n",
    "\n",
    "times = times1 | times2\n",
    "\n",
    "xs, ys, counts = [], [], []\n",
    "for root, file in times:\n",
    "    x = np.load(f\"{root}/X_sphere_{file}.npy\", allow_pickle=True)\n",
    "    y = np.load(f\"{root}/Y_sphere_{file}.npy\")\n",
    "    cnts = np.load(f\"{root}/neighbors_{file}.npy\")\n",
    "    xs.append(x)\n",
    "    ys.append(y)\n",
    "    counts.append(cnts)\n",
    "\n",
    "X_ragged = np.concatenate(xs, axis=0)\n",
    "Y = np.concatenate(ys, axis=0)\n",
    "neighbor_counts = np.concatenate(counts, axis=0)\n",
    "\n",
    "N = len(Y)\n",
    "print(N)\n",
    "MAX_NEIGHBORS=10\n",
    "\n",
    "X = np.zeros((N,11+MAX_NEIGHBORS*3), dtype=np.float64)\n",
    "for i in range(N):\n",
    "    nk = neighbor_counts[i]\n",
    "    X[i, 0:11+nk*3] = X_ragged[i].copy()\n",
    "\n",
    "XY = np.hstack([X, Y])          # shape: (total_rows, 16)\n",
    "print(XY.shape)\n",
    "\n",
    "#sanity check\n",
    "for i in range(N):\n",
    "    nk = neighbor_counts[i]\n",
    "    pos = np.zeros(((nk+2), 3), dtype=np.float64)\n",
    "    pos[0] = np.zeros((3,)) #target\n",
    "    pos[1] = X[i, :3] #src\n",
    "    pos[2:,:] = X[i, 11:11+nk*3].reshape((nk, 3))\n",
    "    dd = pdist(pos)\n",
    "    assert np.all(dd>2.02)\n",
    "\n",
    "s_cols = [\"x_s\", \"y_s\", \"z_s\", \"dist_s\", \"min_dist_s\", \n",
    "          \"f_x_s\", \"f_y_s\", \"f_z_s\", \"tor_x_s\", \"tor_y_s\", \"tor_z_s\"]\n",
    "k_cols = []\n",
    "for i in range(10):\n",
    "    k_cols.append(f\"x_k_{i}\")\n",
    "    k_cols.append(f\"y_k_{i}\")\n",
    "    k_cols.append(f\"z_k_{i}\")\n",
    "y_cols = [\"vel_x\", \"vel_y\", \"vel_z\", \"angvel_x\", \"angvel_y\", \"angvel_z\"]\n",
    "column_names = s_cols + k_cols + y_cols\n",
    "\n",
    "df = pd.DataFrame(XY, columns=column_names)\n",
    "\n",
    "cols_to_move = ['dist_s', 'min_dist_s'] #move them to the end\n",
    "new_cols = [col for col in df.columns if col not in cols_to_move] + cols_to_move\n",
    "df = df[new_cols]\n",
    "\n",
    "df.shape, df.columns"
   ]
  },
  {
   "cell_type": "code",
   "execution_count": 3,
   "id": "3a3d9387-c54a-41da-8de8-e23f9f4466ab",
   "metadata": {},
   "outputs": [
    {
     "data": {
      "text/plain": [
       "(0.12631818340661147, 0.02013145717466011)"
      ]
     },
     "execution_count": 3,
     "metadata": {},
     "output_type": "execute_result"
    }
   ],
   "source": [
    "np.abs(df[[\"vel_x\", \"vel_y\", \"vel_z\"]].values).mean(), np.abs(df[[\"angvel_x\", \"angvel_y\", \"angvel_z\"]].values).mean()\n"
   ]
  },
  {
   "cell_type": "code",
   "execution_count": 4,
   "id": "03babac2-b43e-47a4-adaa-d6892645459d",
   "metadata": {},
   "outputs": [],
   "source": [
    "mean_dist_s = df['dist_s'].mean()\n",
    "df['dist_s'] -= mean_dist_s\n",
    "df['dist_s_sq'] = df['dist_s']**2\n",
    "df['dist_s_sqsq'] = df['dist_s_sq']**2\n",
    "\n",
    "origin = np.array([0.0, 0.0, 0.0])\n",
    "# df['x_s'] = origin[0] - df['x_s']\n",
    "# df['y_s'] = origin[1] - df['y_s']\n",
    "# df['z_s'] = origin[2] - df['z_s']"
   ]
  },
  {
   "cell_type": "code",
   "execution_count": 5,
   "id": "c07f84b3-3118-4f20-9089-3e699c63c625",
   "metadata": {},
   "outputs": [],
   "source": [
    "FEATURE_NAMES = ['r_sum','r_diff','r_prod','u_over_ell_abs',\n",
    "                 'u_over_ell_sq','rho_over_ell','inv_sum',\n",
    "                 'inv_prod','inv_absdiff','cos_k']\n",
    "\n",
    "K: int = 10\n",
    "eps: float = 1e-9\n",
    "\n",
    "# --- s, t, geometry setup ---\n",
    "s = df[['x_s', 'y_s', 'z_s']].to_numpy(dtype=np.float64)  # (N,3)\n",
    "N = s.shape[0]\n",
    "t = np.zeros_like(s)                                       # (N,3)  (change if you have t columns)\n",
    "ell = np.linalg.norm(s - t, axis=1, keepdims=True)         # (N,1)\n",
    "ell = np.clip(ell, eps, None)\n",
    "zhat = (s - t) / ell                                       # (N,3)\n",
    "m = 0.5 * (s + t)                                          # (N,3)\n",
    "\n",
    "# --- neighbors as (N, K, 3) ---\n",
    "ks = np.empty((N, K, 3), dtype=np.float64)\n",
    "for i in range(K):\n",
    "    ks[:, i, 0] = df.get(f'x_k_{i}', 0.0)\n",
    "    ks[:, i, 1] = df.get(f'y_k_{i}', 0.0)\n",
    "    ks[:, i, 2] = df.get(f'z_k_{i}', 0.0)\n",
    "\n",
    "# padded neighbors are all-zeros\n",
    "k_mask = np.any(ks != 0.0, axis=2)                         # (N,K) booleans\n",
    "\n",
    "# --- distances (symmetric combos) ---\n",
    "r_sk = np.linalg.norm(ks - s[:, None, :], axis=2)            # (N,K)\n",
    "r_kt = np.linalg.norm(ks - t[:, None, :], axis=2)            # (N,K)\n",
    "r_sk_c = np.clip(r_sk, eps, None)\n",
    "r_kt_c = np.clip(r_kt, eps, None)\n",
    "\n",
    "r_sum   = r_sk + r_kt                                        # (N,K)\n",
    "r_diff  = np.abs(r_sk - r_kt)                                # (N,K)\n",
    "r_prod  = r_sk * r_kt                                        # (N,K)\n",
    "\n",
    "# --- axial & radial wrt pair axis (even-only for symmetry) ---\n",
    "v = ks - m[:, None, :]                                       # (N,K,3)\n",
    "u = np.sum(v * zhat[:, None, :], axis=2)                     # (N,K)\n",
    "v_perp = v - u[..., None] * zhat[:, None, :]                 # (N,K,3)\n",
    "rho = np.linalg.norm(v_perp, axis=2)                         # (N,K)\n",
    "\n",
    "ell_b = np.broadcast_to(ell, r_sk.shape)                     # (N,K)\n",
    "u_over_ell_abs = np.abs(u) / np.clip(ell_b, eps, None)       # (N,K)\n",
    "u_over_ell_sq  = (u / np.clip(ell_b, eps, None))**2          # (N,K)\n",
    "rho_over_ell   =  rho / np.clip(ell_b, eps, None)            # (N,K)\n",
    "\n",
    "# --- symmetric \"inverse distance\" features ---\n",
    "inv_sum     = (1.0 / r_sk_c) + (1.0 / r_kt_c)                # (N,K)\n",
    "inv_prod    = 1.0 / (r_sk_c * r_kt_c)                        # (N,K)\n",
    "inv_absdiff = np.abs((1.0 / r_sk_c) - (1.0 / r_kt_c))        # (N,K)\n",
    "\n",
    "# --- angle at k (symmetric): cos_k = ((s-k)·(t-k)) / (r_sk r_kt) ---\n",
    "a = s[:, None, :] - ks                                       # (N,K,3)  (s - k)\n",
    "b = t[:, None, :] - ks                                       # (N,K,3)  (t - k)\n",
    "cos_k = np.sum(a * b, axis=2) / np.clip(r_sk_c * r_kt_c, eps, None)\n",
    "cos_k = np.clip(cos_k, -1.0, 1.0)\n",
    "\n",
    "# --- pack features and zero-out padded entries ---\n",
    "feats = np.stack(\n",
    "    [r_sum, r_diff, r_prod,\n",
    "     u_over_ell_abs, u_over_ell_sq, rho_over_ell,\n",
    "     inv_sum, inv_prod, inv_absdiff,\n",
    "     cos_k],\n",
    "    axis=2\n",
    ")                                                            # (N,K,10)\n",
    "feats[~k_mask] = 0.0\n",
    "\n",
    "# --- attach to DataFrame ---\n",
    "out = df.copy()\n",
    "\n",
    "flat_feats = feats.reshape(N, K * feats.shape[2])\n",
    "wide_cols = [f'feat_{i}_{name}' for i in range(K) for name in FEATURE_NAMES]\n",
    "feats_df = pd.DataFrame(flat_feats, columns=wide_cols, index=df.index)\n",
    "\n",
    "# 2. Create a DataFrame for the masks\n",
    "mask_cols = [f'mask_{i}' for i in range(K)]\n",
    "masks_df = pd.DataFrame(k_mask.astype(np.float64), columns=mask_cols, index=df.index)\n",
    "\n",
    "# 3. Combine everything in ONE step 🚀\n",
    "out = pd.concat([df, feats_df, masks_df], axis=1)\n",
    "\n",
    "\n",
    "out.shape, list(out.columns);"
   ]
  },
  {
   "cell_type": "code",
   "execution_count": 6,
   "id": "373cb7b5-b0e3-4005-9fc5-95ddb39b4d26",
   "metadata": {},
   "outputs": [
    {
     "data": {
      "text/plain": [
       "(49400, 159)"
      ]
     },
     "execution_count": 6,
     "metadata": {},
     "output_type": "execute_result"
    }
   ],
   "source": [
    "out.shape"
   ]
  },
  {
   "cell_type": "code",
   "execution_count": 7,
   "id": "1f3df922-1917-46ab-a62b-cdf462ea6bf0",
   "metadata": {},
   "outputs": [
    {
     "name": "stdout",
     "output_type": "stream",
     "text": [
      "Using features: ['x_s', 'y_s', 'z_s', 'x_k_0', 'y_k_0', 'z_k_0', 'x_k_1', 'y_k_1', 'z_k_1', 'x_k_2', 'y_k_2', 'z_k_2', 'x_k_3', 'y_k_3', 'z_k_3', 'x_k_4', 'y_k_4', 'z_k_4', 'x_k_5', 'y_k_5', 'z_k_5', 'x_k_6', 'y_k_6', 'z_k_6', 'x_k_7', 'y_k_7', 'z_k_7', 'x_k_8', 'y_k_8', 'z_k_8', 'x_k_9', 'y_k_9', 'z_k_9', 'dist_s', 'min_dist_s', 'dist_s_sq', 'dist_s_sqsq', 'feat_0_r_sum', 'feat_0_r_diff', 'feat_0_r_prod', 'feat_0_u_over_ell_abs', 'feat_0_u_over_ell_sq', 'feat_0_rho_over_ell', 'feat_0_inv_sum', 'feat_0_inv_prod', 'feat_0_inv_absdiff', 'feat_0_cos_k', 'feat_1_r_sum', 'feat_1_r_diff', 'feat_1_r_prod', 'feat_1_u_over_ell_abs', 'feat_1_u_over_ell_sq', 'feat_1_rho_over_ell', 'feat_1_inv_sum', 'feat_1_inv_prod', 'feat_1_inv_absdiff', 'feat_1_cos_k', 'feat_2_r_sum', 'feat_2_r_diff', 'feat_2_r_prod', 'feat_2_u_over_ell_abs', 'feat_2_u_over_ell_sq', 'feat_2_rho_over_ell', 'feat_2_inv_sum', 'feat_2_inv_prod', 'feat_2_inv_absdiff', 'feat_2_cos_k', 'feat_3_r_sum', 'feat_3_r_diff', 'feat_3_r_prod', 'feat_3_u_over_ell_abs', 'feat_3_u_over_ell_sq', 'feat_3_rho_over_ell', 'feat_3_inv_sum', 'feat_3_inv_prod', 'feat_3_inv_absdiff', 'feat_3_cos_k', 'feat_4_r_sum', 'feat_4_r_diff', 'feat_4_r_prod', 'feat_4_u_over_ell_abs', 'feat_4_u_over_ell_sq', 'feat_4_rho_over_ell', 'feat_4_inv_sum', 'feat_4_inv_prod', 'feat_4_inv_absdiff', 'feat_4_cos_k', 'feat_5_r_sum', 'feat_5_r_diff', 'feat_5_r_prod', 'feat_5_u_over_ell_abs', 'feat_5_u_over_ell_sq', 'feat_5_rho_over_ell', 'feat_5_inv_sum', 'feat_5_inv_prod', 'feat_5_inv_absdiff', 'feat_5_cos_k', 'feat_6_r_sum', 'feat_6_r_diff', 'feat_6_r_prod', 'feat_6_u_over_ell_abs', 'feat_6_u_over_ell_sq', 'feat_6_rho_over_ell', 'feat_6_inv_sum', 'feat_6_inv_prod', 'feat_6_inv_absdiff', 'feat_6_cos_k', 'feat_7_r_sum', 'feat_7_r_diff', 'feat_7_r_prod', 'feat_7_u_over_ell_abs', 'feat_7_u_over_ell_sq', 'feat_7_rho_over_ell', 'feat_7_inv_sum', 'feat_7_inv_prod', 'feat_7_inv_absdiff', 'feat_7_cos_k', 'feat_8_r_sum', 'feat_8_r_diff', 'feat_8_r_prod', 'feat_8_u_over_ell_abs', 'feat_8_u_over_ell_sq', 'feat_8_rho_over_ell', 'feat_8_inv_sum', 'feat_8_inv_prod', 'feat_8_inv_absdiff', 'feat_8_cos_k', 'feat_9_r_sum', 'feat_9_r_diff', 'feat_9_r_prod', 'feat_9_u_over_ell_abs', 'feat_9_u_over_ell_sq', 'feat_9_rho_over_ell', 'feat_9_inv_sum', 'feat_9_inv_prod', 'feat_9_inv_absdiff', 'feat_9_cos_k', 'mask_0', 'mask_1', 'mask_2', 'mask_3', 'mask_4', 'mask_5', 'mask_6', 'mask_7', 'mask_8', 'mask_9']\n"
     ]
    }
   ],
   "source": [
    "force_cols = [\n",
    "    'f_x_s', 'f_y_s', 'f_z_s', 'tor_x_s', 'tor_y_s', 'tor_z_s'    ]\n",
    "output_cols = [\n",
    "    'vel_x', 'vel_y', 'vel_z',\n",
    "    'angvel_x', 'angvel_y', 'angvel_z'\n",
    "]\n",
    "to_drop = force_cols + output_cols\n",
    "\n",
    "feature_cols = [col for col in list(out.columns) if col not in to_drop]\n",
    "print(\"Using features:\", feature_cols)\n",
    "\n",
    "dist_vec   = out[feature_cols].values\n",
    "force_vec  = out[force_cols].values\n",
    "output_vec = out[output_cols].values\n",
    "feat, force, vel = dist_vec, force_vec, output_vec"
   ]
  },
  {
   "cell_type": "code",
   "execution_count": 8,
   "id": "8ce2d674-7a71-4a94-b2a4-ee7dc8a05bcf",
   "metadata": {},
   "outputs": [
    {
     "data": {
      "text/plain": [
       "33"
      ]
     },
     "execution_count": 8,
     "metadata": {},
     "output_type": "execute_result"
    }
   ],
   "source": [
    "dist_s_col_idx = feature_cols.index('dist_s')\n",
    "dist_s_col_idx"
   ]
  },
  {
   "cell_type": "code",
   "execution_count": 9,
   "id": "af752aac-2478-46ba-ace2-06e401f56dbc",
   "metadata": {},
   "outputs": [
    {
     "data": {
      "text/plain": [
       "(torch.Size([39520, 147]), torch.Size([39520, 6]), torch.Size([9880, 147]))"
      ]
     },
     "execution_count": 9,
     "metadata": {},
     "output_type": "execute_result"
    }
   ],
   "source": [
    "feat, force, vel = convert_to_tensors(feat, force, vel)\n",
    "\n",
    "tmp = list(shuffle_and_split(df, feat, force, vel, split_frac=.8))\n",
    "train_idx, val_idx = tmp.pop()\n",
    "\n",
    "for i in range(len(tmp)):\n",
    "    tmp[i] = tmp[i].to(device)\n",
    "\n",
    "(train_dist_tensor, val_dist_tensor, \n",
    "    train_force_tensor, val_force_tensor, \n",
    "    train_velocity_tensor, val_velocity_tensor) = tmp\n",
    "\n",
    "train_dist_tensor.shape, train_force_tensor.shape, val_dist_tensor.shape"
   ]
  },
  {
   "cell_type": "markdown",
   "id": "1b18d611-b7f4-435c-9cdc-7d9a34977cde",
   "metadata": {},
   "source": [
    "## Model"
   ]
  },
  {
   "cell_type": "code",
   "execution_count": 10,
   "id": "183a4452-1f35-42b6-8156-a5182dc61275",
   "metadata": {},
   "outputs": [],
   "source": [
    "def L1(d):\n",
    "    \"\"\" Computes the outer product of each 3D vector in the batch with itself. \"\"\"\n",
    "    # d: [batch_size, 3]\n",
    "    return torch.einsum('bi,bj->bij', d, d)  # [batch_size, 3, 3]\n",
    "\n",
    "def L2(d):\n",
    "    \"\"\" Returns the matrix (I - outer(d, d)) for each vector in the batch. \"\"\"\n",
    "    # Identity tensor expanded to batch size\n",
    "    batch_size = d.shape[0]\n",
    "    I = torch.eye(3).unsqueeze(0).repeat(batch_size, 1, 1).to(d.device)  # [batch_size, 3, 3]\n",
    "    ddT = torch.einsum('bi,bj->bij', d, d)  # [batch_size, 3, 3]\n",
    "    return I - ddT\n",
    "\n",
    "@torch.jit.script\n",
    "def L3(d: torch.Tensor) -> torch.Tensor:\n",
    "    x, y, z = d.unbind(-1)\n",
    "    zeros = x.new_zeros(x.shape)\n",
    "    row0 = torch.stack([zeros, -z,   y], dim=-1)\n",
    "    row1 = torch.stack([   z, zeros, -x], dim=-1)\n",
    "    row2 = torch.stack([  -y,   x, zeros], dim=-1)\n",
    "    return torch.stack([row0, row1, row2], dim=-2)\n",
    "\n",
    "def spsd_loss_func(sym_matrix, epsilon=1e-6):\n",
    "    \"\"\"SPSD loss representing SPSD violation\n",
    "    \"\"\"\n",
    "    eigenvalues = torch.linalg.eigvalsh(sym_matrix)  # (batch_size, 6)\n",
    "    negative_violations = torch.relu(-eigenvalues + epsilon)  # (batch_size, 6)\n",
    "    loss = torch.mean(negative_violations)\n",
    "    \n",
    "    return loss\n"
   ]
  },
  {
   "cell_type": "code",
   "execution_count": 28,
   "id": "a62f3590-12df-4692-b6db-6ecd9ed8f754",
   "metadata": {},
   "outputs": [],
   "source": [
    "class MultiBodyCorrection(nn.Module):\n",
    "    def __init__(self, input_dim, two_nn_path, median_2b, mean_dist_s, dist_s_feat_loc):\n",
    "        super().__init__()\n",
    "        self.net = nn.Sequential(\n",
    "            nn.Linear(input_dim, 128),\n",
    "            nn.Tanh(),\n",
    "            nn.Linear(128, 64),\n",
    "            nn.Tanh(),\n",
    "            nn.Linear(64, 128),\n",
    "            nn.Tanh(),\n",
    "            nn.Linear(128, 64),\n",
    "            nn.Tanh(),\n",
    "            nn.Linear(64, 5)\n",
    "        )\n",
    "        self.two_nn = torch.jit.load(two_nn_path, map_location=device).eval()\n",
    "        self.median_2b = median_2b\n",
    "        self.mean_dist_s = mean_dist_s\n",
    "        self.dist_s_feat_loc = dist_s_feat_loc\n",
    "\n",
    "    def forward(self, X):\n",
    "        return self.net(X)   \n",
    "\n",
    "    @torch.jit.export \n",
    "    def predict_velocity(self, X, force_s): \n",
    "        coeff = self.net(X[:,33:]) # [B,10] \n",
    "\n",
    "        d_vec = X[:,:3]\n",
    "        dist_s_centered = X[:, self.dist_s_feat_loc]                  # col 'dist_s'\n",
    "        r = dist_s_centered + self.mean_dist_s\n",
    "        \n",
    "        d_vec = -d_vec/ r.unsqueeze(-1) # negative,cz dvec=target-src\n",
    "        \n",
    "        par = L1(d_vec)                                   # [B,3,3]\n",
    "        perp = L2(d_vec)\n",
    "        angular = L3(d_vec)\n",
    "\n",
    "        B0 = coeff[:,0][:,None,None]; B1 = coeff[:,1][:,None,None]\n",
    "        C0 = coeff[:,2][:,None,None]; \n",
    "        D0 = coeff[:,3][:,None,None]; D1 = coeff[:,4][:,None,None]\n",
    "\n",
    "        # if not self.training:\n",
    "        #     print(torch.abs(B0.mean()),torch.abs(B1.mean()), torch.abs(C0.mean()), torch.abs(D0.mean()), torch.abs(D1.mean()))\n",
    "\n",
    "        TT = B0*par + B1*perp \n",
    "        RT = C0*angular \n",
    "        RR = D0*par + D1*perp \n",
    "\n",
    "        K   = torch.zeros(X.shape[0],6,6, device=X.device, dtype=X.dtype)\n",
    "        K[:,:3,:3] = TT\n",
    "        K[:,3:,:3] = RT\n",
    "        K[:,:3,3:] = RT\n",
    "        K[:,3:,3:] = RR\n",
    "\n",
    "        v = torch.einsum('bij,bj->bi', K, force_s)      # [B,6]\n",
    "        return v\n",
    "\n",
    "        \n",
    "    #------------------------------------------------------------\n",
    "    def predict_velocity_total(self, X3b, force_s, mu=1.0):\n",
    "        return self.predict_two_body_from_triplet(X3b, force_s, mu) + \\\n",
    "               self.predict_velocity(X3b, force_s)\n",
    "        \n",
    "\n",
    "    def predict_two_body_from_triplet(self, X3b, force_s, mu=1.0):\n",
    "        \"\"\"\n",
    "        X3b: [B, 17] triplet features in notebook order\n",
    "        force_s: [B, 6] source force/torque in the lab frame (only s is nonzero)\n",
    "        Returns: [B, 6] predicted two-body velocity on t due to s only\n",
    "        \"\"\"\n",
    "        # Extract dvec_s = (x_s, y_s, z_s) which is target - source \n",
    "        # That's why the - sign\n",
    "        dvec_s = -1.0 * X3b[:, 0:3]                         # [B,3]\n",
    "\n",
    "        # Recover raw dist_s: centered + mean\n",
    "        dist_s_centered = X3b[:, self.dist_s_feat_loc]                  # col 'dist_s'\n",
    "        dist_s_raw = dist_s_centered + self.mean_dist_s\n",
    "\n",
    "        # Build 2-body inputs\n",
    "        min_dist_raw = dist_s_raw - 2.0              # [B]\n",
    "        r2 = (dist_s_raw - self.median_2b)**2\n",
    "        r4 = r2 * r2\n",
    "\n",
    "        X2b = torch.cat(\n",
    "            [dvec_s,\n",
    "             dist_s_raw.unsqueeze(1),\n",
    "             r2.unsqueeze(1),\n",
    "             r4.unsqueeze(1),\n",
    "             min_dist_raw.unsqueeze(1)],\n",
    "            dim=1\n",
    "        ).to(device)                                    # [B, 7] (sphere case)\n",
    "\n",
    "        # Forces: only source on (s) is nonzero; target (t) = zeros\n",
    "        Fs_target = torch.zeros_like(force_s, device=device)  # [B,6]\n",
    "        Ft_source = force_s.to(device)                        # [B,6]\n",
    "\n",
    "        mu_tensor = torch.tensor(float(mu), dtype=torch.float32, device=device)\n",
    "        v2b = self.two_nn.predict_velocity(X2b, Fs_target, Ft_source, mu_tensor)  # [B,6]\n",
    "        return v2b\n",
    "\n",
    "    def make_residual_labels(self, X3b, force_s, y_total_3b, mu=1.0):\n",
    "        \"\"\"\n",
    "        y_total_3b: [B,6] ground truth velocity on t from 3-body solve (s active, k passive)\n",
    "        Returns residual labels: y_res = y_total_3b - v2b_pred\n",
    "        \"\"\"\n",
    "        v2b = self.predict_two_body_from_triplet(X3b, force_s, mu)\n",
    "        return y_total_3b.to(device) - v2b"
   ]
  },
  {
   "cell_type": "markdown",
   "id": "4ad3f2fd-28c5-4f7f-abb9-bc8f72fe0066",
   "metadata": {},
   "source": [
    "## Training"
   ]
  },
  {
   "cell_type": "code",
   "execution_count": 29,
   "id": "7da8a85e-3d86-4237-af02-8f889df44ef0",
   "metadata": {},
   "outputs": [
    {
     "data": {
      "text/plain": [
       "(154, 39424, 39520)"
      ]
     },
     "execution_count": 29,
     "metadata": {},
     "output_type": "execute_result"
    }
   ],
   "source": [
    "input_dim = train_dist_tensor.shape[1] - 33\n",
    "batch_size = 256\n",
    "epochs = 500 \n",
    "\n",
    "twob_path = \"../data/models/two_body_combined_model.pt\"\n",
    "median_2b = 5.008307682776568 #copied from 2b training notebook\n",
    "model = MultiBodyCorrection(input_dim, twob_path,median_2b, mean_dist_s, dist_s_col_idx).to(device)\n",
    "\n",
    "\n",
    "optimizer = torch.optim.Adam(model.parameters(), lr=0.001)\n",
    "#scheduler = torch.optim.lr_scheduler.StepLR(optimizer, step_size=50, gamma=0.50)\n",
    "scheduler = torch.optim.lr_scheduler.CosineAnnealingLR(optimizer, T_max=epochs)\n",
    "\n",
    "\n",
    "#criterion = nn.MSELoss()\n",
    "criterion = nn.L1Loss()\n",
    "\n",
    "n_batches = train_velocity_tensor.shape[0]//batch_size\n",
    "n_batches, n_batches*batch_size, len(train_dist_tensor)"
   ]
  },
  {
   "cell_type": "code",
   "execution_count": 30,
   "id": "8f08658a-d9d5-4a14-bd94-ab5829b02906",
   "metadata": {},
   "outputs": [
    {
     "data": {
      "text/plain": [
       "(tensor(0.18148, device='cuda:0'), tensor(0.03222, device='cuda:0'))"
      ]
     },
     "execution_count": 30,
     "metadata": {},
     "output_type": "execute_result"
    }
   ],
   "source": [
    "def shuffle_tensors(*tensors):\n",
    "    \"\"\" Shuffles multiple tensors in the same order \"\"\"\n",
    "    indices = torch.randperm(tensors[0].size(0),device=device)  # Generate random indices\n",
    "    return tuple(tensor[indices] for tensor in tensors)\n",
    "\n",
    "with torch.no_grad():\n",
    "    y_residual = model.make_residual_labels(\n",
    "        train_dist_tensor, \n",
    "        train_force_tensor, \n",
    "        train_velocity_tensor, mu=1.0)\n",
    "\n",
    "torch.abs(y_residual[:,:3]).mean(), torch.abs(y_residual[:,3:]).mean()"
   ]
  },
  {
   "cell_type": "code",
   "execution_count": 14,
   "id": "fbfb3db7-f365-4300-8e36-d46943553478",
   "metadata": {
    "scrolled": true
   },
   "outputs": [
    {
     "name": "stdout",
     "output_type": "stream",
     "text": [
      "Epoch 0, Loss: 0.08302931470627134\n",
      "Epoch 5, Loss: 0.009402595215489144\n",
      "Epoch 10, Loss: 0.007922021215539667\n",
      "Epoch 15, Loss: 0.006341242730351431\n",
      "Epoch 20, Loss: 0.005535019464887582\n",
      "Epoch 25, Loss: 0.006192900173898254\n",
      "Epoch 30, Loss: 0.006196948681510501\n",
      "Epoch 35, Loss: 0.00866466771823342\n",
      "Epoch 40, Loss: 0.004322752680073118\n",
      "Epoch 45, Loss: 0.0067696045969262136\n",
      "Epoch 50, Loss: 0.005000406191321452\n",
      "Epoch 55, Loss: 0.004572056324596142\n",
      "Epoch 60, Loss: 0.00413545375907576\n",
      "Epoch 65, Loss: 0.007029713067988103\n",
      "Epoch 70, Loss: 0.005887568423330977\n",
      "Epoch 75, Loss: 0.003833418766447863\n",
      "Epoch 80, Loss: 0.004210708703688503\n",
      "Epoch 85, Loss: 0.005424040994098918\n",
      "Epoch 90, Loss: 0.004277769139024441\n",
      "Epoch 95, Loss: 0.004038151389882936\n",
      "Epoch 100, Loss: 0.0035952961559153414\n",
      "Epoch 105, Loss: 0.004440580258847444\n",
      "Epoch 110, Loss: 0.003876691213929905\n",
      "Epoch 115, Loss: 0.0037976125884172205\n",
      "Epoch 120, Loss: 0.004240049728095628\n",
      "Epoch 125, Loss: 0.003525847077744638\n",
      "Epoch 130, Loss: 0.0035915715172403044\n",
      "Epoch 135, Loss: 0.0035461585246050705\n",
      "Epoch 140, Loss: 0.00371473414714557\n",
      "Epoch 145, Loss: 0.0035105155003801376\n",
      "Epoch 150, Loss: 0.0036430865489914047\n",
      "Epoch 155, Loss: 0.0034990858561782675\n",
      "Epoch 160, Loss: 0.0036815688930234157\n",
      "Epoch 165, Loss: 0.003484838708703007\n",
      "Epoch 170, Loss: 0.00380250997387792\n",
      "Epoch 175, Loss: 0.00327039218066236\n",
      "Epoch 180, Loss: 0.0033687628962873637\n",
      "Epoch 185, Loss: 0.0033454317614653862\n",
      "Epoch 190, Loss: 0.0032331656313852055\n",
      "Epoch 195, Loss: 0.003363289620860347\n",
      "Epoch 200, Loss: 0.003325641840127865\n",
      "Epoch 205, Loss: 0.0032481178595962657\n",
      "Epoch 210, Loss: 0.0032056888441446348\n",
      "Epoch 215, Loss: 0.0031504687360282262\n",
      "Epoch 220, Loss: 0.003158623491740459\n",
      "Epoch 225, Loss: 0.0032121137861017284\n",
      "Epoch 230, Loss: 0.003144446332551926\n",
      "Epoch 235, Loss: 0.003224054254688226\n",
      "Epoch 240, Loss: 0.0031430266643330067\n",
      "Epoch 245, Loss: 0.0031427904591569073\n",
      "Epoch 250, Loss: 0.0031385815705402523\n",
      "Epoch 255, Loss: 0.0030944413783681856\n",
      "Epoch 260, Loss: 0.003128432736780446\n",
      "Epoch 265, Loss: 0.0030910167676795807\n",
      "Epoch 270, Loss: 0.003080348472123022\n",
      "Epoch 275, Loss: 0.0030903491076662557\n",
      "Epoch 280, Loss: 0.00302772334317205\n",
      "Epoch 285, Loss: 0.0030458976315068348\n",
      "Epoch 290, Loss: 0.0030290764898618125\n",
      "Epoch 295, Loss: 0.0030144686121251676\n",
      "Epoch 300, Loss: 0.0030092607817745636\n",
      "Epoch 305, Loss: 0.0030194801042557925\n",
      "Epoch 310, Loss: 0.0029798141701824284\n",
      "Epoch 315, Loss: 0.003007823247583462\n",
      "Epoch 320, Loss: 0.0029460759304294534\n",
      "Epoch 325, Loss: 0.002944759968607747\n",
      "Epoch 330, Loss: 0.002942026366007986\n",
      "Epoch 335, Loss: 0.0029181973530923006\n",
      "Epoch 340, Loss: 0.0029351031075098683\n",
      "Epoch 345, Loss: 0.002910831959785095\n",
      "Epoch 350, Loss: 0.0029115610175415294\n",
      "Epoch 355, Loss: 0.002901230648450263\n",
      "Epoch 360, Loss: 0.002900975727621321\n",
      "Epoch 365, Loss: 0.0028912152871247623\n",
      "Epoch 370, Loss: 0.0028733562786954566\n",
      "Epoch 375, Loss: 0.0028708434328074\n",
      "Epoch 380, Loss: 0.002862988438989435\n",
      "Epoch 385, Loss: 0.0028711674695640994\n",
      "Epoch 390, Loss: 0.0028584237322332217\n",
      "Epoch 395, Loss: 0.002862709571377604\n",
      "Epoch 400, Loss: 0.002848826400185754\n",
      "Epoch 405, Loss: 0.0028526330602585107\n",
      "Epoch 410, Loss: 0.0028510043055859284\n",
      "Epoch 415, Loss: 0.002834375622658083\n",
      "Epoch 420, Loss: 0.0028338180159448415\n",
      "Epoch 425, Loss: 0.0028310873388469994\n",
      "Epoch 430, Loss: 0.0028291856613034357\n",
      "Epoch 435, Loss: 0.0028260315710968978\n",
      "Epoch 440, Loss: 0.002823850566327765\n",
      "Epoch 445, Loss: 0.0028203538915311747\n",
      "Epoch 450, Loss: 0.0028152800416090078\n",
      "Epoch 455, Loss: 0.0028132751263532933\n",
      "Epoch 460, Loss: 0.002814417407098045\n",
      "Epoch 465, Loss: 0.0028115897394063605\n",
      "Epoch 470, Loss: 0.0028093407299466335\n",
      "Epoch 475, Loss: 0.0028073706531098913\n",
      "Epoch 480, Loss: 0.0028070417964564903\n",
      "Epoch 485, Loss: 0.002805258551092407\n",
      "Epoch 490, Loss: 0.002805045827037909\n",
      "Epoch 495, Loss: 0.002803711547189719\n"
     ]
    }
   ],
   "source": [
    "losses = []\n",
    "data_losses, spsd_losses = [], []\n",
    "for epoch in range(epochs):\n",
    "    model.train()\n",
    "    avg = 0\n",
    "    avg_data, avg_spsd = 0, 0\n",
    "    \n",
    "    train_dist_tensor, train_force_tensor, y_residual = shuffle_tensors(\n",
    "        train_dist_tensor, train_force_tensor, y_residual\n",
    "    )\n",
    "    for it in range(n_batches):\n",
    "        optimizer.zero_grad()\n",
    "        \n",
    "        indices = torch.arange(it*batch_size, (it+1)*batch_size, dtype=torch.int).cuda()\n",
    "        \n",
    "        X = train_dist_tensor[indices]  \n",
    "        force_s = train_force_tensor[indices]         \n",
    "        Y = y_residual[indices]  \n",
    "\n",
    "        Y_b = model.predict_velocity(X, force_s)\n",
    "        loss = criterion(Y_b, Y)\n",
    "        \n",
    "        loss.backward()\n",
    "        avg += loss.item()\n",
    "        avg_data += 0 #data_loss.item()\n",
    "        #avg_spsd += spsd_loss.item()\n",
    "        optimizer.step()\n",
    "        \n",
    "\n",
    "    scheduler.step()\n",
    "    if epoch%5==0:\n",
    "        print(f'Epoch {epoch}, Loss: {avg/n_batches}')\n",
    "        losses.append(avg/n_batches)\n",
    "        data_losses.append(avg_data/n_batches)\n",
    "        spsd_losses.append(avg_spsd/n_batches)\n",
    "\n",
    "torch.save(model.state_dict(), \"nbody_cross_tmp.wt\")"
   ]
  },
  {
   "cell_type": "code",
   "execution_count": 15,
   "id": "713f707a-a7e4-44ff-a036-e01cc42cd1b0",
   "metadata": {},
   "outputs": [
    {
     "data": {
      "text/plain": [
       "(torch.Size([256, 6]), torch.Size([256, 6]))"
      ]
     },
     "execution_count": 15,
     "metadata": {},
     "output_type": "execute_result"
    }
   ],
   "source": [
    "Y.shape, Y_b.shape"
   ]
  },
  {
   "cell_type": "markdown",
   "id": "7a572703-2038-451a-863e-0e06a7371aac",
   "metadata": {},
   "source": [
    "## Evaluation"
   ]
  },
  {
   "cell_type": "code",
   "execution_count": 31,
   "id": "24b0ae8e-34f3-4b8f-abb3-7a95ecb98a9b",
   "metadata": {},
   "outputs": [],
   "source": [
    "model = MultiBodyCorrection(input_dim, twob_path,median_2b, mean_dist_s, dist_s_col_idx).to(device)\n",
    "model.load_state_dict(torch.load(\"nbody_cross_tmp.wt\", weights_only=True))\n",
    "model.eval()\n",
    "\n",
    "with torch.no_grad():\n",
    "    val_output = model.predict_velocity_total(val_dist_tensor, val_force_tensor)"
   ]
  },
  {
   "cell_type": "code",
   "execution_count": 32,
   "id": "929fe0b9-0971-485e-9f06-cd115a1a3db0",
   "metadata": {},
   "outputs": [
    {
     "data": {
      "text/plain": [
       "(tensor([-0.072839, -0.191746,  0.002619,  0.024601, -0.002286,  0.039469],\n",
       "        device='cuda:0'),\n",
       " tensor([-0.031309, -0.167421,  0.067596, -0.016968, -0.005944, -0.028190],\n",
       "        device='cuda:0'))"
      ]
     },
     "execution_count": 32,
     "metadata": {},
     "output_type": "execute_result"
    }
   ],
   "source": [
    "torch.set_printoptions(sci_mode=False, precision=6)\n",
    "jj = 182\n",
    "val_output[jj], val_velocity_tensor[jj]"
   ]
  },
  {
   "cell_type": "code",
   "execution_count": 33,
   "id": "8e5b3b24-b30c-44d6-b39e-9834bd39d261",
   "metadata": {},
   "outputs": [
    {
     "data": {
      "text/plain": [
       "(tensor([-0.120898,  0.205732,  0.022661, -0.014257, -0.006221,  0.016241],\n",
       "        device='cuda:0'),\n",
       " tensor([-0.128904,  0.178200, -0.012142,  0.010935,  0.008327, -0.027558],\n",
       "        device='cuda:0'))"
      ]
     },
     "execution_count": 33,
     "metadata": {},
     "output_type": "execute_result"
    }
   ],
   "source": [
    "torch.set_printoptions(sci_mode=False, precision=6)\n",
    "jj = 1122\n",
    "val_output[jj], val_velocity_tensor[jj]"
   ]
  },
  {
   "cell_type": "code",
   "execution_count": 34,
   "id": "395a9ab0-57ab-438e-869a-fdf31f5e0e11",
   "metadata": {},
   "outputs": [
    {
     "name": "stdout",
     "output_type": "stream",
     "text": [
      "Root Mean Squared error for each of 6 output variables:\n",
      " tensor([0.063033, 0.063003, 0.063448, 0.064095, 0.062753, 0.063629],\n",
      "       device='cuda:0')\n",
      "Actual Magnitude:\n",
      "  tensor([0.126439, 0.125425, 0.127227, 0.020356, 0.020114, 0.020053],\n",
      "       device='cuda:0')\n",
      "RMSE: tensor(0.063329, device='cuda:0')\n"
     ]
    }
   ],
   "source": [
    "criterion = nn.MSELoss(reduction='none') \n",
    "err = criterion(val_output, val_velocity_tensor)\n",
    "\n",
    "rmse = torch.sqrt(err.mean(axis=0))\n",
    "\n",
    "print(\"Root Mean Squared error for each of 6 output variables:\\n\", rmse)\n",
    "print(\"Actual Magnitude:\\n \", torch.abs(val_velocity_tensor).mean(axis=0))\n",
    "print(\"RMSE:\", err.mean()**.5)"
   ]
  },
  {
   "cell_type": "code",
   "execution_count": 35,
   "id": "201df8a3-8808-4a9a-8727-bbdc9eac942f",
   "metadata": {},
   "outputs": [
    {
     "data": {
      "text/plain": [
       "tensor([ 26.595634,  26.170206,  26.249388, 201.617050, 200.074982, 201.198669],\n",
       "       device='cuda:0')"
      ]
     },
     "execution_count": 35,
     "metadata": {},
     "output_type": "execute_result"
    }
   ],
   "source": [
    "#### Mean Relative Absolute Error\n",
    "valid_mask = torch.abs(val_velocity_tensor) > 1e-6\n",
    "\n",
    "filtered_y_tensor = torch.where(valid_mask, val_velocity_tensor, torch.tensor(float('nan')))\n",
    "relative_error = torch.abs((val_output - filtered_y_tensor) / filtered_y_tensor)\n",
    "\n",
    "a,_ = torch.nanmedian(relative_error, dim=0)\n",
    "a*100"
   ]
  },
  {
   "cell_type": "code",
   "execution_count": 36,
   "id": "1d5b160a-a023-4da1-b785-91839b03ed5b",
   "metadata": {},
   "outputs": [
    {
     "data": {
      "text/plain": [
       "tensor([181.822845, 127.157532, 200.292679, 509.771790, 387.793030, 493.140594],\n",
       "       device='cuda:0')"
      ]
     },
     "execution_count": 36,
     "metadata": {},
     "output_type": "execute_result"
    }
   ],
   "source": [
    "a = torch.nanmean(relative_error, dim=0)\n",
    "a*100"
   ]
  },
  {
   "cell_type": "code",
   "execution_count": 37,
   "id": "87e10e3b-1c51-489b-a034-7650700381cd",
   "metadata": {},
   "outputs": [
    {
     "data": {
      "text/plain": [
       "tensor([ 49.852661,  50.231926,  49.869953, 314.869171, 311.978363, 317.299835],\n",
       "       device='cuda:0')"
      ]
     },
     "execution_count": 37,
     "metadata": {},
     "output_type": "execute_result"
    }
   ],
   "source": [
    "100*rmse/torch.abs(val_velocity_tensor).mean(axis=0)"
   ]
  },
  {
   "cell_type": "markdown",
   "id": "4f74b4e1-7beb-48cd-966e-af465fef1ecd",
   "metadata": {},
   "source": [
    "### Just residuals"
   ]
  },
  {
   "cell_type": "code",
   "execution_count": 38,
   "id": "9636f63b-f03d-4ce3-b83d-d07c85ea9e28",
   "metadata": {},
   "outputs": [
    {
     "name": "stdout",
     "output_type": "stream",
     "text": [
      "Root Mean Squared error for each of 6 output variables:\n",
      " tensor([0.063033, 0.063003, 0.063448, 0.064095, 0.062753, 0.063629],\n",
      "       device='cuda:0')\n",
      "Res Magnitude:\n",
      "  tensor([0.040619, 0.040238, 0.040472, 0.040617, 0.039631, 0.039750],\n",
      "       device='cuda:0')\n",
      "RMSE: tensor(0.063329, device='cuda:0')\n"
     ]
    },
    {
     "data": {
      "text/plain": [
       "tensor([0.126439, 0.125425, 0.127227, 0.020356, 0.020114, 0.020053],\n",
       "       device='cuda:0')"
      ]
     },
     "execution_count": 38,
     "metadata": {},
     "output_type": "execute_result"
    }
   ],
   "source": [
    "with torch.no_grad():\n",
    "    res_y = model.make_residual_labels(val_dist_tensor, val_force_tensor, val_velocity_tensor)\n",
    "    v2b = model.predict_two_body_from_triplet(val_dist_tensor, val_force_tensor)\n",
    "    res_yp_pred = model.predict_velocity(val_dist_tensor, val_force_tensor)\n",
    "\n",
    "criterion = nn.MSELoss(reduction='none') \n",
    "err = criterion(res_yp_pred, res_y)\n",
    "\n",
    "criterion = nn.L1Loss(reduction='none') \n",
    "errl1 = criterion(res_yp_pred, res_y)\n",
    "\n",
    "rmse = torch.sqrt(err.mean(axis=0))\n",
    "\n",
    "print(\"Root Mean Squared error for each of 6 output variables:\\n\", rmse)\n",
    "print(\"Res Magnitude:\\n \", torch.abs(res_y).mean(axis=0))\n",
    "print(\"RMSE:\", err.mean()**.5)\n",
    "\n",
    "torch.abs(val_velocity_tensor).mean(axis=0)"
   ]
  },
  {
   "cell_type": "code",
   "execution_count": 39,
   "id": "529b2b63-554a-41c1-832c-3801fca3890f",
   "metadata": {},
   "outputs": [
    {
     "data": {
      "text/plain": [
       "(tensor([-0.03131, -0.16742,  0.06760, -0.01697, -0.00594, -0.02819],\n",
       "        device='cuda:0'),\n",
       " tensor([-0.07325, -0.19115,  0.00757,  0.02252, -0.00300,  0.03615],\n",
       "        device='cuda:0'),\n",
       " tensor([ 0.04194,  0.02372,  0.06002, -0.03949, -0.00294, -0.06434],\n",
       "        device='cuda:0'),\n",
       " tensor([ 0.00041, -0.00060, -0.00495,  0.00208,  0.00072,  0.00332],\n",
       "        device='cuda:0'),\n",
       " tensor([0.04153, 0.02432, 0.06498, 0.04157, 0.00366, 0.06766], device='cuda:0'))"
      ]
     },
     "execution_count": 39,
     "metadata": {},
     "output_type": "execute_result"
    }
   ],
   "source": [
    "torch.set_printoptions(sci_mode=False, precision=5)\n",
    "jj = 182\n",
    "val_velocity_tensor[jj], v2b[jj],  res_y[jj], res_yp_pred[jj], errl1[jj]"
   ]
  },
  {
   "cell_type": "code",
   "execution_count": null,
   "id": "3a657fe8-28b9-4089-be70-626c8f5dac69",
   "metadata": {},
   "outputs": [],
   "source": []
  },
  {
   "cell_type": "code",
   "execution_count": 40,
   "id": "7b1b9a2f-fbd7-43b1-9bed-357a05cc371d",
   "metadata": {},
   "outputs": [],
   "source": [
    "save_model = False\n",
    "if save_model:\n",
    "    scripted_model = torch.jit.script(model)\n",
    "    scripted_model.save(\"../data/models/nbody_pinn_b1.pt\")"
   ]
  },
  {
   "cell_type": "markdown",
   "id": "a7364f0c-2115-45cd-b3b4-1f1b999abeaa",
   "metadata": {},
   "source": [
    "## Diagnosis"
   ]
  },
  {
   "cell_type": "code",
   "execution_count": null,
   "id": "826ca11b-fc6f-48a4-98a4-72522e5d6cd4",
   "metadata": {},
   "outputs": [],
   "source": []
  },
  {
   "cell_type": "code",
   "execution_count": 26,
   "id": "13994d16-84fc-4110-91b4-1c9a1b0e299e",
   "metadata": {},
   "outputs": [
    {
     "data": {
      "image/png": "[encoded data removed]",
      "text/plain": [
       "<Figure size 640x480 with 1 Axes>"
      ]
     },
     "metadata": {},
     "output_type": "display_data"
    }
   ],
   "source": [
    "# No of spheres vs error\n",
    "\n",
    "from collections import defaultdict\n",
    "import matplotlib.pyplot as plt\n",
    "\n",
    "err_nk = defaultdict(list)\n",
    "\n",
    "for i in range(len(err)):\n",
    "    nk = int(val_dist_tensor[i, -10:].sum().item())\n",
    "    err_nk[nk].append(torch.sqrt(err[i].mean()).item())\n",
    "\n",
    "for nk in err_nk:\n",
    "    err_nk[nk] = sum(err_nk[nk])/len(err_nk[nk])\n",
    "\n",
    "err_nk = sorted(err_nk.items())\n",
    "plt.bar([x[0] for x in err_nk], [x[1] for x in err_nk]);"
   ]
  },
  {
   "cell_type": "code",
   "execution_count": 27,
   "id": "515383f0-fb14-4cce-af3c-0c64c21749a2",
   "metadata": {},
   "outputs": [
    {
     "data": {
      "text/plain": [
       "[(1, 0.0015378093695457057),\n",
       " (2, 0.002293767604616288),\n",
       " (3, 0.003162344889942697),\n",
       " (4, 0.0035341756980067636),\n",
       " (5, 0.004002709433923065),\n",
       " (6, 0.004117278042488108),\n",
       " (7, 0.0045464700273745015),\n",
       " (8, 0.00455587785817199),\n",
       " (9, 0.004821915574411433),\n",
       " (10, 0.005172282500462258)]"
      ]
     },
     "execution_count": 27,
     "metadata": {},
     "output_type": "execute_result"
    }
   ],
   "source": [
    "err_nk"
   ]
  },
  {
   "cell_type": "code",
   "execution_count": null,
   "id": "632a8f17-f9c1-4b2f-8a7b-e6493fa8e129",
   "metadata": {},
   "outputs": [],
   "source": [
    "\n",
    "\n",
    "\n",
    "\n",
    "\n",
    "\n",
    "\n",
    "\n",
    "\n",
    "\n",
    "\n",
    "\n"
   ]
  }
 ],
 "metadata": {
  "kernelspec": {
   "display_name": "Python 3 (ipykernel)",
   "language": "python",
   "name": "python3"
  },
  "language_info": {
   "codemirror_mode": {
    "name": "ipython",
    "version": 3
   },
   "file_extension": ".py",
   "mimetype": "text/x-python",
   "name": "python",
   "nbconvert_exporter": "python",
   "pygments_lexer": "ipython3",
   "version": "3.12.2"
  }
 },
 "nbformat": 4,
 "nbformat_minor": 5
}
