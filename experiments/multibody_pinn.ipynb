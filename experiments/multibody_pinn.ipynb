{
 "cells": [
  {
   "cell_type": "code",
   "execution_count": 1,
   "id": "277dd928-28ad-4ad4-8606-a674db3bb4e4",
   "metadata": {},
   "outputs": [],
   "source": [
    "import numpy as np\n",
    "import os\n",
    "import seaborn as sns\n",
    "import matplotlib.pyplot as plt\n",
    "import pandas as pd\n",
    "from scipy.spatial.transform import Rotation\n",
    "from scipy.spatial.distance import pdist\n",
    "from sklearn.preprocessing import *\n",
    "import torch\n",
    "import torch.nn as nn\n",
    "import torch.nn.functional as F\n",
    "\n",
    "import sys\n",
    "\n",
    "sys.path.append(\"/home/shihab/repo/src\")\n",
    "from analysis_utils import convert_to_tensors, shuffle_and_split\n",
    "\n",
    "torch.manual_seed(411)\n",
    "np.random.seed(41)\n",
    "\n",
    "device = torch.device(\"cuda\" if torch.cuda.is_available() else \"cpu\")\n",
    "torch.set_default_device(device)"
   ]
  },
  {
   "cell_type": "markdown",
   "id": "c25c8cd8-f42b-4622-aca4-ae79b803879f",
   "metadata": {},
   "source": [
    "Oct 08"
   ]
  },
  {
   "cell_type": "code",
   "execution_count": 2,
   "id": "9a42190f-fa74-4018-a134-3d7d452109fa",
   "metadata": {},
   "outputs": [
    {
     "name": "stdout",
     "output_type": "stream",
     "text": [
      "49400\n",
      "(49400, 47)\n"
     ]
    },
    {
     "data": {
      "text/plain": [
       "((49400, 47),\n",
       " Index(['x_s', 'y_s', 'z_s', 'f_x_s', 'f_y_s', 'f_z_s', 'tor_x_s', 'tor_y_s',\n",
       "        'tor_z_s', 'x_k_0', 'y_k_0', 'z_k_0', 'x_k_1', 'y_k_1', 'z_k_1',\n",
       "        'x_k_2', 'y_k_2', 'z_k_2', 'x_k_3', 'y_k_3', 'z_k_3', 'x_k_4', 'y_k_4',\n",
       "        'z_k_4', 'x_k_5', 'y_k_5', 'z_k_5', 'x_k_6', 'y_k_6', 'z_k_6', 'x_k_7',\n",
       "        'y_k_7', 'z_k_7', 'x_k_8', 'y_k_8', 'z_k_8', 'x_k_9', 'y_k_9', 'z_k_9',\n",
       "        'vel_x', 'vel_y', 'vel_z', 'angvel_x', 'angvel_y', 'angvel_z', 'dist_s',\n",
       "        'min_dist_s'],\n",
       "       dtype='object'))"
      ]
     },
     "execution_count": 2,
     "metadata": {},
     "output_type": "execute_result"
    }
   ],
   "source": [
    "root = \"../data/multibody\"\n",
    "times1 = [f for f in os.listdir(root) if f.startswith(\"X_sphere_\")]\n",
    "times1 = set([(root, f[9:-4]) for f in times1])\n",
    "\n",
    "root = \"../data/multibody_new/\"\n",
    "times2 = [f for f in os.listdir(root) if f.startswith(\"X_sphere_\")]\n",
    "times2 = set([(root, f[9:-4]) for f in times2])\n",
    "\n",
    "times = times1 | times2\n",
    "\n",
    "xs, ys, counts = [], [], []\n",
    "for root, file in times:\n",
    "    x = np.load(f\"{root}/X_sphere_{file}.npy\", allow_pickle=True)\n",
    "    y = np.load(f\"{root}/Y_sphere_{file}.npy\")\n",
    "    cnts = np.load(f\"{root}/neighbors_{file}.npy\")\n",
    "    xs.append(x)\n",
    "    ys.append(y)\n",
    "    counts.append(cnts)\n",
    "\n",
    "X_ragged = np.concatenate(xs, axis=0)\n",
    "Y = np.concatenate(ys, axis=0)\n",
    "neighbor_counts = np.concatenate(counts, axis=0)\n",
    "\n",
    "N = len(Y)\n",
    "print(N)\n",
    "MAX_NEIGHBORS=10\n",
    "\n",
    "X = np.zeros((N,11+MAX_NEIGHBORS*3), dtype=np.float64)\n",
    "for i in range(N):\n",
    "    nk = neighbor_counts[i]\n",
    "    X[i, 0:11+nk*3] = X_ragged[i].copy()\n",
    "\n",
    "XY = np.hstack([X, Y])          # shape: (total_rows, 16)\n",
    "print(XY.shape)\n",
    "\n",
    "#sanity check\n",
    "for i in range(N):\n",
    "    nk = neighbor_counts[i]\n",
    "    pos = np.zeros(((nk+2), 3), dtype=np.float64)\n",
    "    pos[0] = np.zeros((3,)) #target\n",
    "    pos[1] = X[i, :3] #src\n",
    "    pos[2:,:] = X[i, 11:11+nk*3].reshape((nk, 3))\n",
    "    dd = pdist(pos)\n",
    "    assert np.all(dd>2.02)\n",
    "\n",
    "s_cols = [\"x_s\", \"y_s\", \"z_s\", \"dist_s\", \"min_dist_s\", \n",
    "          \"f_x_s\", \"f_y_s\", \"f_z_s\", \"tor_x_s\", \"tor_y_s\", \"tor_z_s\"]\n",
    "k_cols = []\n",
    "for i in range(10):\n",
    "    k_cols.append(f\"x_k_{i}\")\n",
    "    k_cols.append(f\"y_k_{i}\")\n",
    "    k_cols.append(f\"z_k_{i}\")\n",
    "y_cols = [\"vel_x\", \"vel_y\", \"vel_z\", \"angvel_x\", \"angvel_y\", \"angvel_z\"]\n",
    "column_names = s_cols + k_cols + y_cols\n",
    "\n",
    "df = pd.DataFrame(XY, columns=column_names)\n",
    "\n",
    "cols_to_move = ['dist_s', 'min_dist_s'] #move them to the end\n",
    "new_cols = [col for col in df.columns if col not in cols_to_move] + cols_to_move\n",
    "df = df[new_cols]\n",
    "\n",
    "df.shape, df.columns"
   ]
  },
  {
   "cell_type": "code",
   "execution_count": 3,
   "id": "03babac2-b43e-47a4-adaa-d6892645459d",
   "metadata": {},
   "outputs": [],
   "source": [
    "mean_dist_s = df['dist_s'].mean()\n",
    "df['dist_s'] -= mean_dist_s\n",
    "df['dist_s_sq'] = df['dist_s']**2\n",
    "df['dist_s_sqsq'] = df['dist_s_sq']**2\n",
    "\n",
    "origin = np.array([0.0, 0.0, 0.0])\n",
    "# df['x_s'] = origin[0] - df['x_s']\n",
    "# df['y_s'] = origin[1] - df['y_s']\n",
    "# df['z_s'] = origin[2] - df['z_s']"
   ]
  },
  {
   "cell_type": "code",
   "execution_count": 4,
   "id": "c07f84b3-3118-4f20-9089-3e699c63c625",
   "metadata": {},
   "outputs": [],
   "source": [
    "FEATURE_NAMES = ['r_sk','r_kt','u_over_ell','rho_over_ell',\n",
    "                 'inv_r_sk','inv_r_kt','cos_a','cos_b']\n",
    "\n",
    "K: int = 10\n",
    "eps: float = 1e-9\n",
    "\n",
    "# --- s, t, geometry setup ---\n",
    "s = df[['x_s', 'y_s', 'z_s']].to_numpy(dtype=np.float64)  # (N,3)\n",
    "N = s.shape[0]\n",
    "t = np.zeros_like(s)                                       # (N,3)  (change if you have t columns)\n",
    "ell = np.linalg.norm(s - t, axis=1, keepdims=True)         # (N,1)\n",
    "ell = np.clip(ell, eps, None)\n",
    "zhat = (s - t) / ell                                       # (N,3)\n",
    "m = 0.5 * (s + t)                                          # (N,3)\n",
    "\n",
    "# --- neighbors as (N, K, 3) ---\n",
    "ks = np.empty((N, K, 3), dtype=np.float64)\n",
    "for i in range(K):\n",
    "    ks[:, i, 0] = df.get(f'x_k_{i}', 0.0)\n",
    "    ks[:, i, 1] = df.get(f'y_k_{i}', 0.0)\n",
    "    ks[:, i, 2] = df.get(f'z_k_{i}', 0.0)\n",
    "\n",
    "# padded neighbors are all-zeros\n",
    "k_mask = np.any(ks != 0.0, axis=2)                         # (N,K) booleans\n",
    "\n",
    "# --- distances ---\n",
    "r_sk = np.linalg.norm(ks - s[:, None, :], axis=2)          # (N,K)\n",
    "r_kt = np.linalg.norm(ks - t[:, None, :], axis=2)          # (N,K)\n",
    "r_sk_c = np.clip(r_sk, eps, None)\n",
    "r_kt_c = np.clip(r_kt, eps, None)\n",
    "\n",
    "# --- axial & radial relative to the s–t axis ---\n",
    "v = ks - m[:, None, :]                                     # (N,K,3)\n",
    "u = np.sum(v * zhat[:, None, :], axis=2)                   # (N,K)\n",
    "v_perp = v - u[..., None] * zhat[:, None, :]               # (N,K,3)\n",
    "rho = np.linalg.norm(v_perp, axis=2)                       # (N,K)\n",
    "\n",
    "u_over_ell   = u   / ell                                   # (N,K)\n",
    "rho_over_ell = rho / ell                                   # (N,K)\n",
    "inv_r_sk = 1.0 / r_sk_c\n",
    "inv_r_kt = 1.0 / r_kt_c\n",
    "\n",
    "# --- angles via law of cosines ---\n",
    "# cos_a = angle at t between (k−t) and (s−t)\n",
    "# cos_a = (r_kt^2 + ell^2 − r_sk^2) / (2 r_kt ell)\n",
    "ell_b = np.broadcast_to(ell, r_kt.shape)                   # (N,K)\n",
    "num_a = (r_kt**2 + ell_b**2 - r_sk**2)\n",
    "den_a = 2.0 * r_kt_c * ell_b\n",
    "cos_a = num_a / np.clip(den_a, eps, None)\n",
    "\n",
    "# cos_b = angle at s between (k−s) and (t−s)\n",
    "# cos_b = (r_sk^2 + ell^2 − r_kt^2) / (2 r_sk ell)\n",
    "num_b = (r_sk**2 + ell_b**2 - r_kt**2)\n",
    "den_b = 2.0 * r_sk_c * ell_b\n",
    "cos_b = num_b / np.clip(den_b, eps, None)\n",
    "\n",
    "# numeric hygiene\n",
    "cos_a = np.clip(cos_a, -1.0, 1.0)\n",
    "cos_b = np.clip(cos_b, -1.0, 1.0)\n",
    "\n",
    "# --- pack features as (N,K,8) and zero-out padded entries ---\n",
    "feats = np.stack(\n",
    "    [r_sk, r_kt, u_over_ell, rho_over_ell, inv_r_sk, inv_r_kt, cos_a, cos_b],\n",
    "    axis=2\n",
    ")                                                          # (N,K,8)\n",
    "feats[~k_mask] = 0.0\n",
    "\n",
    "# --- attach to DataFrame ---\n",
    "out = df.copy()\n",
    "\n",
    "flat = feats.reshape(N, K * feats.shape[2])\n",
    "wide_cols = [f'feat_{i}_{name}' for i in range(K) for name in FEATURE_NAMES]\n",
    "out[wide_cols] = flat\n",
    "\n",
    "for i in range(K):\n",
    "    out[f'mask_{i}'] = k_mask[:,i].astype(np.float64)\n",
    "\n",
    "# Drop original positions\n",
    "nk_pos_cols = ['x_k_0', 'y_k_0', 'z_k_0', 'x_k_1',\n",
    "        'y_k_1', 'z_k_1', 'x_k_2', 'y_k_2', 'z_k_2', 'x_k_3', 'y_k_3', 'z_k_3',\n",
    "        'x_k_4', 'y_k_4', 'z_k_4', 'x_k_5', 'y_k_5', 'z_k_5', 'x_k_6', 'y_k_6',\n",
    "        'z_k_6', 'x_k_7', 'y_k_7', 'z_k_7', 'x_k_8', 'y_k_8', 'z_k_8', 'x_k_9',\n",
    "        'y_k_9', 'z_k_9'] + ['min_dist_s']\n",
    "\n",
    "#out = out.drop(columns=nk_pos_cols)\n",
    "\n",
    "out.shape, list(out.columns);"
   ]
  },
  {
   "cell_type": "code",
   "execution_count": 5,
   "id": "1f3df922-1917-46ab-a62b-cdf462ea6bf0",
   "metadata": {},
   "outputs": [
    {
     "name": "stdout",
     "output_type": "stream",
     "text": [
      "Using features: ['x_s', 'y_s', 'z_s', 'x_k_0', 'y_k_0', 'z_k_0', 'x_k_1', 'y_k_1', 'z_k_1', 'x_k_2', 'y_k_2', 'z_k_2', 'x_k_3', 'y_k_3', 'z_k_3', 'x_k_4', 'y_k_4', 'z_k_4', 'x_k_5', 'y_k_5', 'z_k_5', 'x_k_6', 'y_k_6', 'z_k_6', 'x_k_7', 'y_k_7', 'z_k_7', 'x_k_8', 'y_k_8', 'z_k_8', 'x_k_9', 'y_k_9', 'z_k_9', 'dist_s', 'min_dist_s', 'dist_s_sq', 'dist_s_sqsq', 'feat_0_r_sk', 'feat_0_r_kt', 'feat_0_u_over_ell', 'feat_0_rho_over_ell', 'feat_0_inv_r_sk', 'feat_0_inv_r_kt', 'feat_0_cos_a', 'feat_0_cos_b', 'feat_1_r_sk', 'feat_1_r_kt', 'feat_1_u_over_ell', 'feat_1_rho_over_ell', 'feat_1_inv_r_sk', 'feat_1_inv_r_kt', 'feat_1_cos_a', 'feat_1_cos_b', 'feat_2_r_sk', 'feat_2_r_kt', 'feat_2_u_over_ell', 'feat_2_rho_over_ell', 'feat_2_inv_r_sk', 'feat_2_inv_r_kt', 'feat_2_cos_a', 'feat_2_cos_b', 'feat_3_r_sk', 'feat_3_r_kt', 'feat_3_u_over_ell', 'feat_3_rho_over_ell', 'feat_3_inv_r_sk', 'feat_3_inv_r_kt', 'feat_3_cos_a', 'feat_3_cos_b', 'feat_4_r_sk', 'feat_4_r_kt', 'feat_4_u_over_ell', 'feat_4_rho_over_ell', 'feat_4_inv_r_sk', 'feat_4_inv_r_kt', 'feat_4_cos_a', 'feat_4_cos_b', 'feat_5_r_sk', 'feat_5_r_kt', 'feat_5_u_over_ell', 'feat_5_rho_over_ell', 'feat_5_inv_r_sk', 'feat_5_inv_r_kt', 'feat_5_cos_a', 'feat_5_cos_b', 'feat_6_r_sk', 'feat_6_r_kt', 'feat_6_u_over_ell', 'feat_6_rho_over_ell', 'feat_6_inv_r_sk', 'feat_6_inv_r_kt', 'feat_6_cos_a', 'feat_6_cos_b', 'feat_7_r_sk', 'feat_7_r_kt', 'feat_7_u_over_ell', 'feat_7_rho_over_ell', 'feat_7_inv_r_sk', 'feat_7_inv_r_kt', 'feat_7_cos_a', 'feat_7_cos_b', 'feat_8_r_sk', 'feat_8_r_kt', 'feat_8_u_over_ell', 'feat_8_rho_over_ell', 'feat_8_inv_r_sk', 'feat_8_inv_r_kt', 'feat_8_cos_a', 'feat_8_cos_b', 'feat_9_r_sk', 'feat_9_r_kt', 'feat_9_u_over_ell', 'feat_9_rho_over_ell', 'feat_9_inv_r_sk', 'feat_9_inv_r_kt', 'feat_9_cos_a', 'feat_9_cos_b', 'mask_0', 'mask_1', 'mask_2', 'mask_3', 'mask_4', 'mask_5', 'mask_6', 'mask_7', 'mask_8', 'mask_9']\n"
     ]
    }
   ],
   "source": [
    "force_cols = [\n",
    "    'f_x_s', 'f_y_s', 'f_z_s', 'tor_x_s', 'tor_y_s', 'tor_z_s'    ]\n",
    "output_cols = [\n",
    "    'vel_x', 'vel_y', 'vel_z',\n",
    "    'angvel_x', 'angvel_y', 'angvel_z'\n",
    "]\n",
    "to_drop = force_cols + output_cols\n",
    "\n",
    "feature_cols = [col for col in list(out.columns) if col not in to_drop]\n",
    "print(\"Using features:\", feature_cols)\n",
    "\n",
    "dist_vec   = out[feature_cols].values\n",
    "force_vec  = out[force_cols].values\n",
    "output_vec = out[output_cols].values\n",
    "feat, force, vel = dist_vec, force_vec, output_vec"
   ]
  },
  {
   "cell_type": "code",
   "execution_count": 6,
   "id": "8ce2d674-7a71-4a94-b2a4-ee7dc8a05bcf",
   "metadata": {},
   "outputs": [
    {
     "data": {
      "text/plain": [
       "33"
      ]
     },
     "execution_count": 6,
     "metadata": {},
     "output_type": "execute_result"
    }
   ],
   "source": [
    "dist_s_col_idx = feature_cols.index('dist_s')\n",
    "dist_s_col_idx"
   ]
  },
  {
   "cell_type": "code",
   "execution_count": 7,
   "id": "af752aac-2478-46ba-ace2-06e401f56dbc",
   "metadata": {},
   "outputs": [
    {
     "data": {
      "text/plain": [
       "(torch.Size([39520, 127]), torch.Size([39520, 6]), torch.Size([9880, 127]))"
      ]
     },
     "execution_count": 7,
     "metadata": {},
     "output_type": "execute_result"
    }
   ],
   "source": [
    "feat, force, vel = convert_to_tensors(feat, force, vel)\n",
    "\n",
    "tmp = list(shuffle_and_split(df, feat, force, vel, split_frac=.8))\n",
    "train_idx, val_idx = tmp.pop()\n",
    "\n",
    "for i in range(len(tmp)):\n",
    "    tmp[i] = tmp[i].to(device)\n",
    "\n",
    "(train_dist_tensor, val_dist_tensor, \n",
    "    train_force_tensor, val_force_tensor, \n",
    "    train_velocity_tensor, val_velocity_tensor) = tmp\n",
    "\n",
    "train_dist_tensor.shape, train_force_tensor.shape, val_dist_tensor.shape"
   ]
  },
  {
   "cell_type": "markdown",
   "id": "1b18d611-b7f4-435c-9cdc-7d9a34977cde",
   "metadata": {},
   "source": [
    "## Model"
   ]
  },
  {
   "cell_type": "code",
   "execution_count": 8,
   "id": "183a4452-1f35-42b6-8156-a5182dc61275",
   "metadata": {},
   "outputs": [],
   "source": [
    "EPS = 1e-12\n",
    "\n",
    "def normalize(v): return v / (v.norm(dim=-1, keepdim=True) + EPS)\n",
    "\n",
    "def outer(u):      return torch.einsum('...i,...j->...ij', u, u)\n",
    "def sym_outer(u,v):return 0.5*(torch.einsum('...i,...j->...ij', u, v) +\n",
    "                               torch.einsum('...i,...j->...ij', v, u))\n",
    "\n",
    "def cross_mat(u):\n",
    "    ux, uy, uz = u.unbind(dim=-1)\n",
    "    O = torch.zeros(u.shape[:-1]+(3,3), device=u.device, dtype=u.dtype)\n",
    "    O[...,0,1], O[...,0,2] = -uz,  uy\n",
    "    O[...,1,0], O[...,1,2] =  uz, -ux\n",
    "    O[...,2,0], O[...,2,1] = -uy,  ux\n",
    "    return O\n",
    "\n",
    "def create_basis(pos_flat: torch.Tensor, mask: torch.Tensor):\n",
    "    \"\"\"\n",
    "    pos_flat: [B,33] = [x_s(3) | x_k1(3) | ... | x_k10(3)]\n",
    "    mask    : [B,10] = 1.0 if neighbor k is present else 0.0\n",
    "\n",
    "    Returns:\n",
    "      e    : [B,3] unit vector along s->t (target at origin ⇒ e = -x_s/||x_s||)\n",
    "      ghat : [B,3] pooled neighbor direction perpendicular to e (fallback if isotropic)\n",
    "    \"\"\"\n",
    "    B = pos_flat.shape[0]\n",
    "    assert pos_flat.shape[1] == 33\n",
    "    assert mask.shape==(B,10)\n",
    "    device = pos_flat.device\n",
    "    dtype  = pos_flat.dtype\n",
    "    eps    = 1e-12\n",
    "\n",
    "    pos = pos_flat.view(B, 11, 3)       # 1 (source) + 10 neighbors\n",
    "    x_s = pos[:, 0, :]                  # [B,3]\n",
    "    x_k = pos[:, 1:, :]                 # [B,10,3]\n",
    "\n",
    "    # e = unit vector from s to t (t at origin)\n",
    "    xs2 = (x_s * x_s).sum(dim=-1, keepdim=True)                  # [B,1]\n",
    "    e = -x_s / (xs2.sqrt() + eps)                                 # [B,3]\n",
    "\n",
    "    # Neighbor rel vectors and distances\n",
    "    r_sk = x_k - x_s.unsqueeze(1)       # [B,10,3]\n",
    "    r_kt = x_k                          # [B,10,3]\n",
    "    d_sk = (r_sk * r_sk).sum(dim=-1).sqrt() + eps                 # [B,10]\n",
    "    d_kt = (r_kt * r_kt).sum(dim=-1).sqrt() + eps                 # [B,10]\n",
    "\n",
    "    # Physics-inspired weights: w ~ 1/(r_sk * r_kt), masked\n",
    "    w = mask * (1.0 / d_sk) * (1.0 / d_kt)             # [B,10]\n",
    "\n",
    "    # Unit directions of r_sk\n",
    "    f = r_sk / d_sk.unsqueeze(-1)       # [B,10,3]\n",
    "\n",
    "    # First angular moment (vector sum) of neighbors\n",
    "    g = (w.unsqueeze(-1) * f).sum(dim=1)              # [B,3]\n",
    "\n",
    "    # Project g perpendicular to e and normalize → ghat\n",
    "    g_par  = (g * e).sum(dim=-1, keepdim=True)        # [B,1]\n",
    "    g_perp = g - g_par * e                            # [B,3]\n",
    "    gp2 = (g_perp * g_perp).sum(dim=-1, keepdim=True)             # [B,1]\n",
    "    ghat_raw = g_perp / (gp2.sqrt() + eps)                        # [B,3]\n",
    "\n",
    "    # Robust fallback if neighbors are isotropic or empty (||g_perp|| ~ 0)\n",
    "    ex = torch.zeros(B, 3, device=device, dtype=dtype); ex[:, 0] = 1.0\n",
    "    ez = torch.zeros(B, 3, device=device, dtype=dtype); ez[:, 2] = 1.0\n",
    "\n",
    "    alt1 = torch.cross(e, ex, dim=-1)                             # [B,3]\n",
    "    alt1n = (alt1 * alt1).sum(dim=-1, keepdim=True).sqrt()        # [B,1]\n",
    "    alt1 = alt1 / (alt1n + eps)\n",
    "\n",
    "    alt2 = torch.cross(e, ez, dim=-1)                             # [B,3]\n",
    "    alt2n = (alt2 * alt2).sum(dim=-1, keepdim=True).sqrt()        # [B,1]\n",
    "    alt2 = alt2 / (alt2n + eps)\n",
    "\n",
    "    pick_alt1 = (alt1n > 1e-6)                                    # [B,1] bool\n",
    "    pick_alt1_3 = pick_alt1.expand_as(alt1)                       # [B,3]\n",
    "    alt = torch.where(pick_alt1_3, alt1, alt2)                    # [B,3]\n",
    "\n",
    "    use_alt = (gp2 < 1e-16)                                       # [B,1] bool\n",
    "    use_alt_3 = use_alt.expand_as(ghat_raw)                       # [B,3]\n",
    "    ghat = torch.where(use_alt_3, alt, ghat_raw)                  # [B,3]\n",
    "\n",
    "    return e, ghat"
   ]
  },
  {
   "cell_type": "code",
   "execution_count": 9,
   "id": "a62f3590-12df-4692-b6db-6ecd9ed8f754",
   "metadata": {},
   "outputs": [],
   "source": [
    "class MultiBodyCorrection(nn.Module):\n",
    "    def __init__(self, input_dim, two_nn_path, median_2b, mean_dist_s, dist_s_feat_loc):\n",
    "        super().__init__()\n",
    "        self.net = nn.Sequential(\n",
    "            nn.Linear(input_dim, 128),\n",
    "            nn.Tanh(),\n",
    "            nn.Linear(128, 64),\n",
    "            nn.Tanh(),\n",
    "            nn.Linear(64, 128),\n",
    "            nn.Tanh(),\n",
    "            nn.Linear(128, 64),\n",
    "            nn.Tanh(),\n",
    "            nn.Linear(64, 10)\n",
    "        )\n",
    "        self.two_nn = torch.jit.load(two_nn_path, map_location=device).eval()\n",
    "        self.median_2b = median_2b\n",
    "        self.mean_dist_s = mean_dist_s\n",
    "        self.dist_s_feat_loc = dist_s_feat_loc\n",
    "\n",
    "    def forward(self, X):\n",
    "        return self.net(X)   \n",
    "\n",
    "    @torch.jit.export \n",
    "    def predict_velocity(self, X, force_s): \n",
    "        e, ghat = create_basis(X[:, :33], X[:,-10:]) \n",
    "        coeff = self.net(X[:,33:]) # [B,10] \n",
    "        \n",
    "        I  = torch.eye(3, device=e.device, dtype=e.dtype)[None,:,:].expand(e.shape[0],3,3)\n",
    "        ee = outer(e)                                   # [B,3,3]\n",
    "        gg = outer(ghat)                                # [B,3,3]\n",
    "        eg = sym_outer(e, ghat)                         # [B,3,3]\n",
    "        Xe = cross_mat(e)                               # [B,3,3]\n",
    "        Xg = cross_mat(ghat)                            # [B,3,3]\n",
    "\n",
    "        B0 = coeff[:,0][:,None,None]; B1 = coeff[:,1][:,None,None]\n",
    "        B2 = coeff[:,2][:,None,None]; B3 = coeff[:,3][:,None,None]\n",
    "        C0 = coeff[:,4][:,None,None]; C1 = coeff[:,5][:,None,None]\n",
    "        D0 = coeff[:,6][:,None,None]; D1 = coeff[:,7][:,None,None]\n",
    "        D2 = coeff[:,8][:,None,None]; D3 = coeff[:,9][:,None,None]\n",
    "\n",
    "        TT = B0*I + B1*ee + B2*gg + B3*eg\n",
    "        RT = C0*Xe + C1*Xg\n",
    "        RR = D0*I + D1*ee + D2*gg + D3*eg\n",
    "\n",
    "        K   = torch.zeros(e.shape[0],6,6, device=e.device, dtype=e.dtype)\n",
    "        K[:,:3,:3] = TT\n",
    "        K[:,3:,:3] = RT\n",
    "        K[:,:3,3:] = RT\n",
    "        K[:,3:,3:] = RR\n",
    "\n",
    "        v = torch.einsum('bij,bj->bi', K, force_s)      # [B,6]\n",
    "        return v\n",
    "\n",
    "        \n",
    "    #------------------------------------------------------------\n",
    "    def predict_velocity_total(self, X3b, force_s, mu=1.0):\n",
    "        return self.predict_two_body_from_triplet(X3b, force_s, mu) + \\\n",
    "               self.predict_velocity(X3b, force_s)\n",
    "        \n",
    "\n",
    "    def predict_two_body_from_triplet(self, X3b, force_s, mu=1.0):\n",
    "        \"\"\"\n",
    "        X3b: [B, 17] triplet features in notebook order\n",
    "        force_s: [B, 6] source force/torque in the lab frame (only s is nonzero)\n",
    "        Returns: [B, 6] predicted two-body velocity on t due to s only\n",
    "        \"\"\"\n",
    "        # Extract dvec_s = (x_s, y_s, z_s) which is target - source \n",
    "        # That's why the - sign\n",
    "        dvec_s = -1 * X3b[:, 0:3]                         # [B,3]\n",
    "\n",
    "        # Recover raw dist_s: centered + mean\n",
    "        dist_s_centered = X3b[:, self.dist_s_feat_loc]                  # col 'dist_s'\n",
    "        dist_s_raw = dist_s_centered + self.mean_dist_s\n",
    "\n",
    "        # Build 2-body inputs\n",
    "        min_dist_raw = dist_s_raw - 2.0              # [B]\n",
    "        r2 = (dist_s_raw - self.median_2b)**2\n",
    "        r4 = r2 * r2\n",
    "\n",
    "        X2b = torch.cat(\n",
    "            [dvec_s,\n",
    "             dist_s_raw.unsqueeze(1),\n",
    "             r2.unsqueeze(1),\n",
    "             r4.unsqueeze(1),\n",
    "             min_dist_raw.unsqueeze(1)],\n",
    "            dim=1\n",
    "        ).to(device)                                    # [B, 7] (sphere case)\n",
    "\n",
    "        # Forces: only source on (s) is nonzero; target (t) = zeros\n",
    "        Fs_target = torch.zeros_like(force_s, device=device)  # [B,6]\n",
    "        Ft_source = force_s.to(device)                        # [B,6]\n",
    "\n",
    "        mu_tensor = torch.tensor(float(mu), dtype=torch.float32, device=device)\n",
    "        v2b = self.two_nn.predict_velocity(X2b, Fs_target, Ft_source, mu_tensor)  # [B,6]\n",
    "        return v2b\n",
    "\n",
    "    def make_residual_labels(self, X3b, force_s, y_total_3b, mu=1.0):\n",
    "        \"\"\"\n",
    "        y_total_3b: [B,6] ground truth velocity on t from 3-body solve (s active, k passive)\n",
    "        Returns residual labels: y_res = y_total_3b - v2b_pred\n",
    "        \"\"\"\n",
    "        v2b = self.predict_two_body_from_triplet(X3b, force_s, mu)\n",
    "        return y_total_3b.to(device) - v2b"
   ]
  },
  {
   "cell_type": "markdown",
   "id": "4ad3f2fd-28c5-4f7f-abb9-bc8f72fe0066",
   "metadata": {},
   "source": [
    "## Training"
   ]
  },
  {
   "cell_type": "code",
   "execution_count": 10,
   "id": "7da8a85e-3d86-4237-af02-8f889df44ef0",
   "metadata": {},
   "outputs": [
    {
     "data": {
      "text/plain": [
       "(154, 39424, 39520)"
      ]
     },
     "execution_count": 10,
     "metadata": {},
     "output_type": "execute_result"
    }
   ],
   "source": [
    "input_dim = train_dist_tensor.shape[1] - 33\n",
    "batch_size = 256\n",
    "epochs = 500 \n",
    "\n",
    "twob_path = \"../data/models/two_body_combined_model.pt\"\n",
    "median_2b = 5.008307682776568 #copied from 2b training notebook\n",
    "model = MultiBodyCorrection(input_dim, twob_path,median_2b, mean_dist_s, dist_s_col_idx).to(device)\n",
    "\n",
    "\n",
    "optimizer = torch.optim.Adam(model.parameters(), lr=0.001)\n",
    "#scheduler = torch.optim.lr_scheduler.StepLR(optimizer, step_size=50, gamma=0.50)\n",
    "scheduler = torch.optim.lr_scheduler.CosineAnnealingLR(optimizer, T_max=epochs)\n",
    "\n",
    "\n",
    "#criterion = nn.MSELoss()\n",
    "criterion = nn.L1Loss()\n",
    "\n",
    "n_batches = train_velocity_tensor.shape[0]//batch_size\n",
    "n_batches, n_batches*batch_size, len(train_dist_tensor)"
   ]
  },
  {
   "cell_type": "code",
   "execution_count": 11,
   "id": "8f08658a-d9d5-4a14-bd94-ab5829b02906",
   "metadata": {},
   "outputs": [],
   "source": [
    "def shuffle_tensors(*tensors):\n",
    "    \"\"\" Shuffles multiple tensors in the same order \"\"\"\n",
    "    indices = torch.randperm(tensors[0].size(0),device=device)  # Generate random indices\n",
    "    return tuple(tensor[indices] for tensor in tensors)\n",
    "\n",
    "with torch.no_grad():\n",
    "    y_residual = model.make_residual_labels(\n",
    "        train_dist_tensor, \n",
    "        train_force_tensor, \n",
    "        train_velocity_tensor, mu=1.0)"
   ]
  },
  {
   "cell_type": "code",
   "execution_count": 12,
   "id": "fbfb3db7-f365-4300-8e36-d46943553478",
   "metadata": {},
   "outputs": [
    {
     "name": "stdout",
     "output_type": "stream",
     "text": [
      "Epoch 0, Loss: 0.10475854633690475\n",
      "Epoch 5, Loss: 0.014027856429434054\n",
      "Epoch 10, Loss: 0.009533239335015223\n",
      "Epoch 15, Loss: 0.00879680958890973\n",
      "Epoch 20, Loss: 0.007075295907554108\n",
      "Epoch 25, Loss: 0.007687255144482116\n",
      "Epoch 30, Loss: 0.00638845818746206\n",
      "Epoch 35, Loss: 0.006950589858430934\n",
      "Epoch 40, Loss: 0.0060977332699173065\n",
      "Epoch 45, Loss: 0.008045497897697927\n",
      "Epoch 50, Loss: 0.007360594991183319\n",
      "Epoch 55, Loss: 0.006236865923002169\n",
      "Epoch 60, Loss: 0.005207256007298537\n",
      "Epoch 65, Loss: 0.006233915320730635\n",
      "Epoch 70, Loss: 0.005336564127960569\n",
      "Epoch 75, Loss: 0.005897317795300639\n",
      "Epoch 80, Loss: 0.004889826768065815\n",
      "Epoch 85, Loss: 0.005232137851658967\n",
      "Epoch 90, Loss: 0.005546610778221836\n",
      "Epoch 95, Loss: 0.005239065471951934\n",
      "Epoch 100, Loss: 0.005380744362467682\n",
      "Epoch 105, Loss: 0.005406263302527852\n",
      "Epoch 110, Loss: 0.004644248082737935\n",
      "Epoch 115, Loss: 0.004849068220257275\n",
      "Epoch 120, Loss: 0.004909804901229097\n",
      "Epoch 125, Loss: 0.004199533006660156\n",
      "Epoch 130, Loss: 0.004579508649911006\n",
      "Epoch 135, Loss: 0.004740905758997353\n",
      "Epoch 140, Loss: 0.0050042206240068\n",
      "Epoch 145, Loss: 0.004231869380667128\n",
      "Epoch 150, Loss: 0.004238681231214144\n",
      "Epoch 155, Loss: 0.004834948207384774\n",
      "Epoch 160, Loss: 0.004086957047028201\n",
      "Epoch 165, Loss: 0.004331334782824791\n",
      "Epoch 170, Loss: 0.00448739128157061\n",
      "Epoch 175, Loss: 0.003981410809974005\n",
      "Epoch 180, Loss: 0.003954462924754465\n",
      "Epoch 185, Loss: 0.003969164262828115\n",
      "Epoch 190, Loss: 0.0038326110436835074\n",
      "Epoch 195, Loss: 0.0038731106112457133\n",
      "Epoch 200, Loss: 0.004132452677911172\n",
      "Epoch 205, Loss: 0.0037778407114545825\n",
      "Epoch 210, Loss: 0.003650118043501075\n",
      "Epoch 215, Loss: 0.003649246218227237\n",
      "Epoch 220, Loss: 0.003839362967553754\n",
      "Epoch 225, Loss: 0.003975951599634506\n",
      "Epoch 230, Loss: 0.0035488090505097786\n",
      "Epoch 235, Loss: 0.003910301290996759\n",
      "Epoch 240, Loss: 0.003877555190996787\n",
      "Epoch 245, Loss: 0.003692237936964186\n",
      "Epoch 250, Loss: 0.0035434389523194207\n",
      "Epoch 255, Loss: 0.003494658285159279\n",
      "Epoch 260, Loss: 0.0035308871052360962\n",
      "Epoch 265, Loss: 0.0035550316898515085\n",
      "Epoch 270, Loss: 0.0034994520609835525\n",
      "Epoch 275, Loss: 0.0034422082554355455\n",
      "Epoch 280, Loss: 0.0033177532748524825\n",
      "Epoch 285, Loss: 0.0035451877795692\n",
      "Epoch 290, Loss: 0.0033187518567572554\n",
      "Epoch 295, Loss: 0.003536245214160193\n",
      "Epoch 300, Loss: 0.003456090855133998\n",
      "Epoch 305, Loss: 0.003290892111488267\n",
      "Epoch 310, Loss: 0.0033268103279270136\n",
      "Epoch 315, Loss: 0.003303715173009928\n",
      "Epoch 320, Loss: 0.0032258296382383675\n",
      "Epoch 325, Loss: 0.0032071766878974126\n",
      "Epoch 330, Loss: 0.0032476781906753587\n",
      "Epoch 335, Loss: 0.0032298281734398047\n",
      "Epoch 340, Loss: 0.0032019753798286058\n",
      "Epoch 345, Loss: 0.0031932991409263055\n",
      "Epoch 350, Loss: 0.003181028120860748\n",
      "Epoch 355, Loss: 0.0031547049142105817\n",
      "Epoch 360, Loss: 0.003152377861128612\n",
      "Epoch 365, Loss: 0.0031385979684698698\n",
      "Epoch 370, Loss: 0.0031367640128939765\n",
      "Epoch 375, Loss: 0.0031263160582801156\n",
      "Epoch 380, Loss: 0.0031149062787654337\n",
      "Epoch 385, Loss: 0.0031263710562042988\n",
      "Epoch 390, Loss: 0.0031124094785372545\n",
      "Epoch 395, Loss: 0.003085433760984474\n",
      "Epoch 400, Loss: 0.0030858763040031317\n",
      "Epoch 405, Loss: 0.0030779613381517784\n",
      "Epoch 410, Loss: 0.003065932161090049\n",
      "Epoch 415, Loss: 0.00305595737579581\n",
      "Epoch 420, Loss: 0.0030491215331092864\n",
      "Epoch 425, Loss: 0.003046927136042482\n",
      "Epoch 430, Loss: 0.0030361794694266342\n",
      "Epoch 435, Loss: 0.003033917419938975\n",
      "Epoch 440, Loss: 0.0030278423256785065\n",
      "Epoch 445, Loss: 0.0030251633490786536\n",
      "Epoch 450, Loss: 0.003015166883320584\n",
      "Epoch 455, Loss: 0.0030157692675998847\n",
      "Epoch 460, Loss: 0.003008371944744866\n",
      "Epoch 465, Loss: 0.0030061141028395527\n",
      "Epoch 470, Loss: 0.003003945357964507\n",
      "Epoch 475, Loss: 0.0030019202711084833\n",
      "Epoch 480, Loss: 0.0029996170060612357\n",
      "Epoch 485, Loss: 0.002998524331850568\n",
      "Epoch 490, Loss: 0.0029956371834888667\n",
      "Epoch 495, Loss: 0.0029954542179120246\n"
     ]
    }
   ],
   "source": [
    "losses = []\n",
    "data_losses, spsd_losses = [], []\n",
    "for epoch in range(epochs):\n",
    "    model.train()\n",
    "    avg = 0\n",
    "    avg_data, avg_spsd = 0, 0\n",
    "    \n",
    "    train_dist_tensor, train_force_tensor, y_residual = shuffle_tensors(\n",
    "        train_dist_tensor, train_force_tensor, y_residual\n",
    "    )\n",
    "    for it in range(n_batches):\n",
    "        optimizer.zero_grad()\n",
    "        \n",
    "        indices = torch.arange(it*batch_size, (it+1)*batch_size, dtype=torch.int).cuda()\n",
    "        \n",
    "        X = train_dist_tensor[indices]  \n",
    "        force_s = train_force_tensor[indices]         \n",
    "        Y = y_residual[indices]  \n",
    "\n",
    "        Y_b = model.predict_velocity(X, force_s)\n",
    "        loss = criterion(Y_b, Y)\n",
    "        \n",
    "        loss.backward()\n",
    "        avg += loss.item()\n",
    "        avg_data += 0 #data_loss.item()\n",
    "        #avg_spsd += spsd_loss.item()\n",
    "        optimizer.step()\n",
    "        \n",
    "\n",
    "    scheduler.step()\n",
    "    if epoch%5==0:\n",
    "        print(f'Epoch {epoch}, Loss: {avg/n_batches}')\n",
    "        losses.append(avg/n_batches)\n",
    "        data_losses.append(avg_data/n_batches)\n",
    "        spsd_losses.append(avg_spsd/n_batches)\n",
    "\n",
    "torch.save(model.state_dict(), \"nbody_cross_tmp.wt\")"
   ]
  },
  {
   "cell_type": "code",
   "execution_count": 13,
   "id": "713f707a-a7e4-44ff-a036-e01cc42cd1b0",
   "metadata": {},
   "outputs": [
    {
     "data": {
      "text/plain": [
       "(torch.Size([256, 6]), torch.Size([256, 6]))"
      ]
     },
     "execution_count": 13,
     "metadata": {},
     "output_type": "execute_result"
    }
   ],
   "source": [
    "Y.shape, Y_b.shape"
   ]
  },
  {
   "cell_type": "markdown",
   "id": "7a572703-2038-451a-863e-0e06a7371aac",
   "metadata": {},
   "source": [
    "## Evaluation"
   ]
  },
  {
   "cell_type": "code",
   "execution_count": 14,
   "id": "24b0ae8e-34f3-4b8f-abb3-7a95ecb98a9b",
   "metadata": {},
   "outputs": [],
   "source": [
    "model = MultiBodyCorrection(input_dim, twob_path,median_2b, mean_dist_s, dist_s_col_idx).to(device)\n",
    "model.load_state_dict(torch.load(\"nbody_cross_tmp.wt\", weights_only=True))\n",
    "model.eval()\n",
    "\n",
    "with torch.no_grad():\n",
    "    val_output = model.predict_velocity_total(val_dist_tensor, val_force_tensor)"
   ]
  },
  {
   "cell_type": "code",
   "execution_count": 15,
   "id": "929fe0b9-0971-485e-9f06-cd115a1a3db0",
   "metadata": {},
   "outputs": [
    {
     "data": {
      "text/plain": [
       "(tensor([-0.093465, -0.090250,  0.116630,  0.003389, -0.007586, -0.004824],\n",
       "        device='cuda:0'),\n",
       " tensor([-0.095427, -0.095005,  0.114707,  0.007033, -0.009066, -0.004881],\n",
       "        device='cuda:0'))"
      ]
     },
     "execution_count": 15,
     "metadata": {},
     "output_type": "execute_result"
    }
   ],
   "source": [
    "torch.set_printoptions(sci_mode=False, precision=6)\n",
    "jj = 182\n",
    "val_output[jj], val_velocity_tensor[jj]"
   ]
  },
  {
   "cell_type": "code",
   "execution_count": 16,
   "id": "8e5b3b24-b30c-44d6-b39e-9834bd39d261",
   "metadata": {},
   "outputs": [
    {
     "data": {
      "text/plain": [
       "(tensor([ 0.118483, -0.037550,  0.029517,  0.007192,  0.011172, -0.012357],\n",
       "        device='cuda:0'),\n",
       " tensor([ 0.125538, -0.043573,  0.026555,  0.008860,  0.009831, -0.009392],\n",
       "        device='cuda:0'))"
      ]
     },
     "execution_count": 16,
     "metadata": {},
     "output_type": "execute_result"
    }
   ],
   "source": [
    "torch.set_printoptions(sci_mode=False, precision=6)\n",
    "jj = 1122\n",
    "val_output[jj], val_velocity_tensor[jj]"
   ]
  },
  {
   "cell_type": "code",
   "execution_count": 17,
   "id": "395a9ab0-57ab-438e-869a-fdf31f5e0e11",
   "metadata": {},
   "outputs": [
    {
     "name": "stdout",
     "output_type": "stream",
     "text": [
      "Root Mean Squared error for each of 6 output variables:\n",
      " tensor([0.006877, 0.007196, 0.006876, 0.003405, 0.003421, 0.003417],\n",
      "       device='cuda:0')\n",
      "Actual Magnitude:\n",
      "  tensor([0.124780, 0.127367, 0.127826, 0.020547, 0.020252, 0.020266],\n",
      "       device='cuda:0')\n",
      "RMSE: tensor(0.005497, device='cuda:0')\n"
     ]
    }
   ],
   "source": [
    "criterion = nn.MSELoss(reduction='none') \n",
    "err = criterion(val_output, val_velocity_tensor)\n",
    "\n",
    "rmse = torch.sqrt(err.mean(axis=0))\n",
    "\n",
    "print(\"Root Mean Squared error for each of 6 output variables:\\n\", rmse)\n",
    "print(\"Actual Magnitude:\\n \", torch.abs(val_velocity_tensor).mean(axis=0))\n",
    "print(\"RMSE:\", err.mean()**.5)"
   ]
  },
  {
   "cell_type": "code",
   "execution_count": 18,
   "id": "201df8a3-8808-4a9a-8727-bbdc9eac942f",
   "metadata": {},
   "outputs": [
    {
     "data": {
      "text/plain": [
       "tensor([2.498133, 2.392122, 2.351982, 8.037688, 8.364883, 8.089020],\n",
       "       device='cuda:0')"
      ]
     },
     "execution_count": 18,
     "metadata": {},
     "output_type": "execute_result"
    }
   ],
   "source": [
    "#### Mean Relative Absolute Error\n",
    "valid_mask = torch.abs(val_velocity_tensor) > 1e-6\n",
    "\n",
    "filtered_y_tensor = torch.where(valid_mask, val_velocity_tensor, torch.tensor(float('nan')))\n",
    "relative_error = torch.abs((val_output - filtered_y_tensor) / filtered_y_tensor)\n",
    "\n",
    "a,_ = torch.nanmedian(relative_error, dim=0)\n",
    "a*100"
   ]
  },
  {
   "cell_type": "code",
   "execution_count": 19,
   "id": "1d5b160a-a023-4da1-b785-91839b03ed5b",
   "metadata": {},
   "outputs": [
    {
     "data": {
      "text/plain": [
       "tensor([17.099667, 16.466410, 19.071276, 59.963547, 76.967003, 55.871628],\n",
       "       device='cuda:0')"
      ]
     },
     "execution_count": 19,
     "metadata": {},
     "output_type": "execute_result"
    }
   ],
   "source": [
    "a = torch.nanmean(relative_error, dim=0)\n",
    "a*100"
   ]
  },
  {
   "cell_type": "code",
   "execution_count": 20,
   "id": "87e10e3b-1c51-489b-a034-7650700381cd",
   "metadata": {},
   "outputs": [
    {
     "data": {
      "text/plain": [
       "tensor([ 5.511481,  5.649660,  5.379509, 16.570524, 16.890299, 16.863031],\n",
       "       device='cuda:0')"
      ]
     },
     "execution_count": 20,
     "metadata": {},
     "output_type": "execute_result"
    }
   ],
   "source": [
    "100*rmse/torch.abs(val_velocity_tensor).mean(axis=0)"
   ]
  },
  {
   "cell_type": "code",
   "execution_count": 21,
   "id": "7b1b9a2f-fbd7-43b1-9bed-357a05cc371d",
   "metadata": {},
   "outputs": [],
   "source": [
    "save_model = True\n",
    "if save_model:\n",
    "    scripted_model = torch.jit.script(model)\n",
    "    scripted_model.save(\"../data/models/nbody_pinn_recovered.pt\")"
   ]
  },
  {
   "cell_type": "markdown",
   "id": "a7364f0c-2115-45cd-b3b4-1f1b999abeaa",
   "metadata": {},
   "source": [
    "## Diagnosis"
   ]
  },
  {
   "cell_type": "code",
   "execution_count": null,
   "id": "826ca11b-fc6f-48a4-98a4-72522e5d6cd4",
   "metadata": {},
   "outputs": [],
   "source": []
  },
  {
   "cell_type": "code",
   "execution_count": 22,
   "id": "13994d16-84fc-4110-91b4-1c9a1b0e299e",
   "metadata": {},
   "outputs": [
    {
     "data": {
      "image/png": "[encoded data removed]",
      "text/plain": [
       "<Figure size 640x480 with 1 Axes>"
      ]
     },
     "metadata": {},
     "output_type": "display_data"
    }
   ],
   "source": [
    "# No of spheres vs error\n",
    "\n",
    "from collections import defaultdict\n",
    "import matplotlib.pyplot as plt\n",
    "\n",
    "err_nk = defaultdict(list)\n",
    "\n",
    "for i in range(len(err)):\n",
    "    nk = int(val_dist_tensor[i, -10:].sum().item())\n",
    "    err_nk[nk].append(torch.sqrt(err[i].mean()).item())\n",
    "\n",
    "for nk in err_nk:\n",
    "    err_nk[nk] = sum(err_nk[nk])/len(err_nk[nk])\n",
    "\n",
    "err_nk = sorted(err_nk.items())\n",
    "plt.bar([x[0] for x in err_nk], [x[1] for x in err_nk]);"
   ]
  },
  {
   "cell_type": "code",
   "execution_count": 23,
   "id": "515383f0-fb14-4cce-af3c-0c64c21749a2",
   "metadata": {},
   "outputs": [
    {
     "data": {
      "text/plain": [
       "[(1, 0.001443657338941756),\n",
       " (2, 0.002405620037119233),\n",
       " (3, 0.003283149612709729),\n",
       " (4, 0.003705263889995276),\n",
       " (5, 0.004391053448964945),\n",
       " (6, 0.004521639634795781),\n",
       " (7, 0.004520137011806338),\n",
       " (8, 0.004955562503982309),\n",
       " (9, 0.005032057620158376),\n",
       " (10, 0.005149737515291793)]"
      ]
     },
     "execution_count": 23,
     "metadata": {},
     "output_type": "execute_result"
    }
   ],
   "source": [
    "err_nk"
   ]
  },
  {
   "cell_type": "code",
   "execution_count": null,
   "id": "632a8f17-f9c1-4b2f-8a7b-e6493fa8e129",
   "metadata": {},
   "outputs": [],
   "source": [
    "\n",
    "\n",
    "\n",
    "\n",
    "\n",
    "\n",
    "\n",
    "\n",
    "\n",
    "\n",
    "\n",
    "\n"
   ]
  }
 ],
 "metadata": {
  "kernelspec": {
   "display_name": "Python 3 (ipykernel)",
   "language": "python",
   "name": "python3"
  },
  "language_info": {
   "codemirror_mode": {
    "name": "ipython",
    "version": 3
   },
   "file_extension": ".py",
   "mimetype": "text/x-python",
   "name": "python",
   "nbconvert_exporter": "python",
   "pygments_lexer": "ipython3",
   "version": "3.12.2"
  }
 },
 "nbformat": 4,
 "nbformat_minor": 5
}
