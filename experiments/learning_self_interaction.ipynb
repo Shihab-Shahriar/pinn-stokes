{
 "cells": [
  {
   "cell_type": "code",
   "execution_count": 1,
   "id": "94d3e9bc-5306-439e-ba62-595044c5ff16",
   "metadata": {},
   "outputs": [],
   "source": [
    "import numpy as np\n",
    "import os\n",
    "import seaborn as sns\n",
    "import matplotlib.pyplot as plt\n",
    "import pandas as pd\n",
    "from scipy.spatial.transform import Rotation\n",
    "import torch\n",
    "import torch.nn as nn\n",
    "import torch.nn.functional as F\n",
    "\n",
    "torch.manual_seed(41)\n",
    "np.random.seed(41)\n",
    "\n",
    "device = torch.device(\"cuda\" if torch.cuda.is_available() else \"cpu\")\n",
    "torch.set_default_device(device)"
   ]
  },
  {
   "cell_type": "markdown",
   "id": "ca5db6ba-9339-4efe-93f6-1ac530ad0812",
   "metadata": {},
   "source": [
    "Self-interaction of all 3 given shapes can be learnt by one 3-layer NN. Accuracy is really good. Please note it's just 3 shapes of 3 types, we didn't vary axis sizes for any a,b,c values for any particular shape.\n",
    "\n",
    "This is not something we tried for two-body case (single NN for multiple shapes, or even similar shape but different a,b,c).\n",
    "\n",
    "Update on 03/20:\n",
    "+ Noticed I'm projecting force/torque to body frame to avoid inputting to NN the orinetation of the particle, but then sent the orientation as input feature anyway.\n",
    "+ Couldn't get NN to learn without projecting force/velocity to body frame however. So above thing stands.\n",
    "+ Final Mean_abs_error: [0.0418 , 0.0378, 0.0426, 0.1030, 0.1289, 0.1425]"
   ]
  },
  {
   "cell_type": "code",
   "execution_count": 2,
   "id": "53b146b8-dbff-42e8-95d9-2e9fc5e7b29d",
   "metadata": {},
   "outputs": [],
   "source": [
    "def compute_rotvec_batch(rot_partial_flat):\n",
    "    N = rot_partial_flat.shape[0]\n",
    "    R_partial = rot_partial_flat.reshape(N, 3, 2)\n",
    "    R3 = np.cross(R_partial[:, :, 0], R_partial[:, :, 1])\n",
    "    R_full = np.concatenate((R_partial, R3[:, :, np.newaxis]), axis=2)  # shape (N,3,3)\n",
    "    #rotvecs = Rotation.from_matrix(R_full).as_rotvec()  # shape (N,3)\n",
    "    return Rotation.from_matrix(R_full)\n",
    "\n",
    "def rotate_forces_torques_to_body(forces_lab, torques_lab, rot, lab_to_body=True):\n",
    "    \"\"\"\n",
    "    Rotate forces & torques from lab frame to the body frame (which we'll\n",
    "    assume is aligned with the spheroid's major axis = z-axis in the body frame).\n",
    "    \n",
    "    forces_lab, torques_lab, rotvec all have shape (N,3).\n",
    "    \"\"\"\n",
    "    # Create a batch of Rotation objects from each rotvec\n",
    "    #rot = Rotation.from_rotvec(rotvec)   # shape: (N,) - a stack of N rotations\n",
    "    \n",
    "    # 'inverse=True' rotates vectors *into* the body frame\n",
    "    forces_body = rot.apply(forces_lab, inverse=lab_to_body)\n",
    "    torques_body = rot.apply(torques_lab, inverse=lab_to_body)\n",
    "    \n",
    "    return forces_body, torques_body"
   ]
  },
  {
   "cell_type": "code",
   "execution_count": 3,
   "id": "58c24cd1-7f4f-4334-976e-f7ca399fb760",
   "metadata": {},
   "outputs": [
    {
     "data": {
      "text/plain": [
       "((30000, 15), (30000, 6), dtype('float64'))"
      ]
     },
     "execution_count": 3,
     "metadata": {},
     "output_type": "execute_result"
    }
   ],
   "source": [
    "\n",
    "xs,ys = [],[]\n",
    "\n",
    "xs.append(np.load(\"../data/X_self_oblateSpheroid_23:07_4.npy\"))\n",
    "ys.append(np.load(\"../data/Y_self_oblateSpheroid_23:07_4.npy\"))\n",
    "\n",
    "xs.append(np.load(\"../data/X_self_prolateSpheroid_23:09_4.npy\"))\n",
    "ys.append(np.load(\"../data/Y_self_prolateSpheroid_23:09_4.npy\"))\n",
    "\n",
    "\n",
    "xs.append(np.load(\"../data/X_self_sphere_22:42_4.npy\"))\n",
    "ys.append(np.load(\"../data/Y_self_sphere_22:42_4.npy\"))\n",
    "\n",
    "X = np.concatenate(xs, axis=0)\n",
    "Y = np.concatenate(ys, axis=0)\n",
    "orient = compute_rotvec_batch(X[:,3:9]) # convert to Rotation object\n",
    "\n",
    "# we'll project force and torque to \"body frame\" (major axis z-axis algined)\n",
    "# This way, we can ignore particle's orientation for mobility calculation\n",
    "# We will have to project velocity back to \"lab frame\" later- after M @ F.\n",
    "\n",
    "f,t = rotate_forces_torques_to_body(X[:, 9:12], X[:, 12:15], orient)\n",
    "X[:, 9:12], X[:, 12:15] = f, t\n",
    "#Y[:, :3], Y[:, 3:] = rotate_forces_torques_to_body(Y[:, :3], Y[:, 3:], orient)\n",
    "\n",
    "\n",
    "\n",
    "# remove abc\n",
    "# x = x[:, 3:]\n",
    "\n",
    "X.shape, Y.shape, X.dtype"
   ]
  },
  {
   "cell_type": "code",
   "execution_count": 4,
   "id": "d605c54d-affa-4617-8b49-853fe68682bc",
   "metadata": {},
   "outputs": [
    {
     "data": {
      "text/plain": [
       "((10000, 15), (10000, 15))"
      ]
     },
     "execution_count": 4,
     "metadata": {},
     "output_type": "execute_result"
    }
   ],
   "source": [
    "xs[-1].shape, xs[-2].shape"
   ]
  },
  {
   "cell_type": "code",
   "execution_count": null,
   "id": "ad467e65-dbcf-425a-8c10-7edd03f43bb6",
   "metadata": {},
   "outputs": [],
   "source": []
  },
  {
   "cell_type": "code",
   "execution_count": 5,
   "id": "bc26d7c5-b955-4c19-b0fb-7178af75c7a4",
   "metadata": {},
   "outputs": [
    {
     "data": {
      "text/plain": [
       "(torch.Size([24000, 15]),\n",
       " torch.Size([6000, 15]),\n",
       " torch.Size([24000, 6]),\n",
       " (6000, 6),\n",
       " torch.float32)"
      ]
     },
     "execution_count": 5,
     "metadata": {},
     "output_type": "execute_result"
    }
   ],
   "source": [
    "def shuffle(*arrays):\n",
    "    # Ensure that all arrays have the same first dimension.\n",
    "    n = arrays[0].shape[0]\n",
    "    idx = np.random.permutation(n)\n",
    "    return tuple(arr[idx] for arr in arrays)\n",
    "\n",
    "X, Y, orient = shuffle(X,Y, orient)\n",
    "\n",
    "\n",
    "split_frac = .8\n",
    "split_point = int(split_frac * X.shape[0])\n",
    "\n",
    "X_train, X_val = X[:split_point].copy(), X[split_point:].copy()\n",
    "Y_train, Y_val = Y[:split_point].copy(), Y[split_point:].copy()\n",
    "orient_train, orient_val = orient[:split_point], orient[split_point:]\n",
    "\n",
    "# We will only rotate the velocities for training (can't do Rotation stuff w/ pytorch)\n",
    "Y_train[:, :3], Y_train[:, 3:] = rotate_forces_torques_to_body(\n",
    "                                    Y_train[:, :3], Y_train[:, 3:], orient_train)\n",
    "\n",
    "# No need to send Y_val (or any orient) to torch. Validation will happen on CPU\n",
    "X_train = torch.Tensor(X_train).to(device)\n",
    "X_val = torch.Tensor(X_val).to(device)\n",
    "Y_train = torch.Tensor(Y_train).to(device)\n",
    "\n",
    "\n",
    "X_train.shape, X_val.shape, Y_train.shape, Y_val.shape, X_train.dtype"
   ]
  },
  {
   "cell_type": "code",
   "execution_count": 6,
   "id": "ae12591c-545f-4bf9-8249-3c2447501834",
   "metadata": {},
   "outputs": [],
   "source": [
    "import torch\n",
    "import torch.nn as nn\n",
    "import torch.nn.functional as F\n",
    "\n",
    "class SelfNetwork(nn.Module):\n",
    "    \"\"\"\n",
    "    Neural network that predicts the 4 key self-mobility scalars for an\n",
    "    axisymmetric particle in Stokes flow:\n",
    "       mu_T_parallel, mu_T_perp, mu_R_parallel, mu_R_perp\n",
    "    \"\"\"\n",
    "    def __init__(self, input_dim):\n",
    "        super(SelfNetwork, self).__init__()\n",
    "        \n",
    "        self.layers = nn.Sequential(\n",
    "            nn.Linear(input_dim, 64),\n",
    "            nn.ReLU(),\n",
    "            nn.Linear(64, 32),\n",
    "            nn.ReLU(),\n",
    "            nn.Linear(32, 4),\n",
    "            #nn.Tanh()\n",
    "        )\n",
    "\n",
    "    def forward(self, x):\n",
    "        return self.layers(x)\n",
    "\n",
    "    def predict_velocity(self, x, force):\n",
    "        \"\"\"\n",
    "        force:  tensor of shape (batch_size, 6) -> [Fx, Fy, Fz, Tx, Ty, Tz]\n",
    "        \n",
    "        Steps:\n",
    "        1) Forward pass to get the 4 mobility scalars.\n",
    "        2) Construct the diagonal 3x3 blocks M^{TT}, M^{RR} because\n",
    "           the particle's major axis is z-axis.\n",
    "        3) Multiply by force => velocity [Ux, Uy, Uz, Ox, Oy, Oz].\n",
    "        \"\"\"\n",
    "        # 1) Get the mobility scalars\n",
    "        mus = self.forward(x)  \n",
    "        mu_T_para = mus[:, 0]  # (batch_size,)\n",
    "        mu_T_perp = mus[:, 1]\n",
    "        mu_R_para = mus[:, 2]\n",
    "        mu_R_perp = mus[:, 3]\n",
    "\n",
    "        F_3    = force[:, 0:3]  # (batch_size, 3)\n",
    "        tau_3  = force[:, 3:6]  # (batch_size, 3)\n",
    "\n",
    "        # 2) For each sample, build M^{TT} and M^{RR} as diag:\n",
    "        #    M^{TT} = diag(mu_T_perp, mu_T_perp, mu_T_para)\n",
    "        #    M^{RR} = diag(mu_R_perp, mu_R_perp, mu_R_para)\n",
    "        # We'll do it in a batched way:\n",
    "        \n",
    "        # expand dims for broadcasting\n",
    "        mu_T_para_ = mu_T_para.view(-1, 1)  # (batch_size,1)\n",
    "        mu_T_perp_ = mu_T_perp.view(-1, 1)\n",
    "        mu_R_para_ = mu_R_para.view(-1, 1)\n",
    "        mu_R_perp_ = mu_R_perp.view(-1, 1)\n",
    "\n",
    "        # velocity in the z-axis aligned frame:\n",
    "        #   Ux = mu_T_perp * Fx\n",
    "        #   Uy = mu_T_perp * Fy\n",
    "        #   Uz = mu_T_para * Fz\n",
    "        Ux = mu_T_perp_ * F_3[:,0:1]\n",
    "        Uy = mu_T_perp_ * F_3[:,1:2]\n",
    "        Uz = mu_T_para_ * F_3[:,2:3]\n",
    "\n",
    "        # angular velocity:\n",
    "        #   Ox = mu_R_perp * Tx\n",
    "        #   Oy = mu_R_perp * Ty\n",
    "        #   Oz = mu_R_para * Tz\n",
    "        Ox = mu_R_perp_ * tau_3[:,0:1]\n",
    "        Oy = mu_R_perp_ * tau_3[:,1:2]\n",
    "        Oz = mu_R_para_ * tau_3[:,2:3]\n",
    "\n",
    "        U = torch.cat([Ux, Uy, Uz], dim=1)       # (batch_size, 3)\n",
    "        Omega = torch.cat([Ox, Oy, Oz], dim=1)   # (batch_size, 3)\n",
    "\n",
    "        # Combine\n",
    "        velocity = torch.cat([U, Omega], dim=1)  # (batch_size, 6)\n",
    "        return velocity"
   ]
  },
  {
   "cell_type": "code",
   "execution_count": 7,
   "id": "d303c1c3-a6da-4eb0-a043-52d96f0941ea",
   "metadata": {},
   "outputs": [
    {
     "data": {
      "text/plain": [
       "(93, 23808, 24000)"
      ]
     },
     "execution_count": 7,
     "metadata": {},
     "output_type": "execute_result"
    }
   ],
   "source": [
    "# class SelfNetwork(nn.Module):\n",
    "#     def __init__(self, input_dim):\n",
    "#         super(SelfNetwork, self).__init__()\n",
    "#         self.layers = nn.Sequential(\n",
    "#             nn.Linear(input_dim, 128),\n",
    "#             nn.ReLU(),\n",
    "#             nn.Linear(128, 64),\n",
    "#             nn.ReLU(),\n",
    "#             nn.Linear(64, 128),\n",
    "#             nn.Relu(),\n",
    "#             nn.Linear(128, 6),\n",
    "#         )\n",
    "\n",
    "#     def forward(self, r):\n",
    "#         return self.layers(r)\n",
    "\n",
    "\n",
    "input_dim = 9 # a,b,c and orientation\n",
    "batch_size = 256\n",
    "epochs = 200\n",
    "model = SelfNetwork(input_dim).to(device)\n",
    "optimizer = torch.optim.Adam(model.parameters(), lr=0.003)\n",
    "scheduler = torch.optim.lr_scheduler.CosineAnnealingLR(optimizer, T_max=epochs) # noticeably better than StepLR in 1 case\n",
    "\n",
    "\n",
    "criterion = nn.L1Loss()\n",
    "n_iter = X_train.shape[0]//batch_size\n",
    "n_iter, n_iter*batch_size, len(X_train)"
   ]
  },
  {
   "cell_type": "code",
   "execution_count": 8,
   "id": "145fc65d-6f76-461c-b80e-54db4fcea93b",
   "metadata": {},
   "outputs": [
    {
     "name": "stdout",
     "output_type": "stream",
     "text": [
      "Epoch 0, Loss: 0.12810947183239205\n",
      "Epoch 5, Loss: 0.010025778625120399\n",
      "Epoch 10, Loss: 0.009099976119575321\n",
      "Epoch 15, Loss: 0.007101088864929093\n",
      "Epoch 20, Loss: 0.0055107456401631396\n",
      "Epoch 25, Loss: 0.006082460597177507\n",
      "Epoch 30, Loss: 0.006060324186178786\n",
      "Epoch 35, Loss: 0.00422158033426811\n",
      "Epoch 40, Loss: 0.004593548515150624\n",
      "Epoch 45, Loss: 0.0039567541811735395\n",
      "Epoch 50, Loss: 0.003284256265658925\n",
      "Epoch 55, Loss: 0.002485587335472065\n",
      "Epoch 60, Loss: 0.0022569553130456516\n",
      "Epoch 65, Loss: 0.0023198409784605267\n",
      "Epoch 70, Loss: 0.002049643939401033\n",
      "Epoch 75, Loss: 0.0016982653923082337\n",
      "Epoch 80, Loss: 0.0021745838445200714\n",
      "Epoch 85, Loss: 0.0015259899852436878\n",
      "Epoch 90, Loss: 0.0017066382964502178\n",
      "Epoch 95, Loss: 0.0014732682398991078\n",
      "Epoch 100, Loss: 0.0014559547598373586\n",
      "Epoch 105, Loss: 0.0009524274338287131\n",
      "Epoch 110, Loss: 0.001194594718042701\n",
      "Epoch 115, Loss: 0.0009449475782207383\n",
      "Epoch 120, Loss: 0.0008867243204706459\n",
      "Epoch 125, Loss: 0.000984378758334725\n",
      "Epoch 130, Loss: 0.000721987198239633\n",
      "Epoch 135, Loss: 0.0005805882117060083\n",
      "Epoch 140, Loss: 0.0005732712327122128\n",
      "Epoch 145, Loss: 0.0004599171342335701\n",
      "Epoch 150, Loss: 0.00037681725738640195\n",
      "Epoch 155, Loss: 0.00039594602049453564\n",
      "Epoch 160, Loss: 0.00024009546733170907\n",
      "Epoch 165, Loss: 0.00018494215343893577\n",
      "Epoch 170, Loss: 0.00012035360373619203\n",
      "Epoch 175, Loss: 7.592267670539728e-05\n",
      "Epoch 180, Loss: 5.458330117342543e-05\n",
      "Epoch 185, Loss: 4.664079769813676e-05\n",
      "Epoch 190, Loss: 4.158592941733928e-05\n",
      "Epoch 195, Loss: 3.927613555964443e-05\n"
     ]
    }
   ],
   "source": [
    "losses = []\n",
    "for epoch in range(epochs):\n",
    "    model.train()\n",
    "    avg = 0\n",
    "\n",
    "    X_train, Y_train = shuffle(X_train, Y_train) #dont forget orient if it comes back\n",
    "    for it in range(n_iter):\n",
    "        optimizer.zero_grad()\n",
    "        \n",
    "        indices = torch.arange(it*batch_size, (it+1)*batch_size, dtype=torch.int).cuda()\n",
    "        X_batch = X_train[indices, :9]\n",
    "        F_batch = X_train[indices, 9:]\n",
    "        #orient_batch = orient_train[indices]\n",
    "        Y_batch = Y_train[indices]\n",
    "        \n",
    "        batch_output = model.predict_velocity(X_batch, F_batch)\n",
    "\n",
    "        # Compute loss\n",
    "        loss = criterion(batch_output, Y_batch)\n",
    "        \n",
    "        loss.backward()\n",
    "        avg += loss.item()\n",
    "        optimizer.step()\n",
    "        \n",
    "\n",
    "    scheduler.step()\n",
    "    if epoch%5==0:\n",
    "        print(f'Epoch {epoch}, Loss: {avg/n_iter}')\n",
    "        losses.append(avg/n_iter)\n",
    "\n",
    "torch.save(model.state_dict(), \"self_interaction.wt\")"
   ]
  },
  {
   "cell_type": "code",
   "execution_count": 9,
   "id": "8b4ea96d-5bee-453e-b82b-6ebe65135edc",
   "metadata": {},
   "outputs": [
    {
     "data": {
      "image/png": "[encoded data removed]",
      "text/plain": [
       "<Figure size 640x480 with 1 Axes>"
      ]
     },
     "metadata": {},
     "output_type": "display_data"
    }
   ],
   "source": [
    "import matplotlib.pyplot as plt\n",
    "los = losses[1:] # first one is usually too big, messes up the plot\n",
    "plt.plot(np.arange(len(los))*5+1, los);\n",
    "plt.ylabel(\"Loss\")\n",
    "plt.xlabel(\"Epochs\");"
   ]
  },
  {
   "cell_type": "code",
   "execution_count": 10,
   "id": "51b38993-2ff6-494b-acf3-61630358e666",
   "metadata": {},
   "outputs": [],
   "source": [
    "model = SelfNetwork(input_dim).to(device)\n",
    "model.load_state_dict(torch.load(\"self_interaction.wt\", weights_only=True))\n",
    "model.eval()\n",
    "\n",
    "with torch.no_grad():\n",
    "    val_output = model.predict_velocity(X_val[:,:9], X_val[:, 9:])\n",
    "    val_output = val_output.cpu().numpy()\n",
    "    val_output[:, :3], val_output[:, 3:] = rotate_forces_torques_to_body(\n",
    "                            val_output[:, :3], val_output[:, 3:], orient_val, lab_to_body=False) #body to lab"
   ]
  },
  {
   "cell_type": "code",
   "execution_count": 11,
   "id": "ba0e93c4-2b76-4310-89ad-81686ee91f7c",
   "metadata": {},
   "outputs": [
    {
     "name": "stdout",
     "output_type": "stream",
     "text": [
      "Root Mean Squared error for each of 6 output variables:\n",
      " tensor([1.1856e-04, 1.0949e-04, 1.0460e-04, 4.4747e-05, 4.6067e-05, 4.9066e-05],\n",
      "       device='cuda:0', dtype=torch.float64)\n",
      "Actual Magnitude:\n",
      "  [0.37272603 0.3731415  0.36960977 0.07350573 0.07482097 0.07478078]\n",
      "RMSE: tensor(8.5165e-05, device='cuda:0', dtype=torch.float64) tensor(7.2530e-09, device='cuda:0', dtype=torch.float64)\n"
     ]
    }
   ],
   "source": [
    "criterion = nn.MSELoss(reduction='none') \n",
    "err = criterion(torch.tensor(val_output), torch.tensor(Y_val))\n",
    "\n",
    "rmse = torch.sqrt(err.mean(axis=0))\n",
    "\n",
    "print(\"Root Mean Squared error for each of 6 output variables:\\n\", rmse)\n",
    "print(\"Actual Magnitude:\\n \", np.abs(Y_val).mean(axis=0))\n",
    "print(\"RMSE:\", err.mean()**.5, err.mean())"
   ]
  },
  {
   "cell_type": "code",
   "execution_count": 12,
   "id": "a00f0c4a-ee68-4182-b1a1-7dab6a20db40",
   "metadata": {},
   "outputs": [
    {
     "data": {
      "text/plain": [
       "array([0.0418025 , 0.03781819, 0.04264764, 0.10300191, 0.12894132,\n",
       "       0.14251576])"
      ]
     },
     "execution_count": 12,
     "metadata": {},
     "output_type": "execute_result"
    }
   ],
   "source": [
    "#### Median Relative Absolute Error\n",
    "def mean_abs_err(val_output, val_velocity_tensor, npp=False):\n",
    "    # 6D vector: median % error for each vel component\n",
    "    valid_mask = np.abs(val_velocity_tensor) > 1e-6\n",
    "    \n",
    "    filtered_y_tensor = np.where(valid_mask, val_velocity_tensor, np.nan)\n",
    "    relative_error = np.abs((val_output - filtered_y_tensor) / filtered_y_tensor)\n",
    "    \n",
    "    a = np.nanmean(relative_error, axis=0)\n",
    "    return a*100\n",
    "\n",
    "mean_abs_err(val_output, Y_val)"
   ]
  },
  {
   "cell_type": "code",
   "execution_count": 13,
   "id": "bca87de2-674d-46f6-948b-503846d339f2",
   "metadata": {},
   "outputs": [
    {
     "data": {
      "text/plain": [
       "tensor([0.0318, 0.0293, 0.0283, 0.0609, 0.0616, 0.0656], device='cuda:0',\n",
       "       dtype=torch.float64)"
      ]
     },
     "execution_count": 13,
     "metadata": {},
     "output_type": "execute_result"
    }
   ],
   "source": [
    "frac = rmse/torch.abs(torch.tensor(Y_val)).mean(axis=0)\n",
    "frac*100"
   ]
  },
  {
   "cell_type": "code",
   "execution_count": 14,
   "id": "34d8b557-3c79-4036-854f-dca9039fa03a",
   "metadata": {},
   "outputs": [
    {
     "data": {
      "text/plain": [
       "(array([ 0.33951872,  0.64921966,  0.68061811, -0.20477137, -0.12085014,\n",
       "         0.18293166]),\n",
       " array([ 0.33956644,  0.64932007,  0.6807363 , -0.20482033, -0.12084848,\n",
       "         0.18295625], dtype=float32),\n",
       " tensor([1., 1., 1.], device='cuda:0'))"
      ]
     },
     "execution_count": 14,
     "metadata": {},
     "output_type": "execute_result"
    }
   ],
   "source": [
    "ii = 129\n",
    "Y_val[ii], val_output[ii], X_val[ii,:3]"
   ]
  },
  {
   "cell_type": "markdown",
   "id": "43cf0e7e-c01a-4b2d-b5c6-3dcb3c28269c",
   "metadata": {},
   "source": [
    "## Error depending on shape"
   ]
  },
  {
   "cell_type": "code",
   "execution_count": 15,
   "id": "b2bfe70a-0005-41ea-9557-8cf828cb3dee",
   "metadata": {},
   "outputs": [
    {
     "data": {
      "text/plain": [
       "2037"
      ]
     },
     "execution_count": 15,
     "metadata": {},
     "output_type": "execute_result"
    }
   ],
   "source": [
    "sphere_idx = torch.abs(X_val[:,:3].sum(axis=1)-3.0)<.001\n",
    "sphere_idx = sphere_idx.cpu().numpy()\n",
    "sphere_idx.sum()"
   ]
  },
  {
   "cell_type": "code",
   "execution_count": 16,
   "id": "7e661fb2-6b5e-4c41-adfe-c683f5e69318",
   "metadata": {},
   "outputs": [
    {
     "data": {
      "text/plain": [
       "array([0.04444997, 0.04147774, 0.04468134, 0.07021803, 0.11121074,\n",
       "       0.07228087])"
      ]
     },
     "execution_count": 16,
     "metadata": {},
     "output_type": "execute_result"
    }
   ],
   "source": [
    "mean_abs_err(val_output[sphere_idx], Y_val[sphere_idx])"
   ]
  },
  {
   "cell_type": "code",
   "execution_count": 17,
   "id": "8d5cba75-5491-4ced-981b-a9f258512391",
   "metadata": {},
   "outputs": [
    {
     "data": {
      "text/plain": [
       "1969"
      ]
     },
     "execution_count": 17,
     "metadata": {},
     "output_type": "execute_result"
    }
   ],
   "source": [
    "prolate = X_val[:,2]==3.0\n",
    "prolate = prolate.cpu().numpy()\n",
    "prolate.sum()"
   ]
  },
  {
   "cell_type": "code",
   "execution_count": 18,
   "id": "79d6de74-353f-4672-b06b-0120a910130d",
   "metadata": {},
   "outputs": [
    {
     "data": {
      "text/plain": [
       "array([0.03130348, 0.03504064, 0.03588842, 0.11394119, 0.1833849 ,\n",
       "       0.25881367])"
      ]
     },
     "execution_count": 18,
     "metadata": {},
     "output_type": "execute_result"
    }
   ],
   "source": [
    "mean_abs_err(val_output[prolate], Y_val[prolate])"
   ]
  },
  {
   "cell_type": "code",
   "execution_count": 19,
   "id": "13736f55-5da1-400e-8b50-75b3308234a5",
   "metadata": {},
   "outputs": [
    {
     "data": {
      "text/plain": [
       "1994"
      ]
     },
     "execution_count": 19,
     "metadata": {},
     "output_type": "execute_result"
    }
   ],
   "source": [
    "oblate = X_val[:,1]==2.0\n",
    "oblate = oblate.cpu().numpy()\n",
    "oblate.sum()"
   ]
  },
  {
   "cell_type": "code",
   "execution_count": 20,
   "id": "7855f682-ebbc-4133-94ab-5bcdc9b44d0f",
   "metadata": {},
   "outputs": [
    {
     "data": {
      "text/plain": [
       "array([0.04946534, 0.03682244, 0.04724455, 0.12569063, 0.09329327,\n",
       "       0.09942543])"
      ]
     },
     "execution_count": 20,
     "metadata": {},
     "output_type": "execute_result"
    }
   ],
   "source": [
    "mean_abs_err(val_output[oblate], Y_val[oblate])"
   ]
  },
  {
   "cell_type": "code",
   "execution_count": 21,
   "id": "afe92139-6fca-4d05-bc73-258a1c210f50",
   "metadata": {},
   "outputs": [
    {
     "data": {
      "text/plain": [
       "6000"
      ]
     },
     "execution_count": 21,
     "metadata": {},
     "output_type": "execute_result"
    }
   ],
   "source": [
    "sphere_idx.sum()+oblate.sum()+prolate.sum()"
   ]
  },
  {
   "cell_type": "code",
   "execution_count": null,
   "id": "fe39dc41-6a70-4aa1-820b-d2619af19a36",
   "metadata": {},
   "outputs": [],
   "source": []
  },
  {
   "cell_type": "code",
   "execution_count": null,
   "id": "f10c3d5d-3bbd-4b7b-8097-9f55ded9da8c",
   "metadata": {},
   "outputs": [],
   "source": []
  },
  {
   "cell_type": "code",
   "execution_count": 23,
   "id": "47e60f63-113f-4701-8b4a-f13b96414915",
   "metadata": {},
   "outputs": [
    {
     "data": {
      "text/plain": [
       "array([0.05133906, 0.05240482, 0.04487908, 0.11913914, 0.14428745,\n",
       "       0.13743571])"
      ]
     },
     "execution_count": 23,
     "metadata": {},
     "output_type": "execute_result"
    }
   ],
   "source": [
    "Xcu = torch.tensor(X).to(device).float()\n",
    "\n",
    "with torch.no_grad():\n",
    "    vv = model.predict_velocity(Xcu[:,:9], Xcu[:, 9:]).cpu().numpy()\n",
    "    vv[:, :3], vv[:, 3:] = rotate_forces_torques_to_body(\n",
    "         vv[:, :3], vv[:, 3:], orient, lab_to_body=False\n",
    "    )\n",
    "\n",
    "mean_abs_err(vv, Y)"
   ]
  },
  {
   "cell_type": "code",
   "execution_count": null,
   "id": "60ae7d41-a3b4-41f9-a8af-3fd729391c98",
   "metadata": {},
   "outputs": [],
   "source": []
  },
  {
   "cell_type": "code",
   "execution_count": 25,
   "id": "3a35fb59-b2b8-4c8a-be03-2744872b1d93",
   "metadata": {},
   "outputs": [
    {
     "data": {
      "text/plain": [
       "array([0.01754726, 0.01910509, 0.01232178, 0.12044536, 0.0708187 ,\n",
       "       0.04964599], dtype=float32)"
      ]
     },
     "execution_count": 25,
     "metadata": {},
     "output_type": "execute_result"
    }
   ],
   "source": [
    "with torch.no_grad():\n",
    "    val_tr = model.predict_velocity(X_train[:,:9], X_train[:, 9:]).cpu().numpy()\n",
    "    # val_tr[:, :3], val_tr[:, 3:] = rotate_forces_torques_to_body(\n",
    "    #                         val_tr[:, :3], val_tr[:, 3:], orient_train, lab_to_body=False) #body to lab\n",
    "\n",
    "mean_abs_err(val_tr, Y_train.cpu().numpy())"
   ]
  },
  {
   "cell_type": "code",
   "execution_count": null,
   "id": "5084eff7-d481-406b-8318-8a5756af0e55",
   "metadata": {},
   "outputs": [],
   "source": []
  },
  {
   "cell_type": "code",
   "execution_count": null,
   "id": "521f2d33-5ee1-4b7b-8bff-1e429670a2fb",
   "metadata": {},
   "outputs": [],
   "source": []
  }
 ],
 "metadata": {
  "kernelspec": {
   "display_name": "Python 3 (ipykernel)",
   "language": "python",
   "name": "python3"
  },
  "language_info": {
   "codemirror_mode": {
    "name": "ipython",
    "version": 3
   },
   "file_extension": ".py",
   "mimetype": "text/x-python",
   "name": "python",
   "nbconvert_exporter": "python",
   "pygments_lexer": "ipython3",
   "version": "3.12.2"
  }
 },
 "nbformat": 4,
 "nbformat_minor": 5
}
