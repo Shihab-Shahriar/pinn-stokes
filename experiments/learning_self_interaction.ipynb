{
 "cells": [
  {
   "cell_type": "code",
   "execution_count": 1,
   "id": "94d3e9bc-5306-439e-ba62-595044c5ff16",
   "metadata": {},
   "outputs": [],
   "source": [
    "import numpy as np\n",
    "import os\n",
    "import seaborn as sns\n",
    "import matplotlib.pyplot as plt\n",
    "import pandas as pd\n",
    "from scipy.spatial.transform import Rotation\n",
    "import torch\n",
    "import torch.nn as nn\n",
    "import torch.nn.functional as F\n",
    "\n",
    "torch.manual_seed(41)\n",
    "np.random.seed(41)\n",
    "\n",
    "device = torch.device(\"cuda\" if torch.cuda.is_available() else \"cpu\")\n",
    "torch.set_default_device(device)"
   ]
  },
  {
   "cell_type": "markdown",
   "id": "ca5db6ba-9339-4efe-93f6-1ac530ad0812",
   "metadata": {},
   "source": [
    "Self-interaction of all 3 given shapes can be learnt by one 3-layer NN. Accuracy is really good. Please note it's just 3 shapes of 3 types, we didn't vary axis sizes for any a,b,c values for any particular shape.\n",
    "\n",
    "This is not something we tried for two-body case (single NN for multiple shapes, or even similar shape but different a,b,c)."
   ]
  },
  {
   "cell_type": "code",
   "execution_count": 2,
   "id": "53b146b8-dbff-42e8-95d9-2e9fc5e7b29d",
   "metadata": {},
   "outputs": [],
   "source": [
    "def compute_rotvec_batch(rot_partial_flat):\n",
    "    N = rot_partial_flat.shape[0]\n",
    "    R_partial = rot_partial_flat.reshape(N, 3, 2)\n",
    "    R3 = np.cross(R_partial[:, :, 0], R_partial[:, :, 1])\n",
    "    R_full = np.concatenate((R_partial, R3[:, :, np.newaxis]), axis=2)  # shape (N,3,3)\n",
    "    rotvecs = Rotation.from_matrix(R_full).as_rotvec()  # shape (N,3)\n",
    "    return rotvecs\n",
    "\n",
    "def rotate_forces_torques_to_body(forces_lab, torques_lab, rotvec):\n",
    "    \"\"\"\n",
    "    Rotate forces & torques from lab frame to the body frame (which we'll\n",
    "    assume is aligned with the spheroid's major axis = z-axis in the body frame).\n",
    "    \n",
    "    forces_lab, torques_lab, rotvec all have shape (N,3).\n",
    "    \"\"\"\n",
    "    # Create a batch of Rotation objects from each rotvec\n",
    "    rot = Rotation.from_rotvec(rotvec)   # shape: (N,) - a stack of N rotations\n",
    "    \n",
    "    # 'inverse=True' rotates vectors *into* the body frame\n",
    "    forces_body = rot.apply(forces_lab, inverse=True)\n",
    "    torques_body = rot.apply(torques_lab, inverse=True)\n",
    "    \n",
    "    return forces_body, torques_body"
   ]
  },
  {
   "cell_type": "code",
   "execution_count": 3,
   "id": "58c24cd1-7f4f-4334-976e-f7ca399fb760",
   "metadata": {},
   "outputs": [
    {
     "data": {
      "text/plain": [
       "(torch.Size([47000, 15]), torch.Size([47000, 6]))"
      ]
     },
     "execution_count": 3,
     "metadata": {},
     "output_type": "execute_result"
    }
   ],
   "source": [
    "times = ['12:47', '13:48','13:52', '14:18', '14:22']\n",
    "\n",
    "xs,ys = [],[]\n",
    "for t in times:\n",
    "    x = np.load(f\"../data/X_self_{t}.npy\")\n",
    "    y = np.load(f\"../data/Y_self_{t}.npy\")\n",
    "\n",
    "    xs.append(x)\n",
    "    ys.append(y)\n",
    "\n",
    "xs.append(np.load(\"../data/X_self_oblateSpheroid_21:28.npy\"))\n",
    "ys.append(np.load(\"../data/Y_self_oblateSpheroid_21:28.npy\"))\n",
    "\n",
    "xs.append(np.load(\"../data/X_self_sphere_21:10.npy\"))\n",
    "ys.append(np.load(\"../data/Y_self_sphere_21:10.npy\"))\n",
    "\n",
    "X = np.concatenate(xs, axis=0)\n",
    "Y = np.concatenate(ys, axis=0)\n",
    "orient = compute_rotvec_batch(X[:,3:9]) # convert rotation matrix to vector\n",
    "\n",
    "# we'll project force and torque to \"body frame\" (major axis z-axis algined)\n",
    "# This way, we can ignore particle's orientation for mobility calculation\n",
    "# We will have to project velocity back to \"lab frame\" later- after M @ F.\n",
    "f,t = rotate_forces_torques_to_body(X[:, 9:12], X[:, 12:15], orient)\n",
    "Y[:, :3], Y[:, 3:] = rotate_forces_torques_to_body(Y[:, :3], Y[:, 3:], orient)\n",
    "X[:, 9:12], X[:, 12:15] = f, t\n",
    "\n",
    "\n",
    "# remove abc\n",
    "# x = x[:, 3:]\n",
    "\n",
    "X = torch.Tensor(X).to(device)\n",
    "Y = torch.Tensor(Y).to(device)\n",
    "#orient = torch.Tensor(orient).to(device) \n",
    "\n",
    "X.shape, Y.shape"
   ]
  },
  {
   "cell_type": "code",
   "execution_count": null,
   "id": "ad467e65-dbcf-425a-8c10-7edd03f43bb6",
   "metadata": {},
   "outputs": [],
   "source": []
  },
  {
   "cell_type": "code",
   "execution_count": 4,
   "id": "bc26d7c5-b955-4c19-b0fb-7178af75c7a4",
   "metadata": {},
   "outputs": [
    {
     "data": {
      "text/plain": [
       "(torch.Size([37600, 15]),\n",
       " torch.Size([9400, 15]),\n",
       " torch.Size([37600, 6]),\n",
       " torch.Size([9400, 6]))"
      ]
     },
     "execution_count": 4,
     "metadata": {},
     "output_type": "execute_result"
    }
   ],
   "source": [
    "def shuffle(*arrays):\n",
    "    # Ensure that all arrays have the same first dimension.\n",
    "    n = arrays[0].shape[0]\n",
    "    idx = torch.randperm(n)\n",
    "    return tuple(arr[idx] for arr in arrays)\n",
    "\n",
    "X, Y = shuffle(X,Y)\n",
    "\n",
    "split_frac = .8\n",
    "split_point = int(split_frac * X.size(0))\n",
    "\n",
    "X_train, X_val = X[:split_point], X[split_point:]\n",
    "Y_train, Y_val = Y[:split_point], Y[split_point:]\n",
    "#orient_train, orient_val = orient[:split_point], orient[split_point:]\n",
    "\n",
    "X_train.shape, X_val.shape, Y_train.shape, Y_val.shape"
   ]
  },
  {
   "cell_type": "code",
   "execution_count": 5,
   "id": "ae12591c-545f-4bf9-8249-3c2447501834",
   "metadata": {},
   "outputs": [],
   "source": [
    "import torch\n",
    "import torch.nn as nn\n",
    "import torch.nn.functional as F\n",
    "\n",
    "class SelfNetwork(nn.Module):\n",
    "    \"\"\"\n",
    "    Neural network that predicts the 4 key self-mobility scalars for an\n",
    "    axisymmetric particle in Stokes flow:\n",
    "       mu_T_parallel, mu_T_perp, mu_R_parallel, mu_R_perp\n",
    "    \"\"\"\n",
    "    def __init__(self, input_dim):\n",
    "        super(SelfNetwork, self).__init__()\n",
    "        \n",
    "        # Example architecture. You can tweak layer sizes or add more layers as needed.\n",
    "        self.layers = nn.Sequential(\n",
    "            nn.Linear(input_dim, 64),\n",
    "            nn.ReLU(),\n",
    "            nn.Linear(64, 32),\n",
    "            nn.ReLU(),\n",
    "            nn.Linear(32, 4),\n",
    "            #nn.Tanh()\n",
    "        )\n",
    "\n",
    "    def forward(self, x):\n",
    "        \"\"\"\n",
    "        x includes whatever parameters you need to predict the mobility\n",
    "        scalars (e.g. aspect ratio, orientation in some parameterization, etc.)\n",
    "        Returns the 4 scalars: [mu_T_para, mu_T_perp, mu_R_para, mu_R_perp].\n",
    "        \"\"\"\n",
    "        return self.layers(x)\n",
    "\n",
    "    def predict_velocity(self, x, force):\n",
    "        \"\"\"\n",
    "        force:  tensor of shape (batch_size, 6) -> [Fx, Fy, Fz, Tx, Ty, Tz]\n",
    "        \n",
    "        Steps:\n",
    "        1) Forward pass to get the 4 mobility scalars.\n",
    "        2) Construct the diagonal 3x3 blocks M^{TT}, M^{RR} because\n",
    "           the particle's major axis is z-axis.\n",
    "        3) Multiply by force => velocity [Ux, Uy, Uz, Ox, Oy, Oz].\n",
    "        \"\"\"\n",
    "        # 1) Get the mobility scalars\n",
    "        mus = self.forward(x)  # shape (batch_size, 4)\n",
    "        mu_T_para = mus[:, 0]  # (batch_size,)\n",
    "        mu_T_perp = mus[:, 1]\n",
    "        mu_R_para = mus[:, 2]\n",
    "        mu_R_perp = mus[:, 3]\n",
    "\n",
    "        F_3    = force[:, 0:3]  # (batch_size, 3)\n",
    "        tau_3  = force[:, 3:6]  # (batch_size, 3)\n",
    "\n",
    "        # 2) For each sample, build M^{TT} and M^{RR} as diag:\n",
    "        #    M^{TT} = diag(mu_T_perp, mu_T_perp, mu_T_para)\n",
    "        #    M^{RR} = diag(mu_R_perp, mu_R_perp, mu_R_para)\n",
    "        # We'll do it in a batched way:\n",
    "        \n",
    "        # expand dims for broadcasting\n",
    "        mu_T_para_ = mu_T_para.view(-1, 1)  # (batch_size,1)\n",
    "        mu_T_perp_ = mu_T_perp.view(-1, 1)\n",
    "        mu_R_para_ = mu_R_para.view(-1, 1)\n",
    "        mu_R_perp_ = mu_R_perp.view(-1, 1)\n",
    "\n",
    "        # velocity in the z-axis aligned frame:\n",
    "        #   Ux = mu_T_perp * Fx\n",
    "        #   Uy = mu_T_perp * Fy\n",
    "        #   Uz = mu_T_para * Fz\n",
    "        Ux = mu_T_perp_ * F_3[:,0:1]\n",
    "        Uy = mu_T_perp_ * F_3[:,1:2]\n",
    "        Uz = mu_T_para_ * F_3[:,2:3]\n",
    "\n",
    "        # angular velocity:\n",
    "        #   Ox = mu_R_perp * Tx\n",
    "        #   Oy = mu_R_perp * Ty\n",
    "        #   Oz = mu_R_para * Tz\n",
    "        Ox = mu_R_perp_ * tau_3[:,0:1]\n",
    "        Oy = mu_R_perp_ * tau_3[:,1:2]\n",
    "        Oz = mu_R_para_ * tau_3[:,2:3]\n",
    "\n",
    "        U = torch.cat([Ux, Uy, Uz], dim=1)       # (batch_size, 3)\n",
    "        Omega = torch.cat([Ox, Oy, Oz], dim=1)   # (batch_size, 3)\n",
    "\n",
    "        # Combine\n",
    "        velocity = torch.cat([U, Omega], dim=1)  # (batch_size, 6)\n",
    "        return velocity"
   ]
  },
  {
   "cell_type": "code",
   "execution_count": 7,
   "id": "d303c1c3-a6da-4eb0-a043-52d96f0941ea",
   "metadata": {},
   "outputs": [
    {
     "data": {
      "text/plain": [
       "(146, 37376, 37600)"
      ]
     },
     "execution_count": 7,
     "metadata": {},
     "output_type": "execute_result"
    }
   ],
   "source": [
    "# class SelfNetwork(nn.Module):\n",
    "#     def __init__(self, input_dim):\n",
    "#         super(SelfNetwork, self).__init__()\n",
    "#         self.layers = nn.Sequential(\n",
    "#             nn.Linear(input_dim, 128),\n",
    "#             nn.ReLU(),\n",
    "#             nn.Linear(128, 64),\n",
    "#             nn.ReLU(),\n",
    "#             nn.Linear(64, 128),\n",
    "#             nn.Relu(),\n",
    "#             nn.Linear(128, 6),\n",
    "#         )\n",
    "\n",
    "#     def forward(self, r):\n",
    "#         return self.layers(r)\n",
    "\n",
    "\n",
    "input_dim = 9 # a,b,c and orientation\n",
    "batch_size = 256\n",
    "epochs = 200\n",
    "model = SelfNetwork(input_dim).to(device)\n",
    "optimizer = torch.optim.Adam(model.parameters(), lr=0.003)\n",
    "scheduler = torch.optim.lr_scheduler.StepLR(optimizer, step_size=50, gamma=0.50)\n",
    "#scheduler = torch.optim.lr_scheduler.CosineAnnealingLR(optimizer, T_max=epochs)\n",
    "\n",
    "\n",
    "criterion = nn.L1Loss()\n",
    "n_iter = X_train.shape[0]//batch_size\n",
    "n_iter, n_iter*batch_size, len(X_train)"
   ]
  },
  {
   "cell_type": "code",
   "execution_count": 8,
   "id": "145fc65d-6f76-461c-b80e-54db4fcea93b",
   "metadata": {},
   "outputs": [
    {
     "name": "stdout",
     "output_type": "stream",
     "text": [
      "Epoch 0, Loss: 0.04313357009820334\n",
      "Epoch 5, Loss: 0.006652903371516054\n",
      "Epoch 10, Loss: 0.004283305709664901\n",
      "Epoch 15, Loss: 0.0034752544422302243\n",
      "Epoch 20, Loss: 0.002807480781434793\n",
      "Epoch 25, Loss: 0.002859248723101177\n",
      "Epoch 30, Loss: 0.002278891532388452\n",
      "Epoch 35, Loss: 0.0028692608211215026\n",
      "Epoch 40, Loss: 0.0024730637864917773\n",
      "Epoch 45, Loss: 0.0019567120889654663\n",
      "Epoch 50, Loss: 0.00100093145459278\n",
      "Epoch 55, Loss: 0.0010768329622606709\n",
      "Epoch 60, Loss: 0.0009531984454553497\n",
      "Epoch 65, Loss: 0.0009526834123104505\n",
      "Epoch 70, Loss: 0.0010563187950612875\n",
      "Epoch 75, Loss: 0.0013254289403685357\n",
      "Epoch 80, Loss: 0.0009286824114658959\n",
      "Epoch 85, Loss: 0.0010879014477959822\n",
      "Epoch 90, Loss: 0.0009941160467561742\n",
      "Epoch 95, Loss: 0.0010097094116595332\n",
      "Epoch 100, Loss: 0.0005067116937724465\n",
      "Epoch 105, Loss: 0.0004981523634840365\n",
      "Epoch 110, Loss: 0.0004921623331028968\n",
      "Epoch 115, Loss: 0.00047400755104481257\n",
      "Epoch 120, Loss: 0.00047662943594232646\n",
      "Epoch 125, Loss: 0.00047697159627130357\n",
      "Epoch 130, Loss: 0.00046244670688980004\n",
      "Epoch 135, Loss: 0.0005150264758363123\n",
      "Epoch 140, Loss: 0.0005228318474757842\n",
      "Epoch 145, Loss: 0.0005726338647647238\n",
      "Epoch 150, Loss: 0.0002449322681258471\n",
      "Epoch 155, Loss: 0.00026725009393723594\n",
      "Epoch 160, Loss: 0.0002140243132463146\n",
      "Epoch 165, Loss: 0.00020612749767055964\n",
      "Epoch 170, Loss: 0.00031874040504502874\n",
      "Epoch 175, Loss: 0.00024930710468938806\n",
      "Epoch 180, Loss: 0.00025373558315076893\n",
      "Epoch 185, Loss: 0.00025611090029698273\n",
      "Epoch 190, Loss: 0.0002756226772549307\n",
      "Epoch 195, Loss: 0.0002518150938394932\n"
     ]
    }
   ],
   "source": [
    "losses = []\n",
    "for epoch in range(epochs):\n",
    "    model.train()\n",
    "    avg = 0\n",
    "\n",
    "    X_train, Y_train = shuffle(X_train, Y_train) #dont forget orient if it comes back\n",
    "    for it in range(n_iter):\n",
    "        optimizer.zero_grad()\n",
    "        \n",
    "        indices = torch.arange(it*batch_size, (it+1)*batch_size, dtype=torch.int).cuda()\n",
    "        X_batch = X_train[indices, :9]\n",
    "        F_batch = X_train[indices, 9:]\n",
    "        #orient_batch = orient_train[indices]\n",
    "        Y_batch = Y_train[indices]\n",
    "        \n",
    "        batch_output = model.predict_velocity(X_batch, F_batch)\n",
    "\n",
    "        # Compute loss\n",
    "        loss = criterion(batch_output, Y_batch)\n",
    "        \n",
    "        loss.backward()\n",
    "        avg += loss.item()\n",
    "        optimizer.step()\n",
    "        \n",
    "\n",
    "    scheduler.step()\n",
    "    if epoch%5==0:\n",
    "        print(f'Epoch {epoch}, Loss: {avg/n_iter}')\n",
    "        losses.append(avg/n_iter)\n",
    "\n",
    "torch.save(model.state_dict(), \"self_interaction.wt\")"
   ]
  },
  {
   "cell_type": "code",
   "execution_count": 9,
   "id": "8b4ea96d-5bee-453e-b82b-6ebe65135edc",
   "metadata": {},
   "outputs": [
    {
     "data": {
      "image/png": "[encoded data removed]",
      "text/plain": [
       "<Figure size 640x480 with 1 Axes>"
      ]
     },
     "metadata": {},
     "output_type": "display_data"
    }
   ],
   "source": [
    "import matplotlib.pyplot as plt\n",
    "los = losses[1:] # first one is usually too big, messes up the plot\n",
    "plt.plot(np.arange(len(los))*5+1, los);\n",
    "plt.ylabel(\"Loss\")\n",
    "plt.xlabel(\"Epochs\");"
   ]
  },
  {
   "cell_type": "code",
   "execution_count": 10,
   "id": "51b38993-2ff6-494b-acf3-61630358e666",
   "metadata": {},
   "outputs": [],
   "source": [
    "model = SelfNetwork(input_dim).to(device)\n",
    "model.load_state_dict(torch.load(\"self_interaction.wt\", weights_only=True))\n",
    "model.eval()\n",
    "\n",
    "with torch.no_grad():\n",
    "    val_output = model.predict_velocity(X_val[:,:9], X_val[:, 9:])"
   ]
  },
  {
   "cell_type": "code",
   "execution_count": 11,
   "id": "ba0e93c4-2b76-4310-89ad-81686ee91f7c",
   "metadata": {},
   "outputs": [
    {
     "name": "stdout",
     "output_type": "stream",
     "text": [
      "Root Mean Squared error for each of 6 output variables:\n",
      " tensor([2.3705e-04, 2.3615e-04, 3.8645e-04, 3.9007e-04, 3.9575e-04, 4.7771e-05],\n",
      "       device='cuda:0')\n",
      "Actual Magnitude:\n",
      "  tensor([0.3423, 0.3406, 0.3690, 0.0513, 0.0518, 0.0766], device='cuda:0')\n",
      "RMSE: tensor(0.0003, device='cuda:0') tensor(9.5393e-08, device='cuda:0')\n"
     ]
    }
   ],
   "source": [
    "criterion = nn.MSELoss(reduction='none') \n",
    "err = criterion(val_output, Y_val)\n",
    "\n",
    "rmse = torch.sqrt(err.mean(axis=0))\n",
    "\n",
    "print(\"Root Mean Squared error for each of 6 output variables:\\n\", rmse)\n",
    "print(\"Actual Magnitude:\\n \", torch.abs(Y_val).mean(axis=0))\n",
    "print(\"RMSE:\", err.mean()**.5, err.mean())"
   ]
  },
  {
   "cell_type": "code",
   "execution_count": 12,
   "id": "6ba98f74-390d-425a-8839-7f9cc9197f83",
   "metadata": {},
   "outputs": [
    {
     "data": {
      "text/plain": [
       "tensor([0.0657, 0.0623, 0.0783, 0.9752, 0.9666, 0.0596], device='cuda:0')"
      ]
     },
     "execution_count": 12,
     "metadata": {},
     "output_type": "execute_result"
    }
   ],
   "source": [
    "#### Mean Relative Absolute Error\n",
    "valid_mask = torch.abs(Y_val) > 1e-6\n",
    "\n",
    "filtered_y_tensor = torch.where(valid_mask, Y_val, torch.tensor(float('nan')))\n",
    "relative_error = torch.abs((val_output - filtered_y_tensor) / filtered_y_tensor)\n",
    "\n",
    "a = torch.nanmean(relative_error, dim=0)\n",
    "a*100"
   ]
  },
  {
   "cell_type": "code",
   "execution_count": 13,
   "id": "bca87de2-674d-46f6-948b-503846d339f2",
   "metadata": {},
   "outputs": [
    {
     "data": {
      "text/plain": [
       "tensor([0.0693, 0.0693, 0.1047, 0.7597, 0.7641, 0.0624], device='cuda:0')"
      ]
     },
     "execution_count": 13,
     "metadata": {},
     "output_type": "execute_result"
    }
   ],
   "source": [
    "frac = rmse/torch.abs(Y_val).mean(axis=0)\n",
    "frac*100"
   ]
  },
  {
   "cell_type": "code",
   "execution_count": 13,
   "id": "34d8b557-3c79-4036-854f-dca9039fa03a",
   "metadata": {},
   "outputs": [
    {
     "data": {
      "text/plain": [
       "(tensor([-0.6538,  0.1598,  0.7396, -0.1169, -0.1135,  0.2519], device='cuda:0'),\n",
       " tensor([-0.6539,  0.1598,  0.7362, -0.1168, -0.1134,  0.2517], device='cuda:0'),\n",
       " tensor([1., 1., 1.], device='cuda:0'))"
      ]
     },
     "execution_count": 13,
     "metadata": {},
     "output_type": "execute_result"
    }
   ],
   "source": [
    "ii = 124\n",
    "Y_val[ii], val_output[ii], X_val[ii,:3]"
   ]
  },
  {
   "cell_type": "code",
   "execution_count": null,
   "id": "b2bfe70a-0005-41ea-9557-8cf828cb3dee",
   "metadata": {},
   "outputs": [],
   "source": []
  },
  {
   "cell_type": "code",
   "execution_count": null,
   "id": "7e661fb2-6b5e-4c41-adfe-c683f5e69318",
   "metadata": {},
   "outputs": [],
   "source": []
  }
 ],
 "metadata": {
  "kernelspec": {
   "display_name": "Python 3 (ipykernel)",
   "language": "python",
   "name": "python3"
  },
  "language_info": {
   "codemirror_mode": {
    "name": "ipython",
    "version": 3
   },
   "file_extension": ".py",
   "mimetype": "text/x-python",
   "name": "python",
   "nbconvert_exporter": "python",
   "pygments_lexer": "ipython3",
   "version": "3.12.2"
  }
 },
 "nbformat": 4,
 "nbformat_minor": 5
}
