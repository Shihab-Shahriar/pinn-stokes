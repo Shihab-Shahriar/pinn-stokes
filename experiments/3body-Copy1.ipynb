{
 "cells": [
  {
   "cell_type": "code",
   "execution_count": 1,
   "id": "7e95cd7f-d027-43eb-b0c5-763f00c9fa70",
   "metadata": {},
   "outputs": [],
   "source": [
    "import numpy as np\n",
    "import os\n",
    "import seaborn as sns\n",
    "import matplotlib.pyplot as plt\n",
    "import pandas as pd\n",
    "from scipy.spatial.transform import Rotation\n",
    "from sklearn.preprocessing import *\n",
    "import torch\n",
    "import torch.nn as nn\n",
    "import torch.nn.functional as F\n",
    "\n",
    "import sys\n",
    "\n",
    "sys.path.append(\"/home/shihab/repo/src\")\n",
    "from analysis_utils import convert_to_tensors, shuffle_and_split\n",
    "\n",
    "torch.manual_seed(411)\n",
    "np.random.seed(41)\n",
    "\n",
    "device = torch.device(\"cuda\" if torch.cuda.is_available() else \"cpu\")\n",
    "torch.set_default_device(device)"
   ]
  },
  {
   "cell_type": "markdown",
   "id": "d0478011-d6dc-4111-a67d-eac15490dc3d",
   "metadata": {},
   "source": [
    "## Snapshot of model capturing 3-body interaction\n",
    "\n",
    "Goal is to show NN-based method generalizes well to situations where we don't necessarily have good physics-constraints (like we do for 2-body case). Plus, our NN model achieves accuracy that even outperforms Stokesian Dynamics, HiGNN's ground truth.\n",
    "\n",
    "+ 69k sphere samples, all with torque, but magnitude of torque differs between samples.\n",
    "+ We can now capture the nearfield pattern (U3) in Helen's test, previously it was completely being missed.\n",
    "\n",
    "Here is U3 error line for previous code (L2 loss, with torque bug). New figure is in a cell below.\n",
    "\n",
    "![prev_U3_pattern](prev_U3_pattern.png)"
   ]
  },
  {
   "cell_type": "code",
   "execution_count": null,
   "id": "ab6b1887-7cda-4aad-a199-db5bd1270813",
   "metadata": {},
   "outputs": [],
   "source": []
  },
  {
   "cell_type": "code",
   "execution_count": 2,
   "id": "54b038a7-76a3-4977-91e6-83c12ba1fc63",
   "metadata": {},
   "outputs": [
    {
     "name": "stdout",
     "output_type": "stream",
     "text": [
      "(40000, 22)\n"
     ]
    },
    {
     "data": {
      "text/plain": [
       "((40000, 22),\n",
       " Index(['x_s', 'y_s', 'z_s', 'dist_s', 'min_dist_s', 'f_x_s', 'f_y_s', 'f_z_s',\n",
       "        'tor_x_s', 'tor_y_s', 'tor_z_s', 'x_k', 'y_k', 'z_k', 'dist_k',\n",
       "        'min_dist_k', 'vel_x', 'vel_y', 'vel_z', 'angvel_x', 'angvel_y',\n",
       "        'angvel_z'],\n",
       "       dtype='object'))"
      ]
     },
     "execution_count": 2,
     "metadata": {},
     "output_type": "execute_result"
    }
   ],
   "source": [
    "root = \"../data/3b_cross\"\n",
    "times = os.listdir(root)\n",
    "xs, ys = [], []\n",
    "for f in times:\n",
    "    file = f[1:]\n",
    "    x = np.load(f\"{root}/X{file}\")\n",
    "    y = np.load(f\"{root}/Y{file}\")\n",
    "    xs.append(x)\n",
    "    ys.append(y)\n",
    "\n",
    "X = np.concatenate(xs, axis=0)\n",
    "Y = np.concatenate(ys, axis=0)\n",
    "\n",
    "XY = np.hstack([X, Y])          # shape: (total_rows, 16)\n",
    "print(XY.shape)\n",
    "\n",
    "column_names = [\n",
    "    # X columns \n",
    "    \"x_s\", \"y_s\", \"z_s\", \"dist_s\", \"min_dist_s\",\n",
    "    \"f_x_s\", \"f_y_s\", \"f_z_s\",\n",
    "    \"tor_x_s\", \"tor_y_s\", \"tor_z_s\",\n",
    "    \n",
    "    \"x_k\", \"y_k\", \"z_k\", \"dist_k\", \"min_dist_k\",\n",
    "    # Y columns\n",
    "    \"vel_x\", \"vel_y\", \"vel_z\",\n",
    "    \"angvel_x\", \"angvel_y\", \"angvel_z\"\n",
    "]\n",
    "\n",
    "df = pd.DataFrame(XY, columns=column_names)\n",
    "df.shape, df.columns"
   ]
  },
  {
   "cell_type": "code",
   "execution_count": 3,
   "id": "4a2823a9-0709-4a65-88bf-0716c0bf6416",
   "metadata": {},
   "outputs": [
    {
     "data": {
      "image/png": "[encoded data removed]",
      "text/plain": [
       "<Figure size 640x480 with 1 Axes>"
      ]
     },
     "metadata": {},
     "output_type": "display_data"
    }
   ],
   "source": [
    "sns.histplot(df[\"dist_s\"], bins=40);"
   ]
  },
  {
   "cell_type": "code",
   "execution_count": 4,
   "id": "1ab1b490-ee3f-4b78-8c93-4de2d9e43277",
   "metadata": {},
   "outputs": [
    {
     "name": "stdout",
     "output_type": "stream",
     "text": [
      "Distance means: 4.724224262198524 4.701194833185605 6.676046130020521\n"
     ]
    },
    {
     "data": {
      "text/plain": [
       "((40000, 29),\n",
       " Index(['x_s', 'y_s', 'z_s', 'dist_s', 'min_dist_s', 'f_x_s', 'f_y_s', 'f_z_s',\n",
       "        'tor_x_s', 'tor_y_s', 'tor_z_s', 'x_k', 'y_k', 'z_k', 'dist_k',\n",
       "        'min_dist_k', 'vel_x', 'vel_y', 'vel_z', 'angvel_x', 'angvel_y',\n",
       "        'angvel_z', 'dist_sk', 'dist_s_sq', 'dist_k_sq', 'dist_sk_sq',\n",
       "        'dist_s_sqsq', 'dist_k_sqsq', 'dist_sk_sqsq'],\n",
       "       dtype='object'))"
      ]
     },
     "execution_count": 4,
     "metadata": {},
     "output_type": "execute_result"
    }
   ],
   "source": [
    "df['dist_sk'] = np.sqrt(\n",
    "    (df['x_s'] - df['x_k'])**2 +\n",
    "    (df['y_s'] - df['y_k'])**2 +\n",
    "    (df['z_s'] - df['z_k'])**2\n",
    ")\n",
    "\n",
    "# center all distance columns\n",
    "mean_dist_s = df['dist_s'].mean()\n",
    "mean_dist_k = df['dist_k'].mean()\n",
    "mean_dist_sk = df['dist_sk'].mean()\n",
    "print(\"Distance means:\", mean_dist_s, mean_dist_k, mean_dist_sk)\n",
    "\n",
    "df['dist_s'] -= mean_dist_s\n",
    "df['dist_k'] -= mean_dist_k\n",
    "df['dist_sk'] -= mean_dist_sk\n",
    "\n",
    "df['dist_s_sq'] = df['dist_s']**2\n",
    "df['dist_k_sq'] = df['dist_k']**2\n",
    "df['dist_sk_sq'] = df['dist_sk']**2\n",
    "\n",
    "df['dist_s_sqsq'] = df['dist_s_sq']**2\n",
    "df['dist_k_sqsq'] = df['dist_k_sq']**2\n",
    "df['dist_sk_sqsq'] = df['dist_sk_sq']**2\n",
    "\n",
    "# Convert all actual position columns to relative positions\n",
    "origin = np.array([0.0, 0.0, 0.0]) #target is at origin\n",
    "\n",
    "# dvec = target-source\n",
    "df['x_s'] = origin[0] - df['x_s']\n",
    "df['y_s'] = origin[1] - df['y_s']\n",
    "df['z_s'] = origin[2] - df['z_s']\n",
    "df['x_k'] = origin[0] - df['x_k']\n",
    "df['y_k'] = origin[1] - df['y_k']\n",
    "df['z_k'] = origin[2] - df['z_k']\n",
    "\n",
    "df.shape, df.columns"
   ]
  },
  {
   "cell_type": "code",
   "execution_count": 5,
   "id": "52606216-110e-4194-8da0-a3b16aaca71d",
   "metadata": {},
   "outputs": [],
   "source": [
    "def prepare_vectors(df):\n",
    "    force_cols = [\n",
    "        'f_x_s', 'f_y_s', 'f_z_s', 'tor_x_s', 'tor_y_s', 'tor_z_s'    ]\n",
    "    output_cols = [\n",
    "        'vel_x', 'vel_y', 'vel_z',\n",
    "        'angvel_x', 'angvel_y', 'angvel_z'\n",
    "    ]\n",
    "    dvec_s = ['x_s', 'y_s', 'z_s']\n",
    "    feat_2b_s = ['dist_s', 'dist_s_sq', 'dist_s_sqsq', 'min_dist_s']\n",
    "    dvec_k = ['x_k', 'y_k', 'z_k']\n",
    "    feat_2b_k = ['dist_k', 'dist_k_sq', 'dist_k_sqsq', 'min_dist_k']\n",
    "    sk_feats = ['dist_sk', 'dist_sk_sq', 'dist_sk_sqsq']\n",
    "\n",
    "    feature_cols = dvec_s + dvec_k + feat_2b_s + feat_2b_k + sk_feats\n",
    "    print(\"Using features:\", feature_cols)\n",
    "    \n",
    "    dist_vec   = df[feature_cols].values\n",
    "    force_vec  = df[force_cols].values\n",
    "    output_vec = df[output_cols].values\n",
    "    return dist_vec, force_vec, output_vec"
   ]
  },
  {
   "cell_type": "code",
   "execution_count": 6,
   "id": "e707fdd1-3d84-4da3-ba05-dcd32528599d",
   "metadata": {},
   "outputs": [
    {
     "name": "stdout",
     "output_type": "stream",
     "text": [
      "Using features: ['x_s', 'y_s', 'z_s', 'x_k', 'y_k', 'z_k', 'dist_s', 'dist_s_sq', 'dist_s_sqsq', 'min_dist_s', 'dist_k', 'dist_k_sq', 'dist_k_sqsq', 'min_dist_k', 'dist_sk', 'dist_sk_sq', 'dist_sk_sqsq']\n"
     ]
    },
    {
     "data": {
      "text/plain": [
       "(torch.Size([32000, 17]), torch.Size([32000, 6]), torch.Size([8000, 17]))"
      ]
     },
     "execution_count": 6,
     "metadata": {},
     "output_type": "execute_result"
    }
   ],
   "source": [
    "feat, force, vel = prepare_vectors(df)\n",
    "feat, force, vel = convert_to_tensors(feat, force, vel)\n",
    "\n",
    "\n",
    "tmp = list(shuffle_and_split(df, feat, force, vel, split_frac=.8))\n",
    "indices = tmp.pop()\n",
    "\n",
    "for i in range(len(tmp)):\n",
    "    tmp[i] = tmp[i].to(device)\n",
    "\n",
    "(train_dist_tensor, val_dist_tensor, \n",
    "    train_force_tensor, val_force_tensor, \n",
    "    train_velocity_tensor, val_velocity_tensor) = tmp\n",
    "\n",
    "train_dist_tensor.shape, train_force_tensor.shape, val_dist_tensor.shape"
   ]
  },
  {
   "cell_type": "code",
   "execution_count": 7,
   "id": "8830fdb2-94d5-4cac-ac69-8e052510089f",
   "metadata": {},
   "outputs": [
    {
     "data": {
      "text/plain": [
       "tensor(6324.0659, device='cuda:0')"
      ]
     },
     "execution_count": 7,
     "metadata": {},
     "output_type": "execute_result"
    }
   ],
   "source": [
    "train_dist_tensor[:,-1].max()"
   ]
  },
  {
   "cell_type": "code",
   "execution_count": null,
   "id": "a5fba1a1-e763-4be5-854b-06c3db34b972",
   "metadata": {},
   "outputs": [],
   "source": []
  },
  {
   "cell_type": "code",
   "execution_count": 8,
   "id": "1c592054-d13b-41cc-a68f-0f1ce26b54e9",
   "metadata": {
    "jupyter": {
     "source_hidden": true
    }
   },
   "outputs": [],
   "source": [
    "# viscosity = 1.0\n",
    "# eigens = None\n",
    "\n",
    "# class ScNetwork(nn.Module):\n",
    "#     def __init__(self, input_dim):\n",
    "#         super(ScNetwork, self).__init__()\n",
    "#         self.layers = nn.Sequential(\n",
    "#             nn.Linear(input_dim, 64),\n",
    "#             nn.ReLU(),\n",
    "#             nn.Linear(64, 32),\n",
    "#             nn.ReLU(),\n",
    "#             nn.Linear(32, 64),\n",
    "#             nn.ReLU(),\n",
    "#             nn.Linear(64, 32),\n",
    "#             nn.ReLU(),\n",
    "#             nn.Linear(32, 64),\n",
    "#             nn.ReLU(),\n",
    "#             nn.Linear(64, 5),\n",
    "#             nn.Tanh()\n",
    "#         )\n",
    "        \n",
    "#     def forward(self, r, print_scalars=False):\n",
    "#         return self.layers(r)\n",
    "\n",
    "#     def predict_mobility(self, X, print_scalars=False):\n",
    "#         d_vec, r = X[:,:3], X[:,3]\n",
    "#         sc = self.forward(X, print_scalars)\n",
    "        \n",
    "#         d_vec = d_vec/ r.unsqueeze(-1)\n",
    "#         TT = sc[:, 0].unsqueeze(1).unsqueeze(2) * L1(d_vec) + \\\n",
    "#                 sc[:, 1].unsqueeze(1).unsqueeze(2) * L2(d_vec) # TODO: d_vec or r?\n",
    "#         RT = sc[:, 2].unsqueeze(1).unsqueeze(2) * L3(d_vec)\n",
    "#         RR = sc[:, 3].unsqueeze(1).unsqueeze(2) * L1(d_vec) + \\\n",
    "#                 sc[:, 4].unsqueeze(1).unsqueeze(2) * L2(d_vec)\n",
    "    \n",
    "#         K = torch.zeros((len(X), 6, 6), dtype=torch.float32, device=X.device)\n",
    "    \n",
    "#         K[:, :3, :3] = TT  # Top-left block\n",
    "#         K[:, 3:, :3] = RT  # Bottom-left block\n",
    "#         K[:, :3, 3:] = RT  # Top-right block (transpose of B)\n",
    "#         K[:, 3:, 3:] = RR  # Bottom-right block\n",
    "\n",
    "#         # nonSPD = 0\n",
    "#         # global eigens\n",
    "#         # if not self.training:\n",
    "#         #     print(\"Activating SPSD check..\")\n",
    "#         #     for i in range(len(K)):\n",
    "#         #         eigs = np.linalg.eigvals(K[i].detach().cpu())\n",
    "#         #         #assert np.all(eigs>=0), f\"NOT SPSD: {eigs}\"\n",
    "#         #         if not np.all(eigs>=-.0001):\n",
    "#         #             eigens = eigs.copy()\n",
    "#         #             nonSPD += 1\n",
    "#         #     print(f\"{nonSPD=}, {len(K)}\")\n",
    "#         return K\n",
    "\n",
    "#     def predict_velocity(self, X, force, return_M=False):\n",
    "#         M = self.predict_mobility(X)/viscosity\n",
    "#         velocity = torch.bmm(M, force.unsqueeze(-1)).squeeze(-1)\n",
    "#         if return_M:\n",
    "#             return velocity, M\n",
    "#         return velocity\n"
   ]
  },
  {
   "cell_type": "code",
   "execution_count": 9,
   "id": "e51e9214-4e62-466a-808c-4fb1a71089fd",
   "metadata": {},
   "outputs": [],
   "source": [
    "viscosity = 1.0\n",
    "eigens = None\n",
    "\n",
    "class ThreeBodyNet(nn.Module):\n",
    "    def __init__(self, input_dim, two_nn_path, median_2b, mean_dist_s):\n",
    "        super().__init__()\n",
    "        self.net = nn.Sequential(\n",
    "            nn.Linear(input_dim, 64),\n",
    "            nn.Tanh(),\n",
    "            nn.Linear(64, 128),\n",
    "            nn.Tanh(),\n",
    "            nn.Linear(128, 256),\n",
    "            nn.Tanh(),\n",
    "            nn.Linear(256, 128),\n",
    "            nn.Tanh(),\n",
    "            nn.Linear(128, 36)\n",
    "        )\n",
    "        self.two_nn = torch.jit.load(two_nn_path, map_location=device).eval()\n",
    "        self.median_2b = median_2b\n",
    "        self.mean_dist_s = mean_dist_s\n",
    "        \n",
    "    def forward(self, X):\n",
    "        return self.net(X)           # shape [B,10]\n",
    "\n",
    "    @torch.jit.export\n",
    "    def predict_velocity(self, X, force_s):\n",
    "        coeff = self.forward(X)                     # [B,10]\n",
    "\n",
    "        M_3b = torch.reshape(coeff, (-1, 6, 6))\n",
    "        v = torch.bmm(M_3b, force_s.unsqueeze(-1)).squeeze(-1)\n",
    "        return v\n",
    "\n",
    "    def predict_velocity_total(self, X3b, force_s, mu=1.0):\n",
    "        return self.predict_two_body_from_triplet(X3b, force_s, mu) + \\\n",
    "               self.predict_velocity(X3b, force_s)\n",
    "        \n",
    "\n",
    "    def predict_two_body_from_triplet(self, X3b, force_s, mu=1.0):\n",
    "        \"\"\"\n",
    "        X3b: [B, 17] triplet features in notebook order\n",
    "        force_s: [B, 6] source force/torque in the lab frame (only s is nonzero)\n",
    "        Returns: [B, 6] predicted two-body velocity on t due to s only\n",
    "        \"\"\"\n",
    "        # Extract dvec_s = (x_s, y_s, z_s) which is target - source (already in lab frame)\n",
    "        dvec_s = X3b[:, 0:3]                         # [B,3]\n",
    "\n",
    "        # Recover raw dist_s: centered + mean\n",
    "        dist_s_centered = X3b[:, 6]                  # [B]\n",
    "        dist_s_raw = dist_s_centered + self.mean_dist_s\n",
    "\n",
    "        # Build 2-body inputs\n",
    "        min_dist_raw = dist_s_raw - 2.0              # [B]\n",
    "        r2 = (dist_s_raw - self.median_2b)**2\n",
    "        r4 = r2 * r2\n",
    "\n",
    "        X2b = torch.cat(\n",
    "            [dvec_s,\n",
    "             dist_s_raw.unsqueeze(1),\n",
    "             r2.unsqueeze(1),\n",
    "             r4.unsqueeze(1),\n",
    "             min_dist_raw.unsqueeze(1)],\n",
    "            dim=1\n",
    "        ).to(device)                                    # [B, 7] (sphere case)\n",
    "\n",
    "        # Forces: only source on (s) is nonzero; target (t) = zeros\n",
    "        Fs_target = torch.zeros_like(force_s, device=device)  # [B,6]\n",
    "        Ft_source = force_s.to(device)                        # [B,6]\n",
    "\n",
    "        mu_tensor = torch.tensor(float(mu), dtype=torch.float32, device=device)\n",
    "        v2b = self.two_nn.predict_velocity(X2b, Fs_target, Ft_source, mu_tensor)  # [B,6]\n",
    "        return v2b\n",
    "\n",
    "    def make_residual_labels(self, X3b, force_s, y_total_3b, mu=1.0):\n",
    "        \"\"\"\n",
    "        y_total_3b: [B,6] ground truth velocity on t from 3-body solve (s active, k passive)\n",
    "        Returns residual labels: y_res = y_total_3b - v2b_pred\n",
    "        \"\"\"\n",
    "        v2b = self.predict_two_body_from_triplet(X3b, force_s, mu)\n",
    "        return y_total_3b.to(device) - v2b"
   ]
  },
  {
   "cell_type": "code",
   "execution_count": null,
   "id": "82ebbc7d-95f8-44a9-a2ed-efa18d542a84",
   "metadata": {},
   "outputs": [],
   "source": []
  },
  {
   "cell_type": "markdown",
   "id": "1014c0a1-1c7d-4ce3-b84a-2620831d4d56",
   "metadata": {},
   "source": [
    "## Modelling"
   ]
  },
  {
   "cell_type": "code",
   "execution_count": 10,
   "id": "cdf70f6d-c04d-4e7e-8d58-650e3fc3126c",
   "metadata": {},
   "outputs": [
    {
     "data": {
      "text/plain": [
       "(125, 32000, 32000)"
      ]
     },
     "execution_count": 10,
     "metadata": {},
     "output_type": "execute_result"
    }
   ],
   "source": [
    "input_dim = train_dist_tensor.shape[1]\n",
    "batch_size = 256\n",
    "epochs = 375 #350 seemed important for mob_op_3b acc on reference.csv\n",
    "\n",
    "twob_path = \"../data/models/two_body_combined_model.pt\"\n",
    "median_2b = 5.008307682776568 #copied from 2b training notebook\n",
    "model = ThreeBodyNet(input_dim, twob_path,median_2b, mean_dist_s).to(device)\n",
    "\n",
    "\n",
    "optimizer = torch.optim.Adam(model.parameters(), lr=0.001)\n",
    "#scheduler = torch.optim.lr_scheduler.StepLR(optimizer, step_size=50, gamma=0.50)\n",
    "scheduler = torch.optim.lr_scheduler.CosineAnnealingLR(optimizer, T_max=epochs)\n",
    "\n",
    "\n",
    "criterion = nn.MSELoss()\n",
    "#criterion = nn.L1Loss()\n",
    "n_batches = train_velocity_tensor.shape[0]//batch_size\n",
    "n_batches, n_batches*batch_size, len(train_dist_tensor)"
   ]
  },
  {
   "cell_type": "code",
   "execution_count": 11,
   "id": "6b124a17-ba0a-492f-87c9-7b93b16b53bd",
   "metadata": {},
   "outputs": [],
   "source": [
    "def shuffle_tensors(*tensors):\n",
    "    \"\"\" Shuffles multiple tensors in the same order \"\"\"\n",
    "    indices = torch.randperm(tensors[0].size(0),device=device)  # Generate random indices\n",
    "    return tuple(tensor[indices] for tensor in tensors)\n",
    "\n",
    "with torch.no_grad():\n",
    "    y_residual = model.make_residual_labels(\n",
    "        train_dist_tensor, \n",
    "        train_force_tensor, \n",
    "        train_velocity_tensor, mu=1.0)"
   ]
  },
  {
   "cell_type": "code",
   "execution_count": 12,
   "id": "73765d5c-4273-4c30-8bf5-1e29b86e0397",
   "metadata": {},
   "outputs": [
    {
     "name": "stdout",
     "output_type": "stream",
     "text": [
      "Epoch 0, Loss: 0.20088727960735558\n",
      "Epoch 5, Loss: 0.005399776466190815\n",
      "Epoch 10, Loss: 0.00444142691232264\n",
      "Epoch 15, Loss: 0.0037027840949594975\n",
      "Epoch 20, Loss: 0.002687318639829755\n",
      "Epoch 25, Loss: 0.0016465883422642946\n",
      "Epoch 30, Loss: 0.0009324872815050185\n",
      "Epoch 35, Loss: 0.0005761977785732598\n",
      "Epoch 40, Loss: 0.00041270846710540353\n",
      "Epoch 45, Loss: 0.00037360200309194625\n",
      "Epoch 50, Loss: 0.0003205043689813465\n",
      "Epoch 55, Loss: 0.00028082768525928257\n",
      "Epoch 60, Loss: 0.0002561712210299447\n",
      "Epoch 65, Loss: 0.00018485476926434786\n",
      "Epoch 70, Loss: 0.0001580280650523491\n",
      "Epoch 75, Loss: 0.0001357222703518346\n",
      "Epoch 80, Loss: 0.0001258923436398618\n",
      "Epoch 85, Loss: 0.00013915866904426366\n",
      "Epoch 90, Loss: 0.00013436581660062073\n",
      "Epoch 95, Loss: 8.634698652895167e-05\n",
      "Epoch 100, Loss: 0.002148534922860563\n",
      "Epoch 105, Loss: 0.0007858596108853817\n",
      "Epoch 110, Loss: 0.00033251489175017924\n",
      "Epoch 115, Loss: 0.00020721115823835136\n",
      "Epoch 120, Loss: 0.00016318538354244083\n",
      "Epoch 125, Loss: 0.00014074658474419265\n",
      "Epoch 130, Loss: 0.00012055907910689712\n",
      "Epoch 135, Loss: 0.00011178507900331169\n",
      "Epoch 140, Loss: 0.00010701732698362321\n",
      "Epoch 145, Loss: 0.00010397464060224592\n",
      "Epoch 150, Loss: 9.051620383979752e-05\n",
      "Epoch 155, Loss: 9.363974008010701e-05\n",
      "Epoch 160, Loss: 8.94395790528506e-05\n",
      "Epoch 165, Loss: 6.496600847458467e-05\n",
      "Epoch 170, Loss: 6.061096218763851e-05\n",
      "Epoch 175, Loss: 4.864432457543444e-05\n",
      "Epoch 180, Loss: 4.581741766014602e-05\n",
      "Epoch 185, Loss: 5.6040347873931754e-05\n",
      "Epoch 190, Loss: 3.33597222197568e-05\n",
      "Epoch 195, Loss: 3.6195392967783844e-05\n",
      "Epoch 200, Loss: 3.598998903180473e-05\n",
      "Epoch 205, Loss: 2.8627306208363735e-05\n",
      "Epoch 210, Loss: 2.802232065005228e-05\n",
      "Epoch 215, Loss: 2.983537965337746e-05\n",
      "Epoch 220, Loss: 2.4284681436256506e-05\n",
      "Epoch 225, Loss: 2.1460600815771613e-05\n",
      "Epoch 230, Loss: 1.9418240335653535e-05\n",
      "Epoch 235, Loss: 1.9602373613452072e-05\n",
      "Epoch 240, Loss: 1.7457064932386856e-05\n",
      "Epoch 245, Loss: 1.7495858781330754e-05\n",
      "Epoch 250, Loss: 1.4793690359510947e-05\n",
      "Epoch 255, Loss: 1.4670650358311831e-05\n",
      "Epoch 260, Loss: 1.3719766800932121e-05\n",
      "Epoch 265, Loss: 1.3017798322835006e-05\n",
      "Epoch 270, Loss: 1.2446207707398572e-05\n",
      "Epoch 275, Loss: 1.2817966522561619e-05\n",
      "Epoch 280, Loss: 1.1228557625145186e-05\n",
      "Epoch 285, Loss: 1.0703840598580427e-05\n",
      "Epoch 290, Loss: 1.022766891401261e-05\n",
      "Epoch 295, Loss: 1.0135509244719287e-05\n",
      "Epoch 300, Loss: 9.759611337358365e-06\n",
      "Epoch 305, Loss: 9.219367264449829e-06\n",
      "Epoch 310, Loss: 8.720553047169233e-06\n",
      "Epoch 315, Loss: 8.533195879863342e-06\n",
      "Epoch 320, Loss: 8.231638468714663e-06\n",
      "Epoch 325, Loss: 8.057274841121398e-06\n",
      "Epoch 330, Loss: 7.67848823670647e-06\n",
      "Epoch 335, Loss: 7.507683458243264e-06\n",
      "Epoch 340, Loss: 7.318721513001947e-06\n",
      "Epoch 345, Loss: 7.183590802014806e-06\n",
      "Epoch 350, Loss: 7.056054357235553e-06\n",
      "Epoch 355, Loss: 6.9209139146551024e-06\n",
      "Epoch 360, Loss: 6.835284008047893e-06\n",
      "Epoch 365, Loss: 6.749912039595074e-06\n",
      "Epoch 370, Loss: 6.701094311210909e-06\n"
     ]
    }
   ],
   "source": [
    "    \n",
    "losses = []\n",
    "data_losses, spsd_losses = [], []\n",
    "for epoch in range(epochs):\n",
    "    model.train()\n",
    "    avg = 0\n",
    "    avg_data, avg_spsd = 0, 0\n",
    "    \n",
    "    train_dist_tensor, train_force_tensor, y_residual = shuffle_tensors(\n",
    "        train_dist_tensor, train_force_tensor, y_residual\n",
    "    )\n",
    "    for it in range(n_batches):\n",
    "        optimizer.zero_grad()\n",
    "        \n",
    "        indices = torch.arange(it*batch_size, (it+1)*batch_size, dtype=torch.int).cuda()\n",
    "        \n",
    "        X = train_dist_tensor[indices]  \n",
    "        force_s = train_force_tensor[indices]         \n",
    "        Y = y_residual[indices]  \n",
    "\n",
    "        Y_b = model.predict_velocity(X, force_s)\n",
    "        loss = criterion(Y_b, Y)\n",
    "        \n",
    "        loss.backward()\n",
    "        avg += loss.item()\n",
    "        avg_data += 0 #data_loss.item()\n",
    "        #avg_spsd += spsd_loss.item()\n",
    "        optimizer.step()\n",
    "        \n",
    "\n",
    "    scheduler.step()\n",
    "    if epoch%5==0:\n",
    "        print(f'Epoch {epoch}, Loss: {avg/n_batches}')\n",
    "        losses.append(avg/n_batches)\n",
    "        data_losses.append(avg_data/n_batches)\n",
    "        spsd_losses.append(avg_spsd/n_batches)\n",
    "\n",
    "torch.save(model.state_dict(), \"3body_cross.wt\")"
   ]
  },
  {
   "cell_type": "code",
   "execution_count": 13,
   "id": "0eb5dcd1-4bf6-432e-8dff-52837043b3f7",
   "metadata": {},
   "outputs": [
    {
     "data": {
      "image/png": "[encoded data removed]",
      "text/plain": [
       "<Figure size 640x480 with 1 Axes>"
      ]
     },
     "metadata": {},
     "output_type": "display_data"
    }
   ],
   "source": [
    "import matplotlib.pyplot as plt\n",
    "los = losses[1:] # first one is usually too big, messes up the plot\n",
    "plt.plot(np.arange(len(los))*5+1, los);\n",
    "plt.ylabel(\"Loss\")\n",
    "plt.xlabel(\"Epochs\");\n",
    "plt.savefig(\"loss.png\");"
   ]
  },
  {
   "cell_type": "markdown",
   "id": "27add100-c5c5-4cae-9e3a-b990d064f0f2",
   "metadata": {},
   "source": [
    "## Evaluation"
   ]
  },
  {
   "cell_type": "code",
   "execution_count": 14,
   "id": "475b064e-fd6f-4703-b6b6-498fc2bfb597",
   "metadata": {},
   "outputs": [],
   "source": [
    "model = ThreeBodyNet(input_dim, twob_path,median_2b, mean_dist_s).to(device)\n",
    "model.load_state_dict(torch.load(\"3body_cross.wt\", weights_only=True))\n",
    "model.eval()\n",
    "\n",
    "with torch.no_grad():\n",
    "    val_output = model.predict_velocity_total(val_dist_tensor, val_force_tensor)"
   ]
  },
  {
   "cell_type": "code",
   "execution_count": 15,
   "id": "a1e83fff-c71b-40da-923c-3f86f0c9b75f",
   "metadata": {},
   "outputs": [
    {
     "data": {
      "text/plain": [
       "(tensor([-0.110206,  0.235916, -0.276246,  0.007785,  0.037312,  0.030855],\n",
       "        device='cuda:0'),\n",
       " tensor([-0.109013,  0.234673, -0.274385,  0.002120,  0.036132,  0.035760],\n",
       "        device='cuda:0'),\n",
       " tensor([-1.258089, -2.584173, -1.851157], device='cuda:0'))"
      ]
     },
     "execution_count": 15,
     "metadata": {},
     "output_type": "execute_result"
    }
   ],
   "source": [
    "torch.set_printoptions(sci_mode=False, precision=6)\n",
    "jj = 185\n",
    "val_output[jj], val_velocity_tensor[jj], val_dist_tensor[jj, [6,10,14]]"
   ]
  },
  {
   "cell_type": "code",
   "execution_count": 16,
   "id": "a4387198-f1e4-441b-a0d6-39ea60d5189b",
   "metadata": {},
   "outputs": [
    {
     "name": "stdout",
     "output_type": "stream",
     "text": [
      "Root Mean Squared error for each of 6 output variables:\n",
      " tensor([0.003094, 0.003382, 0.003277, 0.001911, 0.001937, 0.001901],\n",
      "       device='cuda:0')\n",
      "Actual Magnitude:\n",
      "  tensor([0.128210, 0.127427, 0.125916, 0.021024, 0.021028, 0.021496],\n",
      "       device='cuda:0')\n",
      "RMSE: tensor(0.002670, device='cuda:0')\n"
     ]
    }
   ],
   "source": [
    "criterion = nn.MSELoss(reduction='none') \n",
    "err = criterion(val_output, val_velocity_tensor)\n",
    "\n",
    "rmse = torch.sqrt(err.mean(axis=0))\n",
    "\n",
    "print(\"Root Mean Squared error for each of 6 output variables:\\n\", rmse)\n",
    "print(\"Actual Magnitude:\\n \", torch.abs(val_velocity_tensor).mean(axis=0))\n",
    "print(\"RMSE:\", err.mean()**.5)"
   ]
  },
  {
   "cell_type": "code",
   "execution_count": 17,
   "id": "5bfaf267-c823-46fd-a6f4-733f03683bf1",
   "metadata": {},
   "outputs": [
    {
     "data": {
      "text/plain": [
       "tensor([0.998164, 1.025726, 1.022120, 5.481101, 5.326463, 5.453431],\n",
       "       device='cuda:0')"
      ]
     },
     "execution_count": 17,
     "metadata": {},
     "output_type": "execute_result"
    }
   ],
   "source": [
    "#### Mean Relative Absolute Error\n",
    "valid_mask = torch.abs(val_velocity_tensor) > 1e-6\n",
    "\n",
    "filtered_y_tensor = torch.where(valid_mask, val_velocity_tensor, torch.tensor(float('nan')))\n",
    "relative_error = torch.abs((val_output - filtered_y_tensor) / filtered_y_tensor)\n",
    "\n",
    "a,_ = torch.nanmedian(relative_error, dim=0)\n",
    "a*100"
   ]
  },
  {
   "cell_type": "code",
   "execution_count": 18,
   "id": "83facc6d-63e3-40c5-9f64-dae62dfe3d57",
   "metadata": {},
   "outputs": [
    {
     "data": {
      "text/plain": [
       "tensor([ 6.394398,  8.970096,  6.233822, 37.046196, 30.612293, 55.578732],\n",
       "       device='cuda:0')"
      ]
     },
     "execution_count": 18,
     "metadata": {},
     "output_type": "execute_result"
    }
   ],
   "source": [
    "a = torch.nanmean(relative_error, dim=0)\n",
    "a*100"
   ]
  },
  {
   "cell_type": "code",
   "execution_count": 19,
   "id": "0057f3d9-16c3-4657-9848-0cec8ac7bde4",
   "metadata": {},
   "outputs": [
    {
     "data": {
      "text/plain": [
       "tensor([2.413118, 2.654017, 2.602592, 9.087449, 9.210760, 8.845416],\n",
       "       device='cuda:0')"
      ]
     },
     "execution_count": 19,
     "metadata": {},
     "output_type": "execute_result"
    }
   ],
   "source": [
    "100*rmse/torch.abs(val_velocity_tensor).mean(axis=0)"
   ]
  },
  {
   "cell_type": "code",
   "execution_count": 20,
   "id": "36b8a2fa-76ac-4a4b-86ca-1b4c3bcce7a5",
   "metadata": {},
   "outputs": [],
   "source": [
    "scripted_model = torch.jit.script(model)\n",
    "scripted_model.save(\"../data/models/3body_cross.pt\")\n",
    "\n",
    "# Finetuning didn't work\n",
    "# ft_2b_path = \"../data/models/two_body_combined_model_finetuned.pt\"\n",
    "# model.two_nn.eval()  # optional, but recommended\n",
    "# model.two_nn.save(ft_2b_path)\n"
   ]
  },
  {
   "attachments": {
    "52efecf6-1786-4365-922a-61106d3bf8c1.png": {
     "image/png": "[encoded data removed]"
    }
   },
   "cell_type": "markdown",
   "id": "86dd9374-b0f7-4bb1-b523-b547eb508400",
   "metadata": {},
   "source": [
    "## 3-Sphere test from Wilson, Sect 4.2\n",
    "*In this section we consider a problem which has only one (reﬂective) symmetry, and in which true lubrication forces oc-\n",
    "cur, through the approach of close spheres. The spheres (each of radius a) are arranged in an equilateral triangle of side s as\n",
    "before. A force of magnitude 6pla is applied to sphere 1, acting towards the centroid of the triangle, and spheres 2 and 3 are\n",
    "force-free and torque-free.*\n",
    "\n",
    "![image.png](attachment:52efecf6-1786-4365-922a-61106d3bf8c1.png)"
   ]
  },
  {
   "cell_type": "code",
   "execution_count": 21,
   "id": "e478cf18-f19a-4051-bbbd-c1a73b1ebc9e",
   "metadata": {},
   "outputs": [],
   "source": [
    "# Creating the DataFrame programmatically\n",
    "\n",
    "# Define hierarchical column indexing\n",
    "columns = pd.MultiIndex.from_tuples([\n",
    "    (\"Helen's method\", 'U1'), (\"Helen's method\", 'U2'), (\"Helen's method\", 'U3'), (\"Helen's method\", 'Ω'),\n",
    "    ('SD', 'U1'), ('SD', 'U2'), ('SD', 'U3'), ('SD', 'Ω'),\n",
    "])\n",
    "\n",
    "s_values = [2.10, 2.50, 3.00, 4.00, 6.00]\n",
    "\n",
    "# Define the data\n",
    "data = [\n",
    "    #[0.65528, 0.63461, 0.00498, 0.037336, 0.64739, 0.62691, 0.00451, 0.034339],\n",
    "    [0.73857, 0.59718, 0.03517, 0.052035, 0.73126, 0.58784, 0.02570, 0.051414],\n",
    "    [0.87765, 0.49545, 0.07393, 0.045466, 0.87482, 0.48829, 0.05853, 0.045446],\n",
    "    [0.93905, 0.41694, 0.07824, 0.035022, 0.93806, 0.41356, 0.06970, 0.034843],\n",
    "    [0.97964, 0.31859, 0.06925, 0.021634, 0.97945, 0.31774, 0.06639, 0.021581],\n",
    "    [0.99581, 0.21586, 0.05078, 0.010159, 0.99579, 0.21575, 0.05019, 0.010153]\n",
    "]\n",
    "\n",
    "# Construct the DataFrame\n",
    "df_filled = pd.DataFrame(data, index=s_values, columns=columns).drop(columns=[(\"Helen's method\", 'U1'), ('SD', 'U1')])\n",
    "\n",
    "relative_error = (df_filled['SD'] - df_filled[\"Helen's method\"]).abs() / df_filled[\"Helen's method\"] * 100\n",
    "\n",
    "relative_error.columns = pd.MultiIndex.from_tuples(\n",
    "    [('SD Error', f' % {col}') for col in relative_error.columns]\n",
    ")\n",
    "# Concatenate the new data with the existing DataFrame\n",
    "df_updated = pd.concat([df_filled, relative_error], axis=1)"
   ]
  },
  {
   "cell_type": "code",
   "execution_count": null,
   "id": "918aed84-41f4-428d-b4cf-fba1a4507cdc",
   "metadata": {},
   "outputs": [],
   "source": []
  },
  {
   "cell_type": "code",
   "execution_count": 22,
   "id": "42f5c308-11a9-4317-a6cb-10d63b5f3c14",
   "metadata": {},
   "outputs": [],
   "source": [
    "def generate_test_features_extended(dist_vals, R, training_means):\n",
    "    \"\"\"\n",
    "    Generates the extended feature set for the 3-sphere equilateral triangle test case.\n",
    "\n",
    "    Args:\n",
    "        dist_vals (list or np.array): Array of surface-to-surface gap distances (S).\n",
    "        R (float): Radius of the spheres.\n",
    "        training_means (pd.Series): A pandas Series containing the mean values for \n",
    "                                    'dist2', 'dist3', and 'dist23' from the original\n",
    "                                    training dataset. This is essential for consistent\n",
    "                                    feature centering.\n",
    "    \n",
    "    Returns:\n",
    "        pd.DataFrame: A DataFrame containing the full, extended feature set in the\n",
    "                      correct order for the model.\n",
    "    \"\"\"\n",
    "    # --- Step 1: Generate the 11 base features ---\n",
    "    base_column_names = ['c2_x', 'c2_y', 'c2_z', 'dist2', 'min_dist2', 'dist23',\n",
    "                         'c3_x', 'c3_y', 'c3_z', 'dist3', 'min_dist3']\n",
    "\n",
    "    features_list = []\n",
    "    for S in dist_vals:\n",
    "        D = 2 * R + S  # Center-to-center distance\n",
    "        features_list.append([\n",
    "            D/2.0, 0, (np.sqrt(3)/2.0)*D, \n",
    "            D, S, D,\n",
    "            D,0,0, \n",
    "            D, S])\n",
    "        \n",
    "    # Create the initial DataFrame\n",
    "    features_df = pd.DataFrame(data=features_list, columns=base_column_names)\n",
    "\n",
    "    # --- Step 2: Engineer the new features ---\n",
    "    epsilon = 1e-6\n",
    "    \n",
    "    # Inverse and Log features\n",
    "    # features_df['inv_min_dist2'] = 1.0 / (features_df['min_dist2'] + epsilon)\n",
    "    # features_df['inv_min_dist3'] = 1.0 / (features_df['min_dist3'] + epsilon)\n",
    "    # features_df['log_min_dist2'] = np.log(features_df['min_dist2'] + epsilon)\n",
    "    # features_df['log_min_dist3'] = np.log(features_df['min_dist3'] + epsilon)\n",
    "\n",
    "    # Centered Higher-Order Polynomial features\n",
    "    poly_cols = ['dist2', 'dist3', 'dist23']\n",
    "    for col in poly_cols:\n",
    "        mean_val = training_means[col] # Use the mean from the TRAINING data\n",
    "        centered_col = features_df[col] - mean_val\n",
    "        features_df[f'{col}_sq_centered'] = centered_col**2\n",
    "        features_df[f'{col}_quad_centered'] = centered_col**4\n",
    "        \n",
    "    # --- Step 3: Ensure the final column order matches the training data ---\n",
    "    # This order must be identical to the one generated by `prepare_vectors_extended`\n",
    "    final_column_order = [\n",
    "        'c2_x', 'c2_y', 'c2_z', 'dist2', 'min_dist2', 'dist23', 'c3_x', 'c3_y', 'c3_z', 'dist3', 'min_dist3',\n",
    "        #'inv_min_dist2', 'inv_min_dist3', \n",
    "        #'log_min_dist2', 'log_min_dist3',\n",
    "        'dist2_sq_centered', 'dist2_quad_centered', 'dist3_sq_centered', \n",
    "        'dist3_quad_centered', 'dist23_sq_centered', 'dist23_quad_centered'\n",
    "    ]\n",
    "    \n",
    "    # Reorder the DataFrame columns\n",
    "    features_df = features_df[final_column_order]\n",
    "    print(features_df.shape)\n",
    "    return features_df"
   ]
  },
  {
   "cell_type": "code",
   "execution_count": 23,
   "id": "c9ac5e70-3546-4e88-b7d1-b4645cceb9ec",
   "metadata": {},
   "outputs": [
    {
     "ename": "NameError",
     "evalue": "name 'training_means' is not defined",
     "output_type": "error",
     "traceback": [
      "\u001b[0;31m---------------------------------------------------------------------------\u001b[0m",
      "\u001b[0;31mNameError\u001b[0m                                 Traceback (most recent call last)",
      "Cell \u001b[0;32mIn[23], line 5\u001b[0m\n\u001b[1;32m      2\u001b[0m S_vals \u001b[38;5;241m=\u001b[39m [\u001b[38;5;241m.1\u001b[39m, \u001b[38;5;241m.5\u001b[39m, \u001b[38;5;241m1.0\u001b[39m, \u001b[38;5;241m2.0\u001b[39m, \u001b[38;5;241m4.0\u001b[39m]\n\u001b[1;32m      3\u001b[0m dist_vals \u001b[38;5;241m=\u001b[39m np\u001b[38;5;241m.\u001b[39mconcatenate((np\u001b[38;5;241m.\u001b[39mlinspace(\u001b[38;5;241m.09\u001b[39m, \u001b[38;5;241m6.1\u001b[39m, num\u001b[38;5;241m=\u001b[39m\u001b[38;5;241m160\u001b[39m), np\u001b[38;5;241m.\u001b[39marray(S_vals)), axis\u001b[38;5;241m=\u001b[39m\u001b[38;5;241m0\u001b[39m)\n\u001b[0;32m----> 5\u001b[0m test_features_df \u001b[38;5;241m=\u001b[39m generate_test_features_extended(dist_vals, R, \u001b[43mtraining_means\u001b[49m)\n\u001b[1;32m      7\u001b[0m \u001b[38;5;66;03m# Convert to a tensor for the model\u001b[39;00m\n\u001b[1;32m      8\u001b[0m features \u001b[38;5;241m=\u001b[39m torch\u001b[38;5;241m.\u001b[39mtensor(test_features_df\u001b[38;5;241m.\u001b[39mvalues, dtype\u001b[38;5;241m=\u001b[39mtorch\u001b[38;5;241m.\u001b[39mfloat32)\n",
      "\u001b[0;31mNameError\u001b[0m: name 'training_means' is not defined"
     ]
    }
   ],
   "source": [
    "R = 1.0  \n",
    "S_vals = [.1, .5, 1.0, 2.0, 4.0]\n",
    "dist_vals = np.concatenate((np.linspace(.09, 6.1, num=160), np.array(S_vals)), axis=0)\n",
    "\n",
    "test_features_df = generate_test_features_extended(dist_vals, R, training_means)\n",
    "\n",
    "# Convert to a tensor for the model\n",
    "features = torch.tensor(test_features_df.values, dtype=torch.float32)\n",
    "force = [[0, 0, -1.0 * 6* np.pi, 0, 0, 0]]*len(dist_vals)\n",
    "force = torch.tensor(force.copy(), dtype=torch.float32)\n",
    "\n",
    "model = TripletCoeffNet(input_dim).to(device)\n",
    "model.load_state_dict(torch.load(\"triplet_coeff_net.pth\", weights_only=True))\n",
    "model.eval()\n",
    "\n",
    "with torch.no_grad():\n",
    "    velocity = model.predict_velocity(features, force).clone().cpu().numpy()\n",
    "\n",
    "#velocity = scaler_y.inverse_transform(velocity)\n",
    "#velocity[:,3:] /= 2\n",
    "#velocity /= 5"
   ]
  },
  {
   "cell_type": "code",
   "execution_count": null,
   "id": "30469f78-cf90-40a3-8474-a4e1221f3df1",
   "metadata": {},
   "outputs": [],
   "source": [
    "nn_df = pd.DataFrame(index=dist_vals+2.0, columns=pd.MultiIndex.from_tuples(\n",
    "    [('NN', col) for col in df_updated['SD'].columns]\n",
    "))\n",
    "for i, S in enumerate(dist_vals):\n",
    "    v = np.abs(velocity[i])\n",
    "    nn_df.loc[S+2.0] = [v[2], v[0], v[4]]\n",
    "\n",
    "nn_df_tmp = nn_df.loc[np.array(S_vals)+2.0]\n",
    "df_result = pd.concat([df_updated, nn_df_tmp], axis=1)\n",
    "df_result[[\"Helen's method\", \"SD\", \"NN\"]]"
   ]
  },
  {
   "cell_type": "code",
   "execution_count": null,
   "id": "ae1e73e8-fc6d-4f5f-bde5-2fae24e7bb56",
   "metadata": {},
   "outputs": [],
   "source": []
  },
  {
   "cell_type": "code",
   "execution_count": null,
   "id": "63a321c3-e40c-4a47-8247-0870a806211f",
   "metadata": {},
   "outputs": [],
   "source": [
    "rel_error = (df_result['NN'] - df_result[\"Helen's method\"]).abs() / df_result[\"Helen's method\"] * 100\n",
    "\n",
    "rel_error.columns = pd.MultiIndex.from_tuples(\n",
    "    [('NN Error', f' % {col}') for col in rel_error.columns]\n",
    ")\n",
    "# Concatenate the new data with the existing DataFrame\n",
    "df_result_err = pd.concat([df_result, rel_error], axis=1)"
   ]
  },
  {
   "cell_type": "code",
   "execution_count": null,
   "id": "bce432d9-28ef-4de2-bb94-059423bce0be",
   "metadata": {},
   "outputs": [],
   "source": [
    "df_result_err[['SD Error', 'NN Error']]"
   ]
  },
  {
   "cell_type": "code",
   "execution_count": null,
   "id": "45d26994-8f02-4777-97c7-3e578ef4fb50",
   "metadata": {},
   "outputs": [],
   "source": [
    "(df_result_err['NN Error']<df_result_err['SD Error']).sum()"
   ]
  },
  {
   "cell_type": "code",
   "execution_count": null,
   "id": "8c3a6fa3-bf4e-4404-bbc3-3b4e619117ae",
   "metadata": {},
   "outputs": [],
   "source": [
    "rpy_data = {\n",
    "    2.1: {\"% U2\": 6.64244, \"% U3\": 140.29719, \"% Ω\": 263.41696},\n",
    "    2.5: {\"% U2\": 2.10919, \"% U3\": 19.48409,  \"% Ω\": 231.96674},\n",
    "    3.0: {\"% U2\": 0.62075, \"% U3\": 7.61364,   \"% Ω\": 218.97284},\n",
    "    4.0: {\"% U2\": 0.07239, \"% U3\": 2.58649,   \"% Ω\": 208.33641},\n",
    "    6.0: {\"% U2\": 0.00163, \"% U3\": 0.66868,   \"% Ω\": 202.53634}\n",
    "}\n",
    "df_rpy = pd.DataFrame.from_dict(rpy_data, orient='index')\n",
    "df_rpy"
   ]
  },
  {
   "cell_type": "code",
   "execution_count": null,
   "id": "d6712984-5afb-47d5-be57-8993e30d68ce",
   "metadata": {},
   "outputs": [],
   "source": [
    "sns.lineplot(nn_df, x=nn_df.index, y=('NN', 'U2'), label=\"NN\");\n",
    "sns.scatterplot(df_result, x=df_result.index, y=('SD', 'U2'), label=\"SD\")\n",
    "sns.scatterplot(df_result, x=df_result.index, y=(\"Helen's method\", 'U2'), label=\"Helen\");\n",
    "plt.legend();"
   ]
  },
  {
   "cell_type": "code",
   "execution_count": null,
   "id": "b086d265-39c7-4f42-8e52-4f7fb44abfdc",
   "metadata": {},
   "outputs": [],
   "source": [
    "sns.lineplot(nn_df, x=nn_df.index, y=('NN', 'U3'), label=\"NN\");\n",
    "sns.scatterplot(df_result, x=df_result.index, y=('SD', 'U3'), label=\"SD\")\n",
    "sns.scatterplot(df_result, x=df_result.index, y=(\"Helen's method\", 'U3'), label=\"Helen\");\n",
    "plt.xlabel(\"Triangle side (s)\")\n",
    "plt.ylabel(\"U3\")\n",
    "plt.legend();\n",
    "plt.savefig(\"U3_vs_SD.pdf\");"
   ]
  },
  {
   "cell_type": "code",
   "execution_count": null,
   "id": "495c0954-2327-47af-a793-2bcc851adb6d",
   "metadata": {},
   "outputs": [],
   "source": [
    "sns.lineplot(nn_df, x=nn_df.index, y=('NN', 'Ω'), label=\"NN\", color='blue');\n",
    "sns.scatterplot(df_result, x=df_result.index, y=('SD', 'Ω'), label=\"SD\", color='red')\n",
    "sns.scatterplot(df_result, x=df_result.index, y=(\"Helen's method\", 'Ω'), label=\"Helen\", color='green');\n",
    "plt.legend();"
   ]
  },
  {
   "cell_type": "markdown",
   "id": "0fda8a92-d10a-4b32-bc89-a3f03ae2daf5",
   "metadata": {},
   "source": [
    "s: 2.5\n",
    "\n",
    "  U1: -1 | expected: -0.87765) | relative error: 0.139406\n",
    "\n",
    "  U2: -0.485 | expected: -0.49545) | relative error: 0.0210919\n",
    "\n",
    "  U3: 0.0883346 | expected: 0.07393) | relative error: 0.194841\n",
    "\n",
    "s: 3\n",
    "\n",
    "  U1: -1 | expected: -0.93905) | relative error: 0.064906\n",
    "\n",
    "  U2: -0.414352 | expected: -0.41694) | relative error: 0.00620748\n",
    "\n",
    "  U3: 0.0841969 | expected: 0.07824) | relative error: 0.0761364\n",
    "\n",
    "s: 4\n",
    "\n",
    "  U1: -1 | expected: -0.97964) | relative error: 0.0207831\n",
    "\n",
    "  U2: -0.318359 | expected: -0.31859) | relative error: 0.000723893\n",
    "\n",
    "  U3: 0.0710411 | expected: 0.06925) | relative error: 0.0258649\n",
    "\n",
    "s: 6\n",
    "\n",
    "  U1: -1 | expected: -0.99581) | relative error: 0.00420763\n",
    "\n",
    "  U2: -0.215856 | expected: -0.21586) | relative error: 1.63e-05\n",
    "\n",
    "  U3: 0.0511196 | expected: 0.05078) | relative error: 0.00668679\n",
    " "
   ]
  },
  {
   "cell_type": "code",
   "execution_count": null,
   "id": "aaf5e44a-a426-4235-a5a7-c65abd11c117",
   "metadata": {},
   "outputs": [],
   "source": [
    "np.set_printoptions(precision=5, suppress=True)"
   ]
  },
  {
   "cell_type": "code",
   "execution_count": null,
   "id": "afcbebf5-8ac2-47a4-8aaa-4878b730baa7",
   "metadata": {},
   "outputs": [],
   "source": [
    "a = df['min_dist2']<.11 \n",
    "b = df['min_dist3']<.11\n",
    "(a & b).sum(), len(df)"
   ]
  },
  {
   "cell_type": "code",
   "execution_count": null,
   "id": "2c5982a9-db8a-4c44-af1f-ba723a453f30",
   "metadata": {},
   "outputs": [],
   "source": [
    "\n",
    "\n",
    "\n",
    "\n",
    "\n",
    "\n",
    "\n",
    "\n",
    "\n",
    "\n",
    "\n",
    "\n"
   ]
  }
 ],
 "metadata": {
  "kernelspec": {
   "display_name": "Python 3 (ipykernel)",
   "language": "python",
   "name": "python3"
  },
  "language_info": {
   "codemirror_mode": {
    "name": "ipython",
    "version": 3
   },
   "file_extension": ".py",
   "mimetype": "text/x-python",
   "name": "python",
   "nbconvert_exporter": "python",
   "pygments_lexer": "ipython3",
   "version": "3.12.2"
  }
 },
 "nbformat": 4,
 "nbformat_minor": 5
}
