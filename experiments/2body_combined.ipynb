{
 "cells": [
  {
   "cell_type": "code",
   "execution_count": 1,
   "id": "075e6ca4-4c06-4b62-9082-186cbec88e40",
   "metadata": {},
   "outputs": [],
   "source": [
    "import numpy as np\n",
    "import os\n",
    "import seaborn as sns\n",
    "import matplotlib.pyplot as plt\n",
    "import pandas as pd\n",
    "from scipy.spatial.transform import Rotation\n",
    "import torch\n",
    "import torch.nn as nn\n",
    "import torch.nn.functional as F\n",
    "\n",
    "import sys\n",
    "sys.path.append(\"/home/shihab/repo/src\")\n",
    "from analysis_utils import convert_to_tensors, shuffle_and_split, prepare_vectors\n",
    "from utils import save_parameters_to_csv\n",
    "\n",
    "torch.manual_seed(42)\n",
    "np.random.seed(41)\n",
    "\n",
    "device = torch.device(\"cuda\" if torch.cuda.is_available() else \"cpu\")\n",
    "torch.set_default_device(device)"
   ]
  },
  {
   "cell_type": "code",
   "execution_count": 2,
   "id": "6e259c44-c757-4ad8-a4be-4acd6238f350",
   "metadata": {},
   "outputs": [
    {
     "data": {
      "text/plain": [
       "((22000, 27),\n",
       " Index(['center_x', 'center_y', 'center_z', 'dist', 'min_dist', 'quat_x',\n",
       "        'quat_y', 'quat_z', 'quat_w', 'force1_x', 'force1_y', 'force1_z',\n",
       "        'torque1_x', 'torque1_y', 'torque1_z', 'force2_x', 'force2_y',\n",
       "        'force2_z', 'torque2_x', 'torque2_y', 'torque2_z', 'vel_x', 'vel_y',\n",
       "        'vel_z', 'angvel_x', 'angvel_y', 'angvel_z'],\n",
       "       dtype='object'))"
      ]
     },
     "execution_count": 2,
     "metadata": {},
     "output_type": "execute_result"
    }
   ],
   "source": [
    "# times = [(\"17:00\", \"153\"), (\"16:55\", \"795\"), (\"16:53\", \"943\"),\n",
    "#         (\"22:12\", \"348\"), (\"22:06\", \"744\"), (\"22:05\", \"409\")]\n",
    "times = [(\"01:10\", \"45\"), (\"01:06\", \"684\"), (\"01:06\", \"988\")]\n",
    "xs, ys = [], []\n",
    "for time, rnd in times:\n",
    "    x = np.load(f\"../data/X_sphere_{time}_both_{rnd}.npy\")\n",
    "    y = np.load(f\"../data/Y_sphere_{time}_both_{rnd}.npy\")\n",
    "    xs.append(x)\n",
    "    ys.append(y)\n",
    "\n",
    "X = np.concatenate(xs, axis=0)\n",
    "Y = np.concatenate(ys, axis=0)\n",
    "\n",
    "XY = np.hstack([X, Y])          # shape: (total_rows, 16)\n",
    "\n",
    "column_names = [\n",
    "    # X columns \n",
    "    \"center_x\", \"center_y\", \"center_z\", \"dist\", \"min_dist\",\n",
    "    \"quat_x\", \"quat_y\", \"quat_z\", \"quat_w\",\n",
    "    \"force1_x\", \"force1_y\", \"force1_z\",\n",
    "    \"torque1_x\", \"torque1_y\", \"torque1_z\",\n",
    "    \"force2_x\", \"force2_y\", \"force2_z\",\n",
    "    \"torque2_x\", \"torque2_y\", \"torque2_z\",\n",
    "    # Y columns\n",
    "    \"vel_x\", \"vel_y\", \"vel_z\",\n",
    "    \"angvel_x\", \"angvel_y\", \"angvel_z\"\n",
    "]\n",
    "\n",
    "df = pd.DataFrame(XY, columns=column_names)\n",
    "df.shape, df.columns"
   ]
  },
  {
   "cell_type": "code",
   "execution_count": 3,
   "id": "515a458d-12c8-4778-a9c7-9c56e3c468b7",
   "metadata": {},
   "outputs": [
    {
     "data": {
      "image/png": "[encoded data removed]",
      "text/plain": [
       "<Figure size 640x480 with 1 Axes>"
      ]
     },
     "metadata": {},
     "output_type": "display_data"
    }
   ],
   "source": [
    "sns.histplot(df[\"dist\"], bins=40);"
   ]
  },
  {
   "cell_type": "code",
   "execution_count": 4,
   "id": "bc64588c-a4da-43af-a139-510c96746a9b",
   "metadata": {},
   "outputs": [
    {
     "name": "stdout",
     "output_type": "stream",
     "text": [
      "5.024858047190964\n"
     ]
    }
   ],
   "source": [
    "df = df.rename(columns={'dist': 'r'})\n",
    "#median_r = df['r'].median()\n",
    "median_r = (df['r'].max()+df['r'].min())/2\n",
    "print(median_r)\n",
    "tmp = df['r'] - median_r #dont scale r, since we divide by it later\n",
    "\n",
    "df['r2'] = tmp**2\n",
    "df['r4'] = tmp**4\n",
    "\n",
    "cols = df.columns.tolist()\n",
    "i = cols.index('r')\n",
    "new_cols = (\n",
    "    cols[:i+1]\n",
    "  + ['r2','r4']\n",
    "  + [c for c in cols[i+1:] if c not in ('r2','r4')]\n",
    ")\n",
    "df = df[new_cols]"
   ]
  },
  {
   "cell_type": "code",
   "execution_count": 5,
   "id": "879de3ea-506a-406a-9f46-4732af54a56a",
   "metadata": {},
   "outputs": [],
   "source": [
    "def prepare_vectors(df):\n",
    "    force_cols = [\n",
    "        'force1_x', 'force1_y', 'force1_z',\n",
    "        'torque1_x', 'torque1_y', 'torque1_z',\n",
    "        'force2_x', 'force2_y', 'force2_z',\n",
    "        'torque2_x', 'torque2_y', 'torque2_z',\n",
    "    ]\n",
    "    output_cols = [\n",
    "        'vel_x', 'vel_y', 'vel_z',\n",
    "        'angvel_x', 'angvel_y', 'angvel_z'\n",
    "    ]\n",
    "    #feature_cols = [col for col in df.columns if col not in (force_cols + output_cols)]\n",
    "    feature_cols = ['center_x', 'center_y', 'center_z', 'r', 'r2', 'r4', 'min_dist']\n",
    "    print(\"Using features:\", feature_cols)\n",
    "    \n",
    "    dist_vec   = df[feature_cols].values\n",
    "    force_vec  = df[force_cols].values\n",
    "    output_vec = df[output_cols].values\n",
    "    return dist_vec, force_vec, output_vec"
   ]
  },
  {
   "cell_type": "code",
   "execution_count": 6,
   "id": "e7772b5a-b9f6-4db6-b753-5425a4808d33",
   "metadata": {},
   "outputs": [
    {
     "name": "stdout",
     "output_type": "stream",
     "text": [
      "Using features: ['center_x', 'center_y', 'center_z', 'r', 'r2', 'r4', 'min_dist']\n"
     ]
    },
    {
     "data": {
      "text/plain": [
       "(torch.Size([17600, 7]), torch.Size([17600, 12]), torch.Size([4400, 7]))"
      ]
     },
     "execution_count": 6,
     "metadata": {},
     "output_type": "execute_result"
    }
   ],
   "source": [
    "feat, force, vel = prepare_vectors(df)\n",
    "feat, force, vel = convert_to_tensors(feat, force, vel)\n",
    "\n",
    "tmp = list(shuffle_and_split(df, feat, force, vel, split_frac=.8))\n",
    "\n",
    "for i in range(len(tmp)):\n",
    "    tmp[i] = tmp[i].to(device)\n",
    "\n",
    "(train_dist_tensor, val_dist_tensor, \n",
    "    train_force_tensor, val_force_tensor, \n",
    "    train_velocity_tensor, val_velocity_tensor) = tmp\n",
    "\n",
    "train_dist_tensor.shape, train_force_tensor.shape, val_dist_tensor.shape"
   ]
  },
  {
   "cell_type": "code",
   "execution_count": 7,
   "id": "7d605953-31cf-4946-ae94-a03cc2c6d3da",
   "metadata": {},
   "outputs": [],
   "source": [
    "def L1(d):\n",
    "    \"\"\" Computes the outer product of each 3D vector in the batch with itself. \"\"\"\n",
    "    # d: [batch_size, 3]\n",
    "    return torch.einsum('bi,bj->bij', d, d)  # [batch_size, 3, 3]\n",
    "\n",
    "def L2(d):\n",
    "    \"\"\" Returns the matrix (I - outer(d, d)) for each vector in the batch. \"\"\"\n",
    "    # Identity tensor expanded to batch size\n",
    "    batch_size = d.shape[0]\n",
    "    I = torch.eye(3).unsqueeze(0).repeat(batch_size, 1, 1).to(device)  # [batch_size, 3, 3]\n",
    "    ddT = torch.einsum('bi,bj->bij', d, d)  # [batch_size, 3, 3]\n",
    "    return I - ddT\n",
    "\n",
    "# Predefine the Levi-Civita tensor\n",
    "levi_civita = torch.zeros(3, 3, 3, dtype=torch.float)\n",
    "levi_civita[0, 1, 2] = 1\n",
    "levi_civita[1, 2, 0] = 1\n",
    "levi_civita[2, 0, 1] = 1\n",
    "levi_civita[0, 2, 1] = -1\n",
    "levi_civita[2, 1, 0] = -1\n",
    "levi_civita[1, 0, 2] = -1\n",
    "\n",
    "levi_civita = levi_civita.to(device)\n",
    "\n",
    "def L3(d):\n",
    "    \"\"\" Computes the cross product matrix for each 3D vector in the batch. \"\"\"\n",
    "    # Using einsum for batched matrix-vector multiplication:\n",
    "    return torch.einsum('ijk,bk->bij', levi_civita, d)  # [batch_size, 3, 3]\n",
    "\n",
    "def spsd_loss_func(sym_matrix, epsilon=1e-6):\n",
    "    \"\"\"SPSD loss representing SPSD violation\n",
    "    \"\"\"\n",
    "    eigenvalues = torch.linalg.eigvalsh(sym_matrix)  # (batch_size, 6)\n",
    "    negative_violations = torch.relu(-eigenvalues + epsilon)  # (batch_size, 6)\n",
    "    loss = torch.mean(negative_violations)\n",
    "    \n",
    "    return loss"
   ]
  },
  {
   "cell_type": "code",
   "execution_count": 8,
   "id": "35eb8a4d-56c9-4c93-8bfb-5ac896bd47ce",
   "metadata": {},
   "outputs": [],
   "source": [
    "viscosity = 1.0\n",
    "eigens = []\n",
    "\n",
    "class ScNetwork(nn.Module):\n",
    "    def __init__(self, input_dim):\n",
    "        super(ScNetwork, self).__init__()\n",
    "        self.FtModel = nn.Sequential(\n",
    "            nn.Linear(input_dim, 64),\n",
    "            nn.Tanh(),\n",
    "            nn.Linear(64, 32),\n",
    "            nn.Tanh(),\n",
    "            nn.Linear(32, 64),\n",
    "            nn.Tanh(),\n",
    "            nn.Linear(64, 5),\n",
    "            #nn.Tanh()\n",
    "        )\n",
    "        self.FsModel = nn.Sequential(\n",
    "            nn.Linear(input_dim, 64),\n",
    "            nn.Tanh(),\n",
    "            nn.Linear(64, 32),\n",
    "            nn.Tanh(),\n",
    "            nn.Linear(32, 64),\n",
    "            nn.Tanh(),\n",
    "            nn.Linear(64, 5),\n",
    "            #nn.Tanh()\n",
    "        )\n",
    "        \n",
    "    def make_mobility(self, sc, d_vec, Ms=False):\n",
    "        TT = sc[:, 0].unsqueeze(1).unsqueeze(2) * L1(d_vec) + \\\n",
    "                sc[:, 1].unsqueeze(1).unsqueeze(2) * L2(d_vec) # TODO: d_vec or r?\n",
    "        RT = sc[:, 2].unsqueeze(1).unsqueeze(2) * L3(d_vec)\n",
    "        RR = sc[:, 3].unsqueeze(1).unsqueeze(2) * L1(d_vec) + \\\n",
    "                sc[:, 4].unsqueeze(1).unsqueeze(2) * L2(d_vec)\n",
    "    \n",
    "        K = torch.zeros((len(sc), 6, 6), dtype=torch.float32, device=X.device)\n",
    "\n",
    "        # After experiments, the kernel is NOT symmetric for M_t. \n",
    "        # Top-right and bottem left should NOT be transpose of each other\n",
    "        K[:, :3, :3] = TT  # Top-left block\n",
    "        K[:, 3:, :3] = RT  # Bottom-left block\n",
    "        K[:, :3, 3:] = RT.transpose(1, 2) if Ms else RT\n",
    "        K[:, 3:, 3:] = RR  # Bottom-right block\n",
    "\n",
    "        if Ms:\n",
    "            assert torch.allclose(K, K.transpose(1, 2), atol=1e-6)\n",
    "        return K\n",
    "\n",
    "\n",
    "    def predict_mobility(self, X):\n",
    "        d_vec, r = X[:,:3], X[:,3]\n",
    "        sc_t = self.FtModel(X[:, 3:]) #exclude d_vec\n",
    "        sc_s = self.FsModel(X[:, 3:]) #exclude d_vec\n",
    "        \n",
    "        d_vec = -d_vec/ r.unsqueeze(-1) # negative,cz dvec=target-src\n",
    "\n",
    "        K_t = self.make_mobility(sc_t, d_vec)\n",
    "        K_s = self.make_mobility(sc_s, d_vec, Ms=True)\n",
    "        return K_s, K_t\n",
    "        \n",
    "\n",
    "    def predict_velocity(self, X, force_s, force_t, return_M=False):\n",
    "        M_s, M_t = self.predict_mobility(X)\n",
    "        M_s, M_t = M_s/viscosity, M_t/viscosity\n",
    "        \n",
    "        v_s = torch.bmm(M_s, force_s.unsqueeze(-1)).squeeze(-1)\n",
    "        v_t = torch.bmm(M_t, force_t.unsqueeze(-1)).squeeze(-1)\n",
    "        v = v_s + v_t\n",
    "        if return_M:\n",
    "            return v, (M_s, M_t)\n",
    "        return v"
   ]
  },
  {
   "cell_type": "markdown",
   "id": "c844ca04-1d19-47fd-90da-8244577e3b80",
   "metadata": {},
   "source": [
    "## Modelling"
   ]
  },
  {
   "cell_type": "code",
   "execution_count": 9,
   "id": "e7e9b798-718c-4641-9d90-afe4cd513ba8",
   "metadata": {},
   "outputs": [
    {
     "name": "stdout",
     "output_type": "stream",
     "text": [
      "4\n"
     ]
    },
    {
     "data": {
      "text/plain": [
       "(68, 17408, 17600)"
      ]
     },
     "execution_count": 9,
     "metadata": {},
     "output_type": "execute_result"
    }
   ],
   "source": [
    "input_dim = train_dist_tensor.shape[1] - 3\n",
    "print(input_dim)\n",
    "batch_size = 256\n",
    "epochs = 400\n",
    "model = ScNetwork(input_dim).to(device)\n",
    "optimizer = torch.optim.Adam(model.parameters(), lr=0.003)\n",
    "#scheduler = torch.optim.lr_scheduler.StepLR(optimizer, step_size=50, gamma=0.50)\n",
    "scheduler = torch.optim.lr_scheduler.CosineAnnealingLR(optimizer, T_max=epochs)\n",
    "\n",
    "\n",
    "criterion = nn.L1Loss()\n",
    "#criterion = nn.MSELoss()\n",
    "n_iter = train_velocity_tensor.shape[0]//batch_size\n",
    "n_iter, n_iter*batch_size, len(train_dist_tensor)"
   ]
  },
  {
   "cell_type": "code",
   "execution_count": 10,
   "id": "0011d430-b545-4aac-bfa5-fff3f4d191b1",
   "metadata": {},
   "outputs": [
    {
     "name": "stdout",
     "output_type": "stream",
     "text": [
      "Epoch 0, Loss: 0.29675417623537426\n",
      "Epoch 5, Loss: 0.035562601406127214\n",
      "Epoch 10, Loss: 0.02155094317105763\n",
      "Epoch 15, Loss: 0.018819502760272694\n",
      "Epoch 20, Loss: 0.01640456642352921\n",
      "Epoch 25, Loss: 0.015132540699971072\n",
      "Epoch 30, Loss: 0.01207854156382382\n",
      "Epoch 35, Loss: 0.012422788381466971\n",
      "Epoch 40, Loss: 0.011448887053548414\n",
      "Epoch 45, Loss: 0.009815491427777006\n",
      "Epoch 50, Loss: 0.009586048278245418\n",
      "Epoch 55, Loss: 0.010098057525122868\n",
      "Epoch 60, Loss: 0.008659672361853369\n",
      "Epoch 65, Loss: 0.008822394185699522\n",
      "Epoch 70, Loss: 0.008503678131519872\n",
      "Epoch 75, Loss: 0.007257805644151042\n",
      "Epoch 80, Loss: 0.006174947477548438\n",
      "Epoch 85, Loss: 0.007147255716571475\n",
      "Epoch 90, Loss: 0.006233964577618548\n",
      "Epoch 95, Loss: 0.006781766252756557\n",
      "Epoch 100, Loss: 0.006097008446779321\n",
      "Epoch 105, Loss: 0.005304327066850793\n",
      "Epoch 110, Loss: 0.004735165378352737\n",
      "Epoch 115, Loss: 0.0044164379462873675\n",
      "Epoch 120, Loss: 0.004807226750177934\n",
      "Epoch 125, Loss: 0.018426023519543165\n",
      "Epoch 130, Loss: 0.004178884507649962\n",
      "Epoch 135, Loss: 0.003700221563442884\n",
      "Epoch 140, Loss: 0.0038320766864618394\n",
      "Epoch 145, Loss: 0.0035702823113430947\n",
      "Epoch 150, Loss: 0.0034710921463556588\n",
      "Epoch 155, Loss: 0.0033020212431438267\n",
      "Epoch 160, Loss: 0.0036767014124266363\n",
      "Epoch 165, Loss: 0.006090198711985175\n",
      "Epoch 170, Loss: 0.003046039253925247\n",
      "Epoch 175, Loss: 0.003157255003530094\n",
      "Epoch 180, Loss: 0.0028961164096151203\n",
      "Epoch 185, Loss: 0.0027716520879253305\n",
      "Epoch 190, Loss: 0.003381373591871713\n",
      "Epoch 195, Loss: 0.002233782541760079\n",
      "Epoch 200, Loss: 0.0024991397650035866\n",
      "Epoch 205, Loss: 0.002027506342582295\n",
      "Epoch 210, Loss: 0.0021104608381660108\n",
      "Epoch 215, Loss: 0.0019988129565985326\n",
      "Epoch 220, Loss: 0.001971605298903716\n",
      "Epoch 225, Loss: 0.0021926255037268516\n",
      "Epoch 230, Loss: 0.0015816890346982023\n",
      "Epoch 235, Loss: 0.0016949112640063772\n",
      "Epoch 240, Loss: 0.0015866845188771978\n",
      "Epoch 245, Loss: 0.001689819958033588\n",
      "Epoch 250, Loss: 0.0013244389633387875\n",
      "Epoch 255, Loss: 0.0012045323203304125\n",
      "Epoch 260, Loss: 0.0014702579381478513\n",
      "Epoch 265, Loss: 0.0011932194457211368\n",
      "Epoch 270, Loss: 0.0011755091323078994\n",
      "Epoch 275, Loss: 0.0009869383947636165\n",
      "Epoch 280, Loss: 0.0010090212051770376\n",
      "Epoch 285, Loss: 0.0009839081047924563\n",
      "Epoch 290, Loss: 0.0007893437055720235\n",
      "Epoch 295, Loss: 0.0006966127034769777\n",
      "Epoch 300, Loss: 0.0006467073955504662\n",
      "Epoch 305, Loss: 0.0006630523194497287\n",
      "Epoch 310, Loss: 0.0005280508801875197\n",
      "Epoch 315, Loss: 0.0005361337055493256\n",
      "Epoch 320, Loss: 0.000438166872567415\n",
      "Epoch 325, Loss: 0.0003761321619522813\n",
      "Epoch 330, Loss: 0.0003402492391828941\n",
      "Epoch 335, Loss: 0.0002902866123322918\n",
      "Epoch 340, Loss: 0.00027868416595190545\n",
      "Epoch 345, Loss: 0.00023096338447751752\n",
      "Epoch 350, Loss: 0.0001754459080984816\n",
      "Epoch 355, Loss: 0.0001748678007382242\n",
      "Epoch 360, Loss: 0.0001259282103359617\n",
      "Epoch 365, Loss: 0.00010374925081765362\n",
      "Epoch 370, Loss: 7.715105376144707e-05\n",
      "Epoch 375, Loss: 5.34239775601343e-05\n",
      "Epoch 380, Loss: 4.547818105707205e-05\n",
      "Epoch 385, Loss: 3.94589256382674e-05\n",
      "Epoch 390, Loss: 3.581426533534849e-05\n",
      "Epoch 395, Loss: 3.4518937247733393e-05\n"
     ]
    }
   ],
   "source": [
    "def shuffle_tensors(*tensors):\n",
    "    \"\"\" Shuffles multiple tensors in the same order \"\"\"\n",
    "    indices = torch.randperm(tensors[0].size(0),device=device)  # Generate random indices\n",
    "    return tuple(tensor[indices] for tensor in tensors)\n",
    "    \n",
    "losses = []\n",
    "data_losses, spsd_losses = [], []\n",
    "for epoch in range(epochs):\n",
    "    model.train()\n",
    "    avg = 0\n",
    "    avg_data, avg_spsd = 0, 0\n",
    "    \n",
    "    train_dist_tensor, train_force_tensor, train_velocity_tensor = shuffle_tensors(\n",
    "        train_dist_tensor, train_force_tensor, train_velocity_tensor\n",
    "    )\n",
    "    for it in range(n_iter):\n",
    "        optimizer.zero_grad()\n",
    "        \n",
    "        indices = torch.arange(it*batch_size, (it+1)*batch_size, dtype=torch.int).cuda()\n",
    "        \n",
    "        X = train_dist_tensor[indices]  \n",
    "        force1 = train_force_tensor[indices, :6] \n",
    "        force2 = train_force_tensor[indices, 6:] \n",
    "        Y = train_velocity_tensor[indices]  \n",
    "    \n",
    "        batch_output, (M_s, M_t) = model.predict_velocity(X, force1, force2, return_M=True)\n",
    "        M_sum = M_s + M_t\n",
    "\n",
    "        # Compute loss\n",
    "        data_loss = criterion(batch_output, Y)\n",
    "        spsd_loss = 0.05 * spsd_loss_func(M_t)     #Just M_t\n",
    "        spsd_loss += 0.05 * spsd_loss_func(M_sum)  # AND M_s+M_t both need to be constrained\n",
    "        loss = data_loss #+ spsd_loss\n",
    "        \n",
    "        loss.backward()\n",
    "        avg += loss.item()\n",
    "        avg_data += data_loss.item()\n",
    "        avg_spsd += spsd_loss.item()\n",
    "        optimizer.step()\n",
    "        \n",
    "\n",
    "    scheduler.step()\n",
    "    if epoch%5==0:\n",
    "        print(f'Epoch {epoch}, Loss: {avg/n_iter}')\n",
    "        losses.append(avg/n_iter)\n",
    "        data_losses.append(avg_data/n_iter)\n",
    "        spsd_losses.append(avg_spsd/n_iter)\n",
    "\n",
    "torch.save(model.state_dict(), \"combined_2body.wt\")"
   ]
  },
  {
   "cell_type": "code",
   "execution_count": 11,
   "id": "6d7ed9a5-d632-43ba-8627-8882574c243e",
   "metadata": {},
   "outputs": [
    {
     "data": {
      "image/png": "[encoded data removed]",
      "text/plain": [
       "<Figure size 640x480 with 1 Axes>"
      ]
     },
     "metadata": {},
     "output_type": "display_data"
    }
   ],
   "source": [
    "import matplotlib.pyplot as plt\n",
    "los = losses[1:] # first one is usually too big, messes up the plot\n",
    "plt.plot(np.arange(len(los))*5+1, los);\n",
    "plt.ylabel(\"Loss\")\n",
    "plt.xlabel(\"Epochs\");\n",
    "#plt.savefig(\"loss.png\");"
   ]
  },
  {
   "cell_type": "code",
   "execution_count": 12,
   "id": "632c9ccf-d963-4fd0-b3bd-5e054a80ae86",
   "metadata": {},
   "outputs": [
    {
     "data": {
      "image/png": "[encoded data removed]",
      "text/plain": [
       "<Figure size 640x480 with 1 Axes>"
      ]
     },
     "metadata": {},
     "output_type": "display_data"
    }
   ],
   "source": [
    "SKIP = 2\n",
    "los = data_losses[SKIP:] # first one is usually too big, messes up the plot\n",
    "plt.plot(np.arange(len(los))*5+1, los, label='data');\n",
    "\n",
    "los = spsd_losses[SKIP:] # first one is usually too big, messes up the plot\n",
    "plt.plot(np.arange(len(los))*5+1, los, label='spsd');\n",
    "\n",
    "plt.legend()\n",
    "plt.ylabel(\"Loss\")\n",
    "plt.xlabel(\"Epochs\");"
   ]
  },
  {
   "cell_type": "code",
   "execution_count": 13,
   "id": "39d5298a-c7c9-4952-aec0-cffd1dc0c520",
   "metadata": {},
   "outputs": [
    {
     "data": {
      "text/plain": [
       "([0.29675417623537426,\n",
       "  0.035562601406127214,\n",
       "  0.02155094317105763,\n",
       "  0.018819502760272694,\n",
       "  0.01640456642352921],\n",
       " [5.34239775601343e-05,\n",
       "  4.547818105707205e-05,\n",
       "  3.94589256382674e-05,\n",
       "  3.581426533534849e-05,\n",
       "  3.4518937247733393e-05],\n",
       " [0.0009791271877475083,\n",
       "  0.00010214694485538905,\n",
       "  7.263640605635694e-05,\n",
       "  6.988076954846346e-05,\n",
       "  6.550104162402825e-05],\n",
       " [5.4437007426767034e-05,\n",
       "  5.4466039514141704e-05,\n",
       "  5.440149428014753e-05,\n",
       "  5.448896348859896e-05,\n",
       "  5.44537639571525e-05])"
      ]
     },
     "execution_count": 13,
     "metadata": {},
     "output_type": "execute_result"
    }
   ],
   "source": [
    "data_losses[:5], data_losses[-5:], spsd_losses[:5], spsd_losses[-5:]"
   ]
  },
  {
   "cell_type": "code",
   "execution_count": 14,
   "id": "a72d4b1a-6e67-4b19-b5c3-694f1775558a",
   "metadata": {},
   "outputs": [
    {
     "name": "stdout",
     "output_type": "stream",
     "text": [
      "nonSPD=0, 4400\n"
     ]
    }
   ],
   "source": [
    "model = ScNetwork(input_dim).to(device)\n",
    "model.load_state_dict(torch.load(\"combined_2body.wt\", weights_only=True))\n",
    "model.eval()\n",
    "\n",
    "eigens = []\n",
    "with torch.no_grad():\n",
    "    val_output, (M_s, M_t) = model.predict_velocity(\n",
    "        val_dist_tensor, val_force_tensor[:, :6], val_force_tensor[:, 6:], \n",
    "        return_M=True)\n",
    "\n",
    "\n",
    "N = M_s.shape[0]\n",
    "device, dtype = M_s.device, M_s.dtype\n",
    "\n",
    "# build an (N,12,12) block matrix\n",
    "M_block = torch.zeros(N, 12, 12, device=device, dtype=dtype)\n",
    "# top-left = M_s, top-right = M_t\n",
    "M_block[:, :6, :6] = M_s\n",
    "M_block[:, :6, 6:] = M_t\n",
    "\n",
    "nonSPD = 0\n",
    "for i in range(len(M_block)):\n",
    "    k66 = M_t[i].detach().cpu()\n",
    "    eigs = np.linalg.eigvals(k66)\n",
    "    if not np.all(eigs>=- 1e-8):\n",
    "        eigens.append((eigs.min(), eigs.max()))\n",
    "        nonSPD += 1\n",
    "        \n",
    "print(f\"{nonSPD=}, {len(M_block)}\")"
   ]
  },
  {
   "cell_type": "code",
   "execution_count": 15,
   "id": "fa5caf86-a48b-44ea-a8e5-a7941263f0b2",
   "metadata": {},
   "outputs": [
    {
     "data": {
      "text/plain": [
       "(tensor([ 0.132531, -0.090188, -0.140196, -0.011236, -0.012706,  0.000186],\n",
       "        device='cuda:0'),\n",
       " tensor([ 0.132529, -0.090192, -0.140206, -0.011249, -0.012715,  0.000182],\n",
       "        device='cuda:0'))"
      ]
     },
     "execution_count": 15,
     "metadata": {},
     "output_type": "execute_result"
    }
   ],
   "source": [
    "torch.set_printoptions(sci_mode=False, precision=6)\n",
    "jj = 199\n",
    "val_output[jj], val_velocity_tensor[jj]"
   ]
  },
  {
   "cell_type": "code",
   "execution_count": 16,
   "id": "8f76268d-8193-4ad4-b5a6-dfcb152f4768",
   "metadata": {},
   "outputs": [
    {
     "name": "stdout",
     "output_type": "stream",
     "text": [
      "Root Mean Squared error for each of 6 output variables:\n",
      " tensor([    0.000039,     0.000040,     0.000040,     0.000028,     0.000029,\n",
      "            0.000027], device='cuda:0')\n",
      "Actual Magnitude:\n",
      "  tensor([0.145452, 0.147492, 0.144733, 0.027056, 0.026785, 0.027809],\n",
      "       device='cuda:0')\n",
      "RMSE: tensor(    0.000034, device='cuda:0')\n"
     ]
    }
   ],
   "source": [
    "criterion = nn.L1Loss(reduction='none') \n",
    "err = criterion(val_output, val_velocity_tensor)\n",
    "\n",
    "rmse = err.mean(axis=0)\n",
    "\n",
    "print(\"Root Mean Squared error for each of 6 output variables:\\n\", rmse)\n",
    "print(\"Actual Magnitude:\\n \", torch.abs(val_velocity_tensor).mean(axis=0))\n",
    "print(\"RMSE:\", err.mean())"
   ]
  },
  {
   "cell_type": "code",
   "execution_count": 17,
   "id": "4885a42a-c113-4b79-9322-ea20122eb69f",
   "metadata": {},
   "outputs": [
    {
     "data": {
      "text/plain": [
       "tensor([0.093202, 0.051476, 0.064982, 0.368081, 0.503470, 0.449280],\n",
       "       device='cuda:0')"
      ]
     },
     "execution_count": 17,
     "metadata": {},
     "output_type": "execute_result"
    }
   ],
   "source": [
    "#### Median Relative Absolute Error\n",
    "def mean_abs_err(val_output, val_velocity_tensor, npp=False):\n",
    "    # 6D vector: median % error for each vel component\n",
    "    valid_mask = torch.abs(val_velocity_tensor) > 1e-6\n",
    "    \n",
    "    filtered_y_tensor = torch.where(valid_mask, val_velocity_tensor, torch.tensor(float('nan')))\n",
    "    relative_error = torch.abs((val_output - filtered_y_tensor) / filtered_y_tensor)\n",
    "    \n",
    "    a = torch.nanmean(relative_error, dim=0)\n",
    "    return a*100\n",
    "\n",
    "mean_abs_err(val_output, val_velocity_tensor)"
   ]
  },
  {
   "cell_type": "code",
   "execution_count": 18,
   "id": "4752517c-5940-48aa-852a-1c71073e6a12",
   "metadata": {},
   "outputs": [
    {
     "data": {
      "text/plain": [
       "tensor([0.026911, 0.027383, 0.027459, 0.102048, 0.107302, 0.096963],\n",
       "       device='cuda:0')"
      ]
     },
     "execution_count": 18,
     "metadata": {},
     "output_type": "execute_result"
    }
   ],
   "source": [
    "100*rmse/torch.abs(val_velocity_tensor).mean(axis=0)"
   ]
  },
  {
   "cell_type": "code",
   "execution_count": 19,
   "id": "b66b6097-9fbd-4aa5-8903-4032a6e4bf5b",
   "metadata": {},
   "outputs": [
    {
     "data": {
      "text/plain": [
       "tensor([0.051547, 0.047693, 0.059279, 0.173729, 0.282180, 0.238698],\n",
       "       device='cuda:0')"
      ]
     },
     "execution_count": 19,
     "metadata": {},
     "output_type": "execute_result"
    }
   ],
   "source": [
    "idx = val_dist_tensor[:,3]<4.0\n",
    "mean_abs_err(val_output[idx], val_velocity_tensor[idx])"
   ]
  },
  {
   "cell_type": "code",
   "execution_count": 20,
   "id": "c36853c5-51d5-4cad-b0bb-6eb3f98520ae",
   "metadata": {},
   "outputs": [
    {
     "data": {
      "text/plain": [
       "tensor([0.104082, 0.103350, 0.122424, 0.357622, 0.567999, 0.524207],\n",
       "       device='cuda:0')"
      ]
     },
     "execution_count": 20,
     "metadata": {},
     "output_type": "execute_result"
    }
   ],
   "source": [
    "idx = val_dist_tensor[:,3]<2.6\n",
    "mean_abs_err(val_output[idx], val_velocity_tensor[idx])"
   ]
  },
  {
   "cell_type": "code",
   "execution_count": null,
   "id": "3f3fb3f7-09ab-4caf-8328-85759194bf74",
   "metadata": {},
   "outputs": [],
   "source": []
  },
  {
   "cell_type": "code",
   "execution_count": 21,
   "id": "1de760e2-567a-4428-99d2-3b8ea5cb245e",
   "metadata": {},
   "outputs": [
    {
     "data": {
      "image/png": "[encoded data removed]",
      "text/plain": [
       "<Figure size 640x480 with 1 Axes>"
      ]
     },
     "metadata": {},
     "output_type": "display_data"
    }
   ],
   "source": [
    "err = torch.abs(val_output-val_velocity_tensor).mean(axis=1)\n",
    "\n",
    "tdf = pd.DataFrame({\n",
    "    'dist': val_dist_tensor[:,3].cpu().numpy(),\n",
    "    'err': err.detach().cpu().numpy()\n",
    "})\n",
    "sns.set_style(\"whitegrid\")\n",
    "ax = sns.regplot(x='dist', y='err', data=tdf, scatter_kws={'color':'blue', 'alpha':0.15}, \n",
    "             line_kws={'color':'red'}, order=3);\n",
    "ax = sns.scatterplot(x='dist', y='err', data=tdf)"
   ]
  },
  {
   "cell_type": "code",
   "execution_count": 22,
   "id": "2a340b6c-5050-4e39-b23b-bc390120e5fc",
   "metadata": {},
   "outputs": [
    {
     "data": {
      "text/plain": [
       "tensor([15.355470, 16.503107, 25.141991, 25.573042, 89.884483, 35.600861],\n",
       "       device='cuda:0')"
      ]
     },
     "execution_count": 22,
     "metadata": {},
     "output_type": "execute_result"
    }
   ],
   "source": [
    "viscosity = 1.0\n",
    "\n",
    "\n",
    "import sys\n",
    "sys.path.insert(0, '/home/shihab/hignn')\n",
    "from grpy_tensors import mu  #using non-torch original version\n",
    "\n",
    "def compute_rpy_mobility(c2, return_k=False):\n",
    "    global viscosity\n",
    "    c = np.array([[0.0, 0.0, 0.0], list(c2)])\n",
    "    radii = np.array([1.0, 1.0])  # Example radii of the particles\n",
    "    \n",
    "    M = mu(c, radii,blockmatrix=True)/viscosity\n",
    "    res = M[:,:,0,1,:,:] #M_ji, not M_ij. (RT,TR components vary)\n",
    "    K = np.zeros((6,6))\n",
    "    K[:3,:3] = res[0,0]\n",
    "    K[:3,3:] = res[0,1]\n",
    "    K[3:,:3] = res[1,0]\n",
    "    K[3:,3:] = res[1,1]\n",
    "\n",
    "    #K = M\n",
    "    return K\n",
    "\n",
    "len_val = len(val_dist_tensor)\n",
    "val_dist_arr = val_dist_tensor.cpu().numpy()\n",
    "val_force_arr = val_force_tensor.cpu().numpy()\n",
    "val_velocity_arr = val_velocity_tensor.cpu().numpy()\n",
    "rpy_vels = np.zeros((len_val,6))\n",
    "for i in range(len_val):\n",
    "    x,f = val_dist_arr[i], val_force_arr[i]\n",
    "    #f = np.concatenate((np.zeros_like(f), f))\n",
    "    yp = compute_rpy_mobility(x[:3]) @ f[6:]\n",
    "    rpy_vels[i] = yp[:6]\n",
    "\n",
    "rpy_vels_tensor = torch.Tensor(rpy_vels).cuda()\n",
    "mean_abs_err(rpy_vels_tensor, val_velocity_tensor)"
   ]
  },
  {
   "cell_type": "code",
   "execution_count": null,
   "id": "8256ae1e-e4b2-499d-948c-7c04f3c3976c",
   "metadata": {},
   "outputs": [],
   "source": []
  },
  {
   "cell_type": "code",
   "execution_count": null,
   "id": "3d86b05a-3d8e-44d0-8e38-2bb0e41af42a",
   "metadata": {},
   "outputs": [],
   "source": []
  },
  {
   "cell_type": "code",
   "execution_count": null,
   "id": "5cf8de50-eea2-471d-9412-ce834fbb150b",
   "metadata": {},
   "outputs": [],
   "source": []
  },
  {
   "cell_type": "code",
   "execution_count": null,
   "id": "2708bffe-7ebe-481d-a5c5-e18149c2f59c",
   "metadata": {},
   "outputs": [],
   "source": [
    "\n",
    "\n",
    "\n",
    "\n",
    "\n",
    "\n",
    "\n",
    "\n"
   ]
  }
 ],
 "metadata": {
  "kernelspec": {
   "display_name": "Python 3 (ipykernel)",
   "language": "python",
   "name": "python3"
  },
  "language_info": {
   "codemirror_mode": {
    "name": "ipython",
    "version": 3
   },
   "file_extension": ".py",
   "mimetype": "text/x-python",
   "name": "python",
   "nbconvert_exporter": "python",
   "pygments_lexer": "ipython3",
   "version": "3.12.2"
  }
 },
 "nbformat": 4,
 "nbformat_minor": 5
}
