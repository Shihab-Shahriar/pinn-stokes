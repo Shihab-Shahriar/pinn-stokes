{
 "cells": [
  {
   "cell_type": "code",
   "execution_count": 1,
   "id": "7e95cd7f-d027-43eb-b0c5-763f00c9fa70",
   "metadata": {},
   "outputs": [],
   "source": [
    "import numpy as np\n",
    "import os\n",
    "import seaborn as sns\n",
    "import matplotlib.pyplot as plt\n",
    "import pandas as pd\n",
    "from scipy.spatial.transform import Rotation\n",
    "import torch\n",
    "import torch.nn as nn\n",
    "import torch.nn.functional as F\n",
    "\n",
    "import sys\n",
    "sys.path.append(\"/home/shihab/repo/src\")\n",
    "from analysis_utils import convert_to_tensors, shuffle_and_split, prepare_vectors\n",
    "\n",
    "torch.manual_seed(42)\n",
    "np.random.seed(41)\n",
    "\n",
    "device = torch.device(\"cuda\" if torch.cuda.is_available() else \"cpu\")\n",
    "torch.set_default_device(device)"
   ]
  },
  {
   "cell_type": "markdown",
   "id": "4ee0ea69-9056-4d63-913b-db9d0a95e727",
   "metadata": {},
   "source": [
    "## Two body: Using New non-buggy data\n",
    "\n",
    "Along with comparsion with RPY\n",
    "\n",
    "Comment (4/26):\n",
    "+ We ignored a term so far: $V_{t} = f1(Xt, Xs).Fs + f2(Xt, Xs).Ft$\n",
    "\n",
    "Comments (03/18):\n",
    "\n",
    "+ The weird wave-y error plot for NN: converting ReLU's to Tanh got rid of those.\n",
    "+ Turns out we can remove the Tanh activation on the very last layer\n",
    "+ Looks like somewhere around 5-6 dist RPY overtakes us. Tried a little bit learning for larger distance- doesn't make much difference *for sphere*."
   ]
  },
  {
   "cell_type": "code",
   "execution_count": 2,
   "id": "79332c1d-4bd2-4a3f-a8cb-fa6aea5a69ae",
   "metadata": {},
   "outputs": [
    {
     "data": {
      "text/plain": [
       "((28000, 23),\n",
       " Index(['center_x', 'center_y', 'center_z', 'dist', 'min_dist', 'force_x',\n",
       "        'force_y', 'force_z', 'torque_x', 'torque_y', 'torque_z', 'vel_x',\n",
       "        'vel_y', 'vel_z', 'angvel_x', 'angvel_y', 'angvel_z', 'quat_6d_1',\n",
       "        'quat_6d_2', 'quat_6d_3', 'quat_6d_4', 'quat_6d_5', 'quat_6d_6'],\n",
       "       dtype='object'))"
      ]
     },
     "execution_count": 2,
     "metadata": {},
     "output_type": "execute_result"
    }
   ],
   "source": [
    "df = pd.read_csv(f\"../data/sphere_2body_28k.csv\").drop(columns=['Unnamed: 0'])\n",
    "df.shape, df.columns"
   ]
  },
  {
   "cell_type": "code",
   "execution_count": 3,
   "id": "4a2823a9-0709-4a65-88bf-0716c0bf6416",
   "metadata": {},
   "outputs": [
    {
     "data": {
      "image/png": "[encoded data removed]",
      "text/plain": [
       "<Figure size 640x480 with 1 Axes>"
      ]
     },
     "metadata": {},
     "output_type": "display_data"
    }
   ],
   "source": [
    "sns.histplot(df[\"dist\"], bins=40);"
   ]
  },
  {
   "cell_type": "code",
   "execution_count": 4,
   "id": "624b7278-1425-47be-af9a-64821ee34db8",
   "metadata": {},
   "outputs": [],
   "source": [
    "def prepare_vectors(df):\n",
    "    force_cols = ['force_x', 'force_y', 'force_z', \n",
    "                  \"torque_x\", \"torque_y\", \"torque_z\",]\n",
    "    output_cols = ['vel_x', 'vel_y', 'vel_z', 'angvel_x', 'angvel_y', 'angvel_z']\n",
    "    #feature_cols = [col for col in df.columns if col not in (force_cols + output_cols)]\n",
    "    feature_cols = ['center_x', 'center_y', 'center_z', 'dist', 'min_dist']\n",
    "    print(feature_cols)\n",
    "    \n",
    "    dist_vec = df[feature_cols].values\n",
    "    force_vec = df[force_cols].values\n",
    "    output_vec = df[output_cols].values\n",
    "    return dist_vec, force_vec, output_vec"
   ]
  },
  {
   "cell_type": "code",
   "execution_count": 5,
   "id": "e707fdd1-3d84-4da3-ba05-dcd32528599d",
   "metadata": {},
   "outputs": [
    {
     "name": "stdout",
     "output_type": "stream",
     "text": [
      "['center_x', 'center_y', 'center_z', 'dist', 'min_dist']\n"
     ]
    },
    {
     "data": {
      "text/plain": [
       "(torch.Size([22400, 5]), torch.Size([22400, 6]), torch.Size([5600, 5]))"
      ]
     },
     "execution_count": 5,
     "metadata": {},
     "output_type": "execute_result"
    }
   ],
   "source": [
    "feat, force, vel = prepare_vectors(df)\n",
    "feat, force, vel = convert_to_tensors(feat, force, vel)\n",
    "\n",
    "#vel *= 5\n",
    "\n",
    "tmp = list(shuffle_and_split(df, feat, force, vel, split_frac=.8))\n",
    "\n",
    "for i in range(len(tmp)):\n",
    "    tmp[i] = tmp[i].to(device)\n",
    "\n",
    "(train_dist_tensor, val_dist_tensor, \n",
    "    train_force_tensor, val_force_tensor, \n",
    "    train_velocity_tensor, val_velocity_tensor) = tmp\n",
    "\n",
    "train_dist_tensor.shape, train_force_tensor.shape, val_dist_tensor.shape"
   ]
  },
  {
   "cell_type": "code",
   "execution_count": 6,
   "id": "8e3fe951-c5c2-436c-8785-d4186cc9216c",
   "metadata": {},
   "outputs": [],
   "source": [
    "def L1(d):\n",
    "    \"\"\" Computes the outer product of each 3D vector in the batch with itself. \"\"\"\n",
    "    # d: [batch_size, 3]\n",
    "    return torch.einsum('bi,bj->bij', d, d)  # [batch_size, 3, 3]\n",
    "\n",
    "def L2(d):\n",
    "    \"\"\" Returns the matrix (I - outer(d, d)) for each vector in the batch. \"\"\"\n",
    "    # Identity tensor expanded to batch size\n",
    "    batch_size = d.shape[0]\n",
    "    I = torch.eye(3).unsqueeze(0).repeat(batch_size, 1, 1).to(device)  # [batch_size, 3, 3]\n",
    "    ddT = torch.einsum('bi,bj->bij', d, d)  # [batch_size, 3, 3]\n",
    "    return I - ddT\n",
    "\n",
    "# Predefine the Levi-Civita tensor\n",
    "levi_civita = torch.zeros(3, 3, 3, dtype=torch.float)\n",
    "levi_civita[0, 1, 2] = 1\n",
    "levi_civita[1, 2, 0] = 1\n",
    "levi_civita[2, 0, 1] = 1\n",
    "levi_civita[0, 2, 1] = -1\n",
    "levi_civita[2, 1, 0] = -1\n",
    "levi_civita[1, 0, 2] = -1\n",
    "\n",
    "levi_civita = levi_civita.to(device)\n",
    "\n",
    "def L3(d):\n",
    "    \"\"\" Computes the cross product matrix for each 3D vector in the batch. \"\"\"\n",
    "    # Using einsum for batched matrix-vector multiplication:\n",
    "    return torch.einsum('ijk,bk->bij', levi_civita, d)  # [batch_size, 3, 3]\n",
    "\n",
    "def spsd_loss_func(sym_matrix, epsilon=1e-6):\n",
    "    \"\"\"SPSD loss representing SPSD violation\n",
    "    \"\"\"\n",
    "    eigenvalues = torch.linalg.eigvalsh(sym_matrix)  # (batch_size, 6)\n",
    "    negative_violations = torch.relu(-eigenvalues + epsilon)  # (batch_size, 6)\n",
    "    loss = torch.mean(negative_violations)\n",
    "    \n",
    "    return loss"
   ]
  },
  {
   "cell_type": "code",
   "execution_count": null,
   "id": "a5fba1a1-e763-4be5-854b-06c3db34b972",
   "metadata": {},
   "outputs": [],
   "source": []
  },
  {
   "cell_type": "code",
   "execution_count": 7,
   "id": "160033d4-f092-4428-abec-ed52754e4de5",
   "metadata": {},
   "outputs": [],
   "source": [
    "viscosity = 1.0\n",
    "eigens = []\n",
    "\n",
    "class ScNetwork(nn.Module):\n",
    "    def __init__(self, input_dim):\n",
    "        super(ScNetwork, self).__init__()\n",
    "        self.layers = nn.Sequential(\n",
    "            nn.Linear(input_dim, 64),\n",
    "            nn.Tanh(),\n",
    "            nn.Linear(64, 32),\n",
    "            nn.Tanh(),\n",
    "            nn.Linear(32, 64),\n",
    "            nn.Tanh(),\n",
    "            nn.Linear(64, 5),\n",
    "            #nn.Tanh()\n",
    "        )\n",
    "        \n",
    "    def forward(self, r, print_scalars=False):\n",
    "        x = self.layers(r)\n",
    "        return x\n",
    "\n",
    "    def predict_mobility(self, X, print_scalars=False):\n",
    "        d_vec, r = X[:,:3], X[:,3]\n",
    "        sc = self.forward(X, print_scalars)\n",
    "\n",
    "        d_vec = -d_vec/ r.unsqueeze(-1) # negative,cz dvec=target-src\n",
    "        TT = sc[:, 0].unsqueeze(1).unsqueeze(2) * L1(d_vec) + \\\n",
    "                sc[:, 1].unsqueeze(1).unsqueeze(2) * L2(d_vec) # TODO: d_vec or r?\n",
    "        RT = sc[:, 2].unsqueeze(1).unsqueeze(2) * L3(d_vec)\n",
    "        RR = sc[:, 3].unsqueeze(1).unsqueeze(2) * L1(d_vec) + \\\n",
    "                sc[:, 4].unsqueeze(1).unsqueeze(2) * L2(d_vec)\n",
    "    \n",
    "        K = torch.zeros((len(X), 6, 6), dtype=torch.float32, device=X.device)\n",
    "\n",
    "        # After experiments, the kernel is NOT symmetric. \n",
    "        # Top-right and bottem left should NOT be transpose of each other\n",
    "        K[:, :3, :3] = TT  # Top-left block\n",
    "        K[:, 3:, :3] = RT  # Bottom-left block\n",
    "        K[:, :3, 3:] = RT  # Top-right block (transpose of B)\n",
    "        K[:, 3:, 3:] = RR  # Bottom-right block\n",
    "\n",
    "        nonSPD = 0\n",
    "        nonSym = 0\n",
    "        global eigens\n",
    "        if not self.training:\n",
    "            print(\"Activating SPSD check..\")\n",
    "            for i in range(len(K)):\n",
    "                k66 = K[i].detach().cpu()\n",
    "                eigs = np.linalg.eigvals(k66)\n",
    "                if not np.all(eigs>=- 1e-8):\n",
    "                    eigens.append((eigs.min(), eigs.max()))\n",
    "                    nonSPD += 1\n",
    "                if not np.allclose(k66, k66.T, atol=1e-4):\n",
    "                    nonSym += 1\n",
    "                    \n",
    "            print(f\"{nonSPD=}, {nonSym=}, {len(K)}\")\n",
    "        return K\n",
    "\n",
    "    def predict_velocity(self, X, force, return_M=False):\n",
    "        M = self.predict_mobility(X)/viscosity\n",
    "        velocity = torch.bmm(M, force.unsqueeze(-1)).squeeze(-1)\n",
    "        if return_M:\n",
    "            return velocity, M\n",
    "        return velocity\n"
   ]
  },
  {
   "cell_type": "markdown",
   "id": "1014c0a1-1c7d-4ce3-b84a-2620831d4d56",
   "metadata": {},
   "source": [
    "## Modelling"
   ]
  },
  {
   "cell_type": "code",
   "execution_count": 8,
   "id": "cdf70f6d-c04d-4e7e-8d58-650e3fc3126c",
   "metadata": {},
   "outputs": [
    {
     "data": {
      "text/plain": [
       "(87, 22272, 22400)"
      ]
     },
     "execution_count": 8,
     "metadata": {},
     "output_type": "execute_result"
    }
   ],
   "source": [
    "input_dim = train_dist_tensor.shape[1]\n",
    "batch_size = 256\n",
    "epochs = 400\n",
    "model = ScNetwork(input_dim).to(device)\n",
    "optimizer = torch.optim.Adam(model.parameters(), lr=0.003)\n",
    "#scheduler = torch.optim.lr_scheduler.StepLR(optimizer, step_size=50, gamma=0.50)\n",
    "scheduler = torch.optim.lr_scheduler.CosineAnnealingLR(optimizer, T_max=epochs)\n",
    "\n",
    "\n",
    "criterion = nn.L1Loss()\n",
    "#criterion = nn.MSELoss()\n",
    "n_iter = train_velocity_tensor.shape[0]//batch_size\n",
    "n_iter, n_iter*batch_size, len(train_dist_tensor)"
   ]
  },
  {
   "cell_type": "code",
   "execution_count": 9,
   "id": "73765d5c-4273-4c30-8bf5-1e29b86e0397",
   "metadata": {},
   "outputs": [
    {
     "name": "stdout",
     "output_type": "stream",
     "text": [
      "Epoch 0, Loss: 0.15788470713914127\n",
      "Epoch 5, Loss: 0.021476243986566175\n",
      "Epoch 10, Loss: 0.015746659893628168\n",
      "Epoch 15, Loss: 0.01828235251850438\n",
      "Epoch 20, Loss: 0.012870740156149727\n",
      "Epoch 25, Loss: 0.01381278798069762\n",
      "Epoch 30, Loss: 0.011511810744802157\n",
      "Epoch 35, Loss: 0.00985372312174275\n",
      "Epoch 40, Loss: 0.0085991145293603\n",
      "Epoch 45, Loss: 0.008341974996287247\n",
      "Epoch 50, Loss: 0.008559147543648535\n",
      "Epoch 55, Loss: 0.006479548036131537\n",
      "Epoch 60, Loss: 0.006673780342178612\n",
      "Epoch 65, Loss: 0.00625355227518527\n",
      "Epoch 70, Loss: 0.005216437994084996\n",
      "Epoch 75, Loss: 0.004488592507082155\n",
      "Epoch 80, Loss: 0.005454472038659385\n",
      "Epoch 85, Loss: 0.0053252379072765855\n",
      "Epoch 90, Loss: 0.004597241208813657\n",
      "Epoch 95, Loss: 0.004350022790182768\n",
      "Epoch 100, Loss: 0.0037376474824616277\n",
      "Epoch 105, Loss: 0.0031482580963565015\n",
      "Epoch 110, Loss: 0.0038242787363585726\n",
      "Epoch 115, Loss: 0.0033893376473744198\n",
      "Epoch 120, Loss: 0.0030134037798056484\n",
      "Epoch 125, Loss: 0.003035928263200511\n",
      "Epoch 130, Loss: 0.00289557583030613\n",
      "Epoch 135, Loss: 0.002722524216227319\n",
      "Epoch 140, Loss: 0.0021910159554246857\n",
      "Epoch 145, Loss: 0.0021271983699487716\n",
      "Epoch 150, Loss: 0.0023725233121036455\n",
      "Epoch 155, Loss: 0.0025369613270821243\n",
      "Epoch 160, Loss: 0.0022153087781913495\n",
      "Epoch 165, Loss: 0.0018992353907797016\n",
      "Epoch 170, Loss: 0.001631215627535364\n",
      "Epoch 175, Loss: 0.0018721810681210167\n",
      "Epoch 180, Loss: 0.0017170654194986169\n",
      "Epoch 185, Loss: 0.0015108887007160262\n",
      "Epoch 190, Loss: 0.0015466842671920512\n",
      "Epoch 195, Loss: 0.001454521929336733\n",
      "Epoch 200, Loss: 0.0014778344675192032\n",
      "Epoch 205, Loss: 0.0016528056585229933\n",
      "Epoch 210, Loss: 0.0013919955771148804\n",
      "Epoch 215, Loss: 0.001383223497287381\n",
      "Epoch 220, Loss: 0.0011087123166780449\n",
      "Epoch 225, Loss: 0.001229012577029095\n",
      "Epoch 230, Loss: 0.0010030655024423339\n",
      "Epoch 235, Loss: 0.0010893628892392434\n",
      "Epoch 240, Loss: 0.001055731039344408\n",
      "Epoch 245, Loss: 0.0009313516637267566\n",
      "Epoch 250, Loss: 0.000939709071508855\n",
      "Epoch 255, Loss: 0.0008351976662772525\n",
      "Epoch 260, Loss: 0.0007755814261343758\n",
      "Epoch 265, Loss: 0.0007304262992760017\n",
      "Epoch 270, Loss: 0.0007132810417391445\n",
      "Epoch 275, Loss: 0.0006309301641250521\n",
      "Epoch 280, Loss: 0.0005591114823727858\n",
      "Epoch 285, Loss: 0.000574445015758854\n",
      "Epoch 290, Loss: 0.0005146812277259948\n"
     ]
    },
    {
     "ename": "KeyboardInterrupt",
     "evalue": "",
     "output_type": "error",
     "traceback": [
      "\u001b[0;31m---------------------------------------------------------------------------\u001b[0m",
      "\u001b[0;31mKeyboardInterrupt\u001b[0m                         Traceback (most recent call last)",
      "Cell \u001b[0;32mIn[9], line 25\u001b[0m\n\u001b[1;32m     22\u001b[0m force \u001b[38;5;241m=\u001b[39m train_force_tensor[indices] \n\u001b[1;32m     23\u001b[0m Y \u001b[38;5;241m=\u001b[39m train_velocity_tensor[indices]  \n\u001b[0;32m---> 25\u001b[0m batch_output, M \u001b[38;5;241m=\u001b[39m \u001b[43mmodel\u001b[49m\u001b[38;5;241;43m.\u001b[39;49m\u001b[43mpredict_velocity\u001b[49m\u001b[43m(\u001b[49m\u001b[43mX\u001b[49m\u001b[43m,\u001b[49m\u001b[43m \u001b[49m\u001b[43mforce\u001b[49m\u001b[43m,\u001b[49m\u001b[43m \u001b[49m\u001b[43mreturn_M\u001b[49m\u001b[38;5;241;43m=\u001b[39;49m\u001b[38;5;28;43;01mTrue\u001b[39;49;00m\u001b[43m)\u001b[49m\n\u001b[1;32m     27\u001b[0m \u001b[38;5;66;03m# Compute loss\u001b[39;00m\n\u001b[1;32m     28\u001b[0m data_loss \u001b[38;5;241m=\u001b[39m criterion(batch_output, Y)\n",
      "Cell \u001b[0;32mIn[7], line 60\u001b[0m, in \u001b[0;36mScNetwork.predict_velocity\u001b[0;34m(self, X, force, return_M)\u001b[0m\n\u001b[1;32m     59\u001b[0m \u001b[38;5;28;01mdef\u001b[39;00m \u001b[38;5;21mpredict_velocity\u001b[39m(\u001b[38;5;28mself\u001b[39m, X, force, return_M\u001b[38;5;241m=\u001b[39m\u001b[38;5;28;01mFalse\u001b[39;00m):\n\u001b[0;32m---> 60\u001b[0m     M \u001b[38;5;241m=\u001b[39m \u001b[38;5;28;43mself\u001b[39;49m\u001b[38;5;241;43m.\u001b[39;49m\u001b[43mpredict_mobility\u001b[49m\u001b[43m(\u001b[49m\u001b[43mX\u001b[49m\u001b[43m)\u001b[49m\u001b[38;5;241m/\u001b[39mviscosity\n\u001b[1;32m     61\u001b[0m     velocity \u001b[38;5;241m=\u001b[39m torch\u001b[38;5;241m.\u001b[39mbmm(M, force\u001b[38;5;241m.\u001b[39munsqueeze(\u001b[38;5;241m-\u001b[39m\u001b[38;5;241m1\u001b[39m))\u001b[38;5;241m.\u001b[39msqueeze(\u001b[38;5;241m-\u001b[39m\u001b[38;5;241m1\u001b[39m)\n\u001b[1;32m     62\u001b[0m     \u001b[38;5;28;01mif\u001b[39;00m return_M:\n",
      "Cell \u001b[0;32mIn[7], line 24\u001b[0m, in \u001b[0;36mScNetwork.predict_mobility\u001b[0;34m(self, X, print_scalars)\u001b[0m\n\u001b[1;32m     22\u001b[0m \u001b[38;5;28;01mdef\u001b[39;00m \u001b[38;5;21mpredict_mobility\u001b[39m(\u001b[38;5;28mself\u001b[39m, X, print_scalars\u001b[38;5;241m=\u001b[39m\u001b[38;5;28;01mFalse\u001b[39;00m):\n\u001b[1;32m     23\u001b[0m     d_vec, r \u001b[38;5;241m=\u001b[39m X[:,:\u001b[38;5;241m3\u001b[39m], X[:,\u001b[38;5;241m3\u001b[39m]\n\u001b[0;32m---> 24\u001b[0m     sc \u001b[38;5;241m=\u001b[39m \u001b[38;5;28;43mself\u001b[39;49m\u001b[38;5;241;43m.\u001b[39;49m\u001b[43mforward\u001b[49m\u001b[43m(\u001b[49m\u001b[43mX\u001b[49m\u001b[43m,\u001b[49m\u001b[43m \u001b[49m\u001b[43mprint_scalars\u001b[49m\u001b[43m)\u001b[49m\n\u001b[1;32m     26\u001b[0m     d_vec \u001b[38;5;241m=\u001b[39m \u001b[38;5;241m-\u001b[39md_vec\u001b[38;5;241m/\u001b[39m r\u001b[38;5;241m.\u001b[39munsqueeze(\u001b[38;5;241m-\u001b[39m\u001b[38;5;241m1\u001b[39m) \u001b[38;5;66;03m# negative,cz dvec=target-src\u001b[39;00m\n\u001b[1;32m     27\u001b[0m     TT \u001b[38;5;241m=\u001b[39m sc[:, \u001b[38;5;241m0\u001b[39m]\u001b[38;5;241m.\u001b[39munsqueeze(\u001b[38;5;241m1\u001b[39m)\u001b[38;5;241m.\u001b[39munsqueeze(\u001b[38;5;241m2\u001b[39m) \u001b[38;5;241m*\u001b[39m L1(d_vec) \u001b[38;5;241m+\u001b[39m \\\n\u001b[1;32m     28\u001b[0m             sc[:, \u001b[38;5;241m1\u001b[39m]\u001b[38;5;241m.\u001b[39munsqueeze(\u001b[38;5;241m1\u001b[39m)\u001b[38;5;241m.\u001b[39munsqueeze(\u001b[38;5;241m2\u001b[39m) \u001b[38;5;241m*\u001b[39m L2(d_vec) \u001b[38;5;66;03m# TODO: d_vec or r?\u001b[39;00m\n",
      "Cell \u001b[0;32mIn[7], line 19\u001b[0m, in \u001b[0;36mScNetwork.forward\u001b[0;34m(self, r, print_scalars)\u001b[0m\n\u001b[1;32m     18\u001b[0m \u001b[38;5;28;01mdef\u001b[39;00m \u001b[38;5;21mforward\u001b[39m(\u001b[38;5;28mself\u001b[39m, r, print_scalars\u001b[38;5;241m=\u001b[39m\u001b[38;5;28;01mFalse\u001b[39;00m):\n\u001b[0;32m---> 19\u001b[0m     x \u001b[38;5;241m=\u001b[39m \u001b[38;5;28;43mself\u001b[39;49m\u001b[38;5;241;43m.\u001b[39;49m\u001b[43mlayers\u001b[49m\u001b[43m(\u001b[49m\u001b[43mr\u001b[49m\u001b[43m)\u001b[49m\n\u001b[1;32m     20\u001b[0m     \u001b[38;5;28;01mreturn\u001b[39;00m x\n",
      "File \u001b[0;32m~/miniconda3/lib/python3.12/site-packages/torch/nn/modules/module.py:1739\u001b[0m, in \u001b[0;36mModule._wrapped_call_impl\u001b[0;34m(self, *args, **kwargs)\u001b[0m\n\u001b[1;32m   1737\u001b[0m     \u001b[38;5;28;01mreturn\u001b[39;00m \u001b[38;5;28mself\u001b[39m\u001b[38;5;241m.\u001b[39m_compiled_call_impl(\u001b[38;5;241m*\u001b[39margs, \u001b[38;5;241m*\u001b[39m\u001b[38;5;241m*\u001b[39mkwargs)  \u001b[38;5;66;03m# type: ignore[misc]\u001b[39;00m\n\u001b[1;32m   1738\u001b[0m \u001b[38;5;28;01melse\u001b[39;00m:\n\u001b[0;32m-> 1739\u001b[0m     \u001b[38;5;28;01mreturn\u001b[39;00m \u001b[38;5;28;43mself\u001b[39;49m\u001b[38;5;241;43m.\u001b[39;49m\u001b[43m_call_impl\u001b[49m\u001b[43m(\u001b[49m\u001b[38;5;241;43m*\u001b[39;49m\u001b[43margs\u001b[49m\u001b[43m,\u001b[49m\u001b[43m \u001b[49m\u001b[38;5;241;43m*\u001b[39;49m\u001b[38;5;241;43m*\u001b[39;49m\u001b[43mkwargs\u001b[49m\u001b[43m)\u001b[49m\n",
      "File \u001b[0;32m~/miniconda3/lib/python3.12/site-packages/torch/nn/modules/module.py:1750\u001b[0m, in \u001b[0;36mModule._call_impl\u001b[0;34m(self, *args, **kwargs)\u001b[0m\n\u001b[1;32m   1745\u001b[0m \u001b[38;5;66;03m# If we don't have any hooks, we want to skip the rest of the logic in\u001b[39;00m\n\u001b[1;32m   1746\u001b[0m \u001b[38;5;66;03m# this function, and just call forward.\u001b[39;00m\n\u001b[1;32m   1747\u001b[0m \u001b[38;5;28;01mif\u001b[39;00m \u001b[38;5;129;01mnot\u001b[39;00m (\u001b[38;5;28mself\u001b[39m\u001b[38;5;241m.\u001b[39m_backward_hooks \u001b[38;5;129;01mor\u001b[39;00m \u001b[38;5;28mself\u001b[39m\u001b[38;5;241m.\u001b[39m_backward_pre_hooks \u001b[38;5;129;01mor\u001b[39;00m \u001b[38;5;28mself\u001b[39m\u001b[38;5;241m.\u001b[39m_forward_hooks \u001b[38;5;129;01mor\u001b[39;00m \u001b[38;5;28mself\u001b[39m\u001b[38;5;241m.\u001b[39m_forward_pre_hooks\n\u001b[1;32m   1748\u001b[0m         \u001b[38;5;129;01mor\u001b[39;00m _global_backward_pre_hooks \u001b[38;5;129;01mor\u001b[39;00m _global_backward_hooks\n\u001b[1;32m   1749\u001b[0m         \u001b[38;5;129;01mor\u001b[39;00m _global_forward_hooks \u001b[38;5;129;01mor\u001b[39;00m _global_forward_pre_hooks):\n\u001b[0;32m-> 1750\u001b[0m     \u001b[38;5;28;01mreturn\u001b[39;00m \u001b[43mforward_call\u001b[49m\u001b[43m(\u001b[49m\u001b[38;5;241;43m*\u001b[39;49m\u001b[43margs\u001b[49m\u001b[43m,\u001b[49m\u001b[43m \u001b[49m\u001b[38;5;241;43m*\u001b[39;49m\u001b[38;5;241;43m*\u001b[39;49m\u001b[43mkwargs\u001b[49m\u001b[43m)\u001b[49m\n\u001b[1;32m   1752\u001b[0m result \u001b[38;5;241m=\u001b[39m \u001b[38;5;28;01mNone\u001b[39;00m\n\u001b[1;32m   1753\u001b[0m called_always_called_hooks \u001b[38;5;241m=\u001b[39m \u001b[38;5;28mset\u001b[39m()\n",
      "File \u001b[0;32m~/miniconda3/lib/python3.12/site-packages/torch/nn/modules/container.py:250\u001b[0m, in \u001b[0;36mSequential.forward\u001b[0;34m(self, input)\u001b[0m\n\u001b[1;32m    248\u001b[0m \u001b[38;5;28;01mdef\u001b[39;00m \u001b[38;5;21mforward\u001b[39m(\u001b[38;5;28mself\u001b[39m, \u001b[38;5;28minput\u001b[39m):\n\u001b[1;32m    249\u001b[0m     \u001b[38;5;28;01mfor\u001b[39;00m module \u001b[38;5;129;01min\u001b[39;00m \u001b[38;5;28mself\u001b[39m:\n\u001b[0;32m--> 250\u001b[0m         \u001b[38;5;28minput\u001b[39m \u001b[38;5;241m=\u001b[39m \u001b[43mmodule\u001b[49m\u001b[43m(\u001b[49m\u001b[38;5;28;43minput\u001b[39;49m\u001b[43m)\u001b[49m\n\u001b[1;32m    251\u001b[0m     \u001b[38;5;28;01mreturn\u001b[39;00m \u001b[38;5;28minput\u001b[39m\n",
      "File \u001b[0;32m~/miniconda3/lib/python3.12/site-packages/torch/nn/modules/module.py:1739\u001b[0m, in \u001b[0;36mModule._wrapped_call_impl\u001b[0;34m(self, *args, **kwargs)\u001b[0m\n\u001b[1;32m   1737\u001b[0m     \u001b[38;5;28;01mreturn\u001b[39;00m \u001b[38;5;28mself\u001b[39m\u001b[38;5;241m.\u001b[39m_compiled_call_impl(\u001b[38;5;241m*\u001b[39margs, \u001b[38;5;241m*\u001b[39m\u001b[38;5;241m*\u001b[39mkwargs)  \u001b[38;5;66;03m# type: ignore[misc]\u001b[39;00m\n\u001b[1;32m   1738\u001b[0m \u001b[38;5;28;01melse\u001b[39;00m:\n\u001b[0;32m-> 1739\u001b[0m     \u001b[38;5;28;01mreturn\u001b[39;00m \u001b[38;5;28;43mself\u001b[39;49m\u001b[38;5;241;43m.\u001b[39;49m\u001b[43m_call_impl\u001b[49m\u001b[43m(\u001b[49m\u001b[38;5;241;43m*\u001b[39;49m\u001b[43margs\u001b[49m\u001b[43m,\u001b[49m\u001b[43m \u001b[49m\u001b[38;5;241;43m*\u001b[39;49m\u001b[38;5;241;43m*\u001b[39;49m\u001b[43mkwargs\u001b[49m\u001b[43m)\u001b[49m\n",
      "File \u001b[0;32m~/miniconda3/lib/python3.12/site-packages/torch/nn/modules/module.py:1750\u001b[0m, in \u001b[0;36mModule._call_impl\u001b[0;34m(self, *args, **kwargs)\u001b[0m\n\u001b[1;32m   1745\u001b[0m \u001b[38;5;66;03m# If we don't have any hooks, we want to skip the rest of the logic in\u001b[39;00m\n\u001b[1;32m   1746\u001b[0m \u001b[38;5;66;03m# this function, and just call forward.\u001b[39;00m\n\u001b[1;32m   1747\u001b[0m \u001b[38;5;28;01mif\u001b[39;00m \u001b[38;5;129;01mnot\u001b[39;00m (\u001b[38;5;28mself\u001b[39m\u001b[38;5;241m.\u001b[39m_backward_hooks \u001b[38;5;129;01mor\u001b[39;00m \u001b[38;5;28mself\u001b[39m\u001b[38;5;241m.\u001b[39m_backward_pre_hooks \u001b[38;5;129;01mor\u001b[39;00m \u001b[38;5;28mself\u001b[39m\u001b[38;5;241m.\u001b[39m_forward_hooks \u001b[38;5;129;01mor\u001b[39;00m \u001b[38;5;28mself\u001b[39m\u001b[38;5;241m.\u001b[39m_forward_pre_hooks\n\u001b[1;32m   1748\u001b[0m         \u001b[38;5;129;01mor\u001b[39;00m _global_backward_pre_hooks \u001b[38;5;129;01mor\u001b[39;00m _global_backward_hooks\n\u001b[1;32m   1749\u001b[0m         \u001b[38;5;129;01mor\u001b[39;00m _global_forward_hooks \u001b[38;5;129;01mor\u001b[39;00m _global_forward_pre_hooks):\n\u001b[0;32m-> 1750\u001b[0m     \u001b[38;5;28;01mreturn\u001b[39;00m \u001b[43mforward_call\u001b[49m\u001b[43m(\u001b[49m\u001b[38;5;241;43m*\u001b[39;49m\u001b[43margs\u001b[49m\u001b[43m,\u001b[49m\u001b[43m \u001b[49m\u001b[38;5;241;43m*\u001b[39;49m\u001b[38;5;241;43m*\u001b[39;49m\u001b[43mkwargs\u001b[49m\u001b[43m)\u001b[49m\n\u001b[1;32m   1752\u001b[0m result \u001b[38;5;241m=\u001b[39m \u001b[38;5;28;01mNone\u001b[39;00m\n\u001b[1;32m   1753\u001b[0m called_always_called_hooks \u001b[38;5;241m=\u001b[39m \u001b[38;5;28mset\u001b[39m()\n",
      "File \u001b[0;32m~/miniconda3/lib/python3.12/site-packages/torch/nn/modules/linear.py:125\u001b[0m, in \u001b[0;36mLinear.forward\u001b[0;34m(self, input)\u001b[0m\n\u001b[1;32m    124\u001b[0m \u001b[38;5;28;01mdef\u001b[39;00m \u001b[38;5;21mforward\u001b[39m(\u001b[38;5;28mself\u001b[39m, \u001b[38;5;28minput\u001b[39m: Tensor) \u001b[38;5;241m-\u001b[39m\u001b[38;5;241m>\u001b[39m Tensor:\n\u001b[0;32m--> 125\u001b[0m     \u001b[38;5;28;01mreturn\u001b[39;00m \u001b[43mF\u001b[49m\u001b[38;5;241;43m.\u001b[39;49m\u001b[43mlinear\u001b[49m\u001b[43m(\u001b[49m\u001b[38;5;28;43minput\u001b[39;49m\u001b[43m,\u001b[49m\u001b[43m \u001b[49m\u001b[38;5;28;43mself\u001b[39;49m\u001b[38;5;241;43m.\u001b[39;49m\u001b[43mweight\u001b[49m\u001b[43m,\u001b[49m\u001b[43m \u001b[49m\u001b[38;5;28;43mself\u001b[39;49m\u001b[38;5;241;43m.\u001b[39;49m\u001b[43mbias\u001b[49m\u001b[43m)\u001b[49m\n",
      "File \u001b[0;32m~/miniconda3/lib/python3.12/site-packages/torch/utils/_device.py:104\u001b[0m, in \u001b[0;36mDeviceContext.__torch_function__\u001b[0;34m(self, func, types, args, kwargs)\u001b[0m\n\u001b[1;32m    102\u001b[0m \u001b[38;5;28;01mif\u001b[39;00m func \u001b[38;5;129;01min\u001b[39;00m _device_constructors() \u001b[38;5;129;01mand\u001b[39;00m kwargs\u001b[38;5;241m.\u001b[39mget(\u001b[38;5;124m'\u001b[39m\u001b[38;5;124mdevice\u001b[39m\u001b[38;5;124m'\u001b[39m) \u001b[38;5;129;01mis\u001b[39;00m \u001b[38;5;28;01mNone\u001b[39;00m:\n\u001b[1;32m    103\u001b[0m     kwargs[\u001b[38;5;124m'\u001b[39m\u001b[38;5;124mdevice\u001b[39m\u001b[38;5;124m'\u001b[39m] \u001b[38;5;241m=\u001b[39m \u001b[38;5;28mself\u001b[39m\u001b[38;5;241m.\u001b[39mdevice\n\u001b[0;32m--> 104\u001b[0m \u001b[38;5;28;01mreturn\u001b[39;00m \u001b[43mfunc\u001b[49m\u001b[43m(\u001b[49m\u001b[38;5;241;43m*\u001b[39;49m\u001b[43margs\u001b[49m\u001b[43m,\u001b[49m\u001b[43m \u001b[49m\u001b[38;5;241;43m*\u001b[39;49m\u001b[38;5;241;43m*\u001b[39;49m\u001b[43mkwargs\u001b[49m\u001b[43m)\u001b[49m\n",
      "\u001b[0;31mKeyboardInterrupt\u001b[0m: "
     ]
    }
   ],
   "source": [
    "def shuffle_tensors(*tensors):\n",
    "    \"\"\" Shuffles multiple tensors in the same order \"\"\"\n",
    "    indices = torch.randperm(tensors[0].size(0),device=device)  # Generate random indices\n",
    "    return tuple(tensor[indices] for tensor in tensors)\n",
    "    \n",
    "losses = []\n",
    "data_losses, spsd_losses = [], []\n",
    "for epoch in range(epochs):\n",
    "    model.train()\n",
    "    avg = 0\n",
    "    avg_data, avg_spsd = 0, 0\n",
    "    \n",
    "    train_dist_tensor, train_force_tensor, train_velocity_tensor = shuffle_tensors(\n",
    "        train_dist_tensor, train_force_tensor, train_velocity_tensor\n",
    "    )\n",
    "    for it in range(n_iter):\n",
    "        optimizer.zero_grad()\n",
    "        \n",
    "        indices = torch.arange(it*batch_size, (it+1)*batch_size, dtype=torch.int).cuda()\n",
    "        \n",
    "        X = train_dist_tensor[indices]  \n",
    "        force = train_force_tensor[indices] \n",
    "        Y = train_velocity_tensor[indices]  \n",
    "    \n",
    "        batch_output, M = model.predict_velocity(X, force, return_M=True)\n",
    "\n",
    "        # Compute loss\n",
    "        data_loss = criterion(batch_output, Y)\n",
    "        spsd_loss = 0.0 * spsd_loss_func(M)\n",
    "        loss = data_loss + spsd_loss\n",
    "        \n",
    "        loss.backward()\n",
    "        avg += loss.item()\n",
    "        avg_data += data_loss.item()\n",
    "        avg_spsd += spsd_loss.item()\n",
    "        optimizer.step()\n",
    "        \n",
    "\n",
    "    scheduler.step()\n",
    "    if epoch%5==0:\n",
    "        print(f'Epoch {epoch}, Loss: {avg/n_iter}')\n",
    "        losses.append(avg/n_iter)\n",
    "        data_losses.append(avg_data/n_iter)\n",
    "        spsd_losses.append(avg_spsd/n_iter)\n",
    "\n",
    "torch.save(model.state_dict(), \"sphere_2body.wt\")"
   ]
  },
  {
   "cell_type": "code",
   "execution_count": null,
   "id": "0eb5dcd1-4bf6-432e-8dff-52837043b3f7",
   "metadata": {},
   "outputs": [],
   "source": [
    "import matplotlib.pyplot as plt\n",
    "los = losses[1:] # first one is usually too big, messes up the plot\n",
    "plt.plot(np.arange(len(los))*5+1, los);\n",
    "plt.ylabel(\"Loss\")\n",
    "plt.xlabel(\"Epochs\");\n",
    "plt.savefig(\"loss.png\");"
   ]
  },
  {
   "cell_type": "code",
   "execution_count": null,
   "id": "24240720-39b0-4360-bbbb-cc6c339968ac",
   "metadata": {},
   "outputs": [],
   "source": [
    "SKIP = 20\n",
    "los = data_losses[SKIP:] # first one is usually too big, messes up the plot\n",
    "plt.plot(np.arange(len(los))*5+1, los, label='data');\n",
    "\n",
    "los = spsd_losses[SKIP:] # first one is usually too big, messes up the plot\n",
    "plt.plot(np.arange(len(los))*5+1, los, label='spsd');\n",
    "\n",
    "plt.legend()\n",
    "plt.ylabel(\"Loss\")\n",
    "plt.xlabel(\"Epochs\");\n",
    "plt.savefig(\"loss.png\");"
   ]
  },
  {
   "cell_type": "code",
   "execution_count": null,
   "id": "ccef92ec-80ab-4f11-9923-a1d45df8448f",
   "metadata": {},
   "outputs": [],
   "source": [
    "data_losses[:5], data_losses[-5:], spsd_losses[:5], spsd_losses[-5:]"
   ]
  },
  {
   "cell_type": "markdown",
   "id": "27add100-c5c5-4cae-9e3a-b990d064f0f2",
   "metadata": {},
   "source": [
    "## Evaluation"
   ]
  },
  {
   "cell_type": "code",
   "execution_count": null,
   "id": "475b064e-fd6f-4703-b6b6-498fc2bfb597",
   "metadata": {},
   "outputs": [],
   "source": [
    "model = ScNetwork(input_dim).to(device)\n",
    "model.load_state_dict(torch.load(\"sphere_2body.wt\", weights_only=True))\n",
    "model.eval()\n",
    "\n",
    "eigens = []\n",
    "with torch.no_grad():\n",
    "    val_output, M = model.predict_velocity(val_dist_tensor, val_force_tensor, return_M=True)"
   ]
  },
  {
   "cell_type": "code",
   "execution_count": null,
   "id": "5f9a5897-58bc-480e-827d-a840cdb0eb91",
   "metadata": {},
   "outputs": [],
   "source": [
    "M[0]"
   ]
  },
  {
   "cell_type": "code",
   "execution_count": null,
   "id": "c41d58a3-acaa-456a-9556-95eba2c4b4eb",
   "metadata": {},
   "outputs": [],
   "source": [
    "print(len(eigens))\n",
    "if eigens:\n",
    "    eigens = np.array(eigens)\n",
    "    plt.hist(eigens[:,0], bins=40);"
   ]
  },
  {
   "cell_type": "code",
   "execution_count": null,
   "id": "a1e83fff-c71b-40da-923c-3f86f0c9b75f",
   "metadata": {},
   "outputs": [],
   "source": [
    "torch.set_printoptions(sci_mode=False, precision=6)\n",
    "jj = 199\n",
    "val_output[jj], val_velocity_tensor[jj]"
   ]
  },
  {
   "cell_type": "code",
   "execution_count": null,
   "id": "a4387198-f1e4-441b-a0d6-39ea60d5189b",
   "metadata": {},
   "outputs": [],
   "source": [
    "criterion = nn.L1Loss(reduction='none') \n",
    "err = criterion(val_output, val_velocity_tensor)\n",
    "\n",
    "rmse = err.mean(axis=0)\n",
    "\n",
    "print(\"Root Mean Squared error for each of 6 output variables:\\n\", rmse)\n",
    "print(\"Actual Magnitude:\\n \", torch.abs(val_velocity_tensor).mean(axis=0))\n",
    "print(\"RMSE:\", err.mean())"
   ]
  },
  {
   "cell_type": "code",
   "execution_count": null,
   "id": "5bfaf267-c823-46fd-a6f4-733f03683bf1",
   "metadata": {},
   "outputs": [],
   "source": [
    "#### Median Relative Absolute Error\n",
    "def mean_abs_err(val_output, val_velocity_tensor, npp=False):\n",
    "    # 6D vector: median % error for each vel component\n",
    "    valid_mask = torch.abs(val_velocity_tensor) > 1e-6\n",
    "    \n",
    "    filtered_y_tensor = torch.where(valid_mask, val_velocity_tensor, torch.tensor(float('nan')))\n",
    "    relative_error = torch.abs((val_output - filtered_y_tensor) / filtered_y_tensor)\n",
    "    \n",
    "    a = torch.nanmean(relative_error, dim=0)\n",
    "    return a*100\n",
    "\n",
    "mean_abs_err(val_output, val_velocity_tensor)"
   ]
  },
  {
   "cell_type": "code",
   "execution_count": null,
   "id": "0057f3d9-16c3-4657-9848-0cec8ac7bde4",
   "metadata": {},
   "outputs": [],
   "source": [
    "100*rmse/torch.abs(val_velocity_tensor).mean(axis=0)"
   ]
  },
  {
   "cell_type": "code",
   "execution_count": null,
   "id": "724b1196-5e67-402a-81e9-dcb94b38c891",
   "metadata": {},
   "outputs": [],
   "source": [
    "idx = val_dist_tensor[:,3]<4.0\n",
    "mean_abs_err(val_output[idx], val_velocity_tensor[idx])"
   ]
  },
  {
   "cell_type": "code",
   "execution_count": null,
   "id": "eef5fbfb-a9ba-4c6c-95d5-97ac967e9b02",
   "metadata": {},
   "outputs": [],
   "source": [
    "idx = val_dist_tensor[:,3]<2.6\n",
    "mean_abs_err(val_output[idx], val_velocity_tensor[idx])"
   ]
  },
  {
   "cell_type": "code",
   "execution_count": null,
   "id": "7b052a36-7bf5-472a-a705-e24bae8a1beb",
   "metadata": {},
   "outputs": [],
   "source": []
  },
  {
   "cell_type": "markdown",
   "id": "86dd9374-b0f7-4bb1-b523-b547eb508400",
   "metadata": {},
   "source": [
    "## Nearfield"
   ]
  },
  {
   "cell_type": "code",
   "execution_count": null,
   "id": "42f5c308-11a9-4317-a6cb-10d63b5f3c14",
   "metadata": {},
   "outputs": [],
   "source": [
    "err = torch.abs(val_output-val_velocity_tensor).mean(axis=1)\n",
    "\n",
    "tdf = pd.DataFrame({\n",
    "    'dist': val_dist_tensor[:,3].cpu().numpy(),\n",
    "    'err': err.detach().cpu().numpy()\n",
    "})\n",
    "sns.set_style(\"whitegrid\")\n",
    "ax = sns.regplot(x='dist', y='err', data=tdf, scatter_kws={'color':'blue', 'alpha':0.15}, \n",
    "             line_kws={'color':'red'}, order=2);\n",
    "ax = sns.scatterplot(x='dist', y='err', data=tdf)"
   ]
  },
  {
   "cell_type": "code",
   "execution_count": null,
   "id": "ff138401-fa82-4486-b566-fd70a78d68cf",
   "metadata": {},
   "outputs": [],
   "source": [
    "len(tdf)"
   ]
  },
  {
   "cell_type": "markdown",
   "id": "554ead5f-7dde-4db3-8820-9e17ac153cd7",
   "metadata": {},
   "source": [
    "## RPY"
   ]
  },
  {
   "cell_type": "code",
   "execution_count": null,
   "id": "755a75fc-e05c-4efa-b2a4-b5e1c847815a",
   "metadata": {},
   "outputs": [],
   "source": [
    "viscosity = 1.0\n",
    "\n",
    "\n",
    "import sys\n",
    "sys.path.insert(0, '/home/shihab/hignn')\n",
    "from grpy_tensors import mu  #using non-torch original version\n",
    "\n",
    "def compute_rpy_mobility(c2, return_k=False):\n",
    "    global viscosity\n",
    "    c = np.array([[0.0, 0.0, 0.0], list(c2)])\n",
    "    radii = np.array([1.0, 1.0])  # Example radii of the particles\n",
    "    \n",
    "    M = mu(c, radii,blockmatrix=True)/viscosity\n",
    "    res = M[:,:,0,1,:,:] #M_ji, not M_ij. (RT,TR components vary)\n",
    "    K = np.zeros((6,6))\n",
    "    K[:3,:3] = res[0,0]\n",
    "    K[:3,3:] = res[0,1]\n",
    "    K[3:,:3] = res[1,0]\n",
    "    K[3:,3:] = res[1,1]\n",
    "\n",
    "    #K = M\n",
    "    return K\n",
    "\n",
    "len_val = len(val_dist_tensor)\n",
    "val_dist_arr = val_dist_tensor.cpu().numpy()\n",
    "val_force_arr = val_force_tensor.cpu().numpy()\n",
    "val_velocity_arr = val_velocity_tensor.cpu().numpy()\n",
    "rpy_vels = np.zeros((len_val,6))\n",
    "for i in range(len_val):\n",
    "    x,f = val_dist_arr[i], val_force_arr[i]\n",
    "    #f = np.concatenate((np.zeros_like(f), f))\n",
    "    yp = compute_rpy_mobility(x[:3]) @ f\n",
    "    rpy_vels[i] = yp[:6]\n",
    "\n",
    "rpy_vels_tensor = torch.Tensor(rpy_vels).cuda()\n",
    "mean_abs_err(rpy_vels_tensor, val_velocity_tensor)"
   ]
  },
  {
   "cell_type": "code",
   "execution_count": null,
   "id": "a3642986-dec8-4632-82ad-c58537346d40",
   "metadata": {},
   "outputs": [],
   "source": [
    "mean_abs_err(val_output, val_velocity_tensor)"
   ]
  },
  {
   "cell_type": "code",
   "execution_count": null,
   "id": "20dc34d3-b224-4de5-8e8c-448eb0f86691",
   "metadata": {},
   "outputs": [],
   "source": [
    "ii = 16\n",
    "rpy_vels_tensor[ii], val_velocity_tensor[ii], val_output[ii], val_dist_arr[ii, 3]"
   ]
  },
  {
   "cell_type": "code",
   "execution_count": null,
   "id": "1fc3692a-d1c6-48d8-8353-a46dfbeea7f8",
   "metadata": {},
   "outputs": [],
   "source": [
    "len(val_output)"
   ]
  },
  {
   "cell_type": "code",
   "execution_count": null,
   "id": "e3e2b380-bfc3-4363-a354-5d76cda45a31",
   "metadata": {},
   "outputs": [],
   "source": [
    "rpy_err = torch.abs(rpy_vels_tensor-val_velocity_tensor).mean(axis=1)\n",
    "\n",
    "tdf['rpy_err'] = rpy_err.detach().cpu().numpy()"
   ]
  },
  {
   "cell_type": "code",
   "execution_count": null,
   "id": "355ba34a-cce1-4c70-9a86-f89c804f54c2",
   "metadata": {},
   "outputs": [],
   "source": []
  },
  {
   "cell_type": "code",
   "execution_count": null,
   "id": "7fa81407-a70c-43ed-b8d4-0b31925e4d73",
   "metadata": {},
   "outputs": [],
   "source": [
    "def show_err_plot(tdf, rpy_plot=True):\n",
    "    sns.set_style(\"whitegrid\")\n",
    "    plt.rcParams.update({'font.size': 16})  # Adjust the font size as needed\n",
    "\n",
    "    # Create a figure and a single axes object\n",
    "    fig, ax = plt.subplots(figsize=(10, 6))\n",
    "\n",
    "    # Scatter plot for NN-based tensor error\n",
    "    sns.scatterplot(x='dist', y='err', data=tdf, ax=ax,\n",
    "                    color='blue', alpha=0.15, label='NN-based Tensor')\n",
    "\n",
    "    # Scatter plot for RPY tensor error\n",
    "    if rpy_plot:\n",
    "        sns.scatterplot(x='dist', y='rpy_err', data=tdf, ax=ax,\n",
    "                        color='orange', alpha=0.15, label='RPY Tensor')\n",
    "\n",
    "    # Set axis labels\n",
    "    ax.set_xlabel(\"Pair Particle Distance\")\n",
    "    ax.set_ylabel(\"Error\")\n",
    "\n",
    "    # Create legend\n",
    "    ax.legend(title='Legend')\n",
    "\n",
    "    # Save and show the plot\n",
    "    plt.savefig(\"rpy_vs_nn.png\")\n",
    "    plt.show()\n",
    "\n",
    "show_err_plot(tdf, True)"
   ]
  },
  {
   "cell_type": "code",
   "execution_count": null,
   "id": "63a321c3-e40c-4a47-8247-0870a806211f",
   "metadata": {},
   "outputs": [],
   "source": [
    "Lim = 4.0\n",
    "show_err_plot(tdf[tdf['dist']<Lim])"
   ]
  },
  {
   "cell_type": "code",
   "execution_count": null,
   "id": "36aed6b4-bb35-481a-a355-c5f9619c7329",
   "metadata": {},
   "outputs": [],
   "source": [
    "idx = (tdf['dist']>=3.0) & (tdf['dist']<6.0)\n",
    "show_err_plot(tdf[idx])"
   ]
  },
  {
   "cell_type": "code",
   "execution_count": null,
   "id": "d654faa2-f897-46c2-a459-14e509a1c315",
   "metadata": {},
   "outputs": [],
   "source": [
    "idx = (tdf['dist']>=4.0) & (tdf['dist']<6.0)\n",
    "show_err_plot(tdf[idx])"
   ]
  },
  {
   "cell_type": "code",
   "execution_count": null,
   "id": "ab9375fd-938a-4b15-b3a1-62d1fcf6b2e8",
   "metadata": {},
   "outputs": [],
   "source": [
    "idx = (tdf['dist']>=6.0) & (tdf['dist']<8.0)\n",
    "show_err_plot(tdf[idx])"
   ]
  },
  {
   "cell_type": "code",
   "execution_count": null,
   "id": "bce432d9-28ef-4de2-bb94-059423bce0be",
   "metadata": {},
   "outputs": [],
   "source": [
    "cols = [\"vel_x\", \"vel_y\", \"vel_z\",\n",
    "    \"angvel_x\", \"angvel_y\", \"angvel_z\"]\n",
    "xdf = df[df['dist']>6.0]\n",
    "np.abs(xdf[cols]).mean()"
   ]
  },
  {
   "cell_type": "code",
   "execution_count": null,
   "id": "462d60e2-f37c-48ff-b550-95e124399363",
   "metadata": {},
   "outputs": [],
   "source": [
    "xdf = df[df['dist']<8.0]\n",
    "np.abs(xdf[cols]).mean()"
   ]
  },
  {
   "cell_type": "code",
   "execution_count": null,
   "id": "6644e6de-e91a-45e6-baa2-6df514e4bdb0",
   "metadata": {},
   "outputs": [],
   "source": [
    "t = .416\n",
    "p = .432\n",
    "\n",
    "abs(t-p)/t*100"
   ]
  },
  {
   "cell_type": "code",
   "execution_count": null,
   "id": "5e4ab274-0958-452d-a8d7-203bea8e8d3b",
   "metadata": {},
   "outputs": [],
   "source": [
    "t = .07824\n",
    "p = .0897\n",
    "\n",
    "abs(t-p)/t*100"
   ]
  },
  {
   "cell_type": "code",
   "execution_count": null,
   "id": "699991b8-ff10-4486-897a-239ddbfbfb75",
   "metadata": {},
   "outputs": [],
   "source": [
    "t = 0.31859\n",
    "p = 0.330\n",
    "\n",
    "abs(t-p)/t*100"
   ]
  },
  {
   "cell_type": "code",
   "execution_count": null,
   "id": "f1a252ab-0992-418f-8412-37b19368e6ab",
   "metadata": {},
   "outputs": [],
   "source": [
    "t = 0.06925\n",
    "p = 0.07312\n",
    "\n",
    "abs(t-p)/t*100"
   ]
  },
  {
   "cell_type": "code",
   "execution_count": null,
   "id": "800a4350-ef02-4eb0-af29-237fff334d7b",
   "metadata": {},
   "outputs": [],
   "source": []
  },
  {
   "cell_type": "code",
   "execution_count": null,
   "id": "2c5982a9-db8a-4c44-af1f-ba723a453f30",
   "metadata": {},
   "outputs": [],
   "source": [
    "\n",
    "\n",
    "\n",
    "\n",
    "\n",
    "\n",
    "\n",
    "\n",
    "\n",
    "\n",
    "\n",
    "\n"
   ]
  }
 ],
 "metadata": {
  "kernelspec": {
   "display_name": "Python 3 (ipykernel)",
   "language": "python",
   "name": "python3"
  },
  "language_info": {
   "codemirror_mode": {
    "name": "ipython",
    "version": 3
   },
   "file_extension": ".py",
   "mimetype": "text/x-python",
   "name": "python",
   "nbconvert_exporter": "python",
   "pygments_lexer": "ipython3",
   "version": "3.12.2"
  }
 },
 "nbformat": 4,
 "nbformat_minor": 5
}
