{
 "cells": [
  {
   "cell_type": "code",
   "execution_count": 1,
   "id": "7e95cd7f-d027-43eb-b0c5-763f00c9fa70",
   "metadata": {},
   "outputs": [],
   "source": [
    "import numpy as np\n",
    "import os\n",
    "import seaborn as sns\n",
    "import matplotlib.pyplot as plt\n",
    "import pandas as pd\n",
    "from scipy.spatial.transform import Rotation\n",
    "from sklearn.preprocessing import *\n",
    "import torch\n",
    "import torch.nn as nn\n",
    "import torch.nn.functional as F\n",
    "\n",
    "import sys\n",
    "\n",
    "sys.path.append(\"/home/shihab/repo/src\")\n",
    "from analysis_utils import convert_to_tensors, shuffle_and_split\n",
    "\n",
    "torch.manual_seed(411)\n",
    "np.random.seed(41)\n",
    "\n",
    "device = torch.device(\"cuda\" if torch.cuda.is_available() else \"cpu\")\n",
    "torch.set_default_device(device)"
   ]
  },
  {
   "cell_type": "markdown",
   "id": "d0478011-d6dc-4111-a67d-eac15490dc3d",
   "metadata": {},
   "source": [
    "## 3body\n",
    "\n",
    "Oct 02\n"
   ]
  },
  {
   "cell_type": "code",
   "execution_count": null,
   "id": "ab6b1887-7cda-4aad-a199-db5bd1270813",
   "metadata": {},
   "outputs": [],
   "source": []
  },
  {
   "cell_type": "code",
   "execution_count": 2,
   "id": "54b038a7-76a3-4977-91e6-83c12ba1fc63",
   "metadata": {},
   "outputs": [
    {
     "name": "stdout",
     "output_type": "stream",
     "text": [
      "(40000, 22)\n"
     ]
    },
    {
     "data": {
      "text/plain": [
       "((40000, 22),\n",
       " Index(['x_s', 'y_s', 'z_s', 'dist_s', 'min_dist_s', 'f_x_s', 'f_y_s', 'f_z_s',\n",
       "        'tor_x_s', 'tor_y_s', 'tor_z_s', 'x_k', 'y_k', 'z_k', 'dist_k',\n",
       "        'min_dist_k', 'vel_x', 'vel_y', 'vel_z', 'angvel_x', 'angvel_y',\n",
       "        'angvel_z'],\n",
       "       dtype='object'))"
      ]
     },
     "execution_count": 2,
     "metadata": {},
     "output_type": "execute_result"
    }
   ],
   "source": [
    "root = \"../data/3b_cross\"\n",
    "times = os.listdir(root)\n",
    "xs, ys = [], []\n",
    "for f in times:  #This is buggy, I am loading data twice right?\n",
    "    file = f[1:]\n",
    "    x = np.load(f\"{root}/X{file}\")\n",
    "    y = np.load(f\"{root}/Y{file}\")\n",
    "    xs.append(x)\n",
    "    ys.append(y)\n",
    "\n",
    "X = np.concatenate(xs, axis=0)\n",
    "Y = np.concatenate(ys, axis=0)\n",
    "\n",
    "XY = np.hstack([X, Y])          # shape: (total_rows, 16)\n",
    "print(XY.shape)\n",
    "\n",
    "column_names = [\n",
    "    # X columns \n",
    "    \"x_s\", \"y_s\", \"z_s\", \"dist_s\", \"min_dist_s\",\n",
    "    \"f_x_s\", \"f_y_s\", \"f_z_s\",\n",
    "    \"tor_x_s\", \"tor_y_s\", \"tor_z_s\",\n",
    "    \n",
    "    \"x_k\", \"y_k\", \"z_k\", \"dist_k\", \"min_dist_k\",\n",
    "    # Y columns\n",
    "    \"vel_x\", \"vel_y\", \"vel_z\",\n",
    "    \"angvel_x\", \"angvel_y\", \"angvel_z\"\n",
    "]\n",
    "\n",
    "df = pd.DataFrame(XY, columns=column_names)\n",
    "df.shape, df.columns"
   ]
  },
  {
   "cell_type": "code",
   "execution_count": 3,
   "id": "4a2823a9-0709-4a65-88bf-0716c0bf6416",
   "metadata": {},
   "outputs": [
    {
     "data": {
      "image/png": "[encoded data removed]",
      "text/plain": [
       "<Figure size 640x480 with 1 Axes>"
      ]
     },
     "metadata": {},
     "output_type": "display_data"
    }
   ],
   "source": [
    "sns.histplot(df[\"dist_s\"], bins=40);"
   ]
  },
  {
   "cell_type": "code",
   "execution_count": 4,
   "id": "1ab1b490-ee3f-4b78-8c93-4de2d9e43277",
   "metadata": {},
   "outputs": [
    {
     "name": "stdout",
     "output_type": "stream",
     "text": [
      "Distance means: 4.724224262198524 4.701194833185605 6.676046130020521\n"
     ]
    },
    {
     "data": {
      "text/plain": [
       "((40000, 29),\n",
       " Index(['x_s', 'y_s', 'z_s', 'dist_s', 'min_dist_s', 'f_x_s', 'f_y_s', 'f_z_s',\n",
       "        'tor_x_s', 'tor_y_s', 'tor_z_s', 'x_k', 'y_k', 'z_k', 'dist_k',\n",
       "        'min_dist_k', 'vel_x', 'vel_y', 'vel_z', 'angvel_x', 'angvel_y',\n",
       "        'angvel_z', 'dist_sk', 'dist_s_sq', 'dist_k_sq', 'dist_sk_sq',\n",
       "        'dist_s_sqsq', 'dist_k_sqsq', 'dist_sk_sqsq'],\n",
       "       dtype='object'))"
      ]
     },
     "execution_count": 4,
     "metadata": {},
     "output_type": "execute_result"
    }
   ],
   "source": [
    "df['dist_sk'] = np.sqrt(\n",
    "    (df['x_s'] - df['x_k'])**2 +\n",
    "    (df['y_s'] - df['y_k'])**2 +\n",
    "    (df['z_s'] - df['z_k'])**2\n",
    ")\n",
    "\n",
    "# center all distance columns\n",
    "mean_dist_s = df['dist_s'].mean()\n",
    "mean_dist_k = df['dist_k'].mean()\n",
    "mean_dist_sk = df['dist_sk'].mean()\n",
    "print(\"Distance means:\", mean_dist_s, mean_dist_k, mean_dist_sk)\n",
    "\n",
    "df['dist_s'] -= mean_dist_s\n",
    "df['dist_k'] -= mean_dist_k\n",
    "df['dist_sk'] -= mean_dist_sk\n",
    "\n",
    "df['dist_s_sq'] = df['dist_s']**2\n",
    "df['dist_k_sq'] = df['dist_k']**2\n",
    "df['dist_sk_sq'] = df['dist_sk']**2\n",
    "\n",
    "df['dist_s_sqsq'] = df['dist_s_sq']**2\n",
    "df['dist_k_sqsq'] = df['dist_k_sq']**2\n",
    "df['dist_sk_sqsq'] = df['dist_sk_sq']**2\n",
    "\n",
    "# Convert all actual position columns to relative positions\n",
    "origin = np.array([0.0, 0.0, 0.0]) #target is at origin\n",
    "\n",
    "# dvec = target-source\n",
    "df['x_s'] = origin[0] - df['x_s']\n",
    "df['y_s'] = origin[1] - df['y_s']\n",
    "df['z_s'] = origin[2] - df['z_s']\n",
    "df['x_k'] = origin[0] - df['x_k']\n",
    "df['y_k'] = origin[1] - df['y_k']\n",
    "df['z_k'] = origin[2] - df['z_k']\n",
    "\n",
    "df.shape, df.columns"
   ]
  },
  {
   "cell_type": "code",
   "execution_count": 5,
   "id": "52606216-110e-4194-8da0-a3b16aaca71d",
   "metadata": {},
   "outputs": [],
   "source": [
    "def prepare_vectors(df):\n",
    "    force_cols = [\n",
    "        'f_x_s', 'f_y_s', 'f_z_s', 'tor_x_s', 'tor_y_s', 'tor_z_s'    ]\n",
    "    output_cols = [\n",
    "        'vel_x', 'vel_y', 'vel_z',\n",
    "        'angvel_x', 'angvel_y', 'angvel_z'\n",
    "    ]\n",
    "    dvec_s = ['x_s', 'y_s', 'z_s']\n",
    "    feat_2b_s = ['dist_s', 'dist_s_sq', 'dist_s_sqsq', 'min_dist_s']\n",
    "    dvec_k = ['x_k', 'y_k', 'z_k']\n",
    "    feat_2b_k = ['dist_k', 'dist_k_sq', 'dist_k_sqsq', 'min_dist_k']\n",
    "    sk_feats = ['dist_sk', 'dist_sk_sq', 'dist_sk_sqsq']\n",
    "\n",
    "    feature_cols = dvec_s + dvec_k + feat_2b_s + feat_2b_k + sk_feats\n",
    "    print(\"Using features:\", feature_cols)\n",
    "    \n",
    "    dist_vec   = df[feature_cols].values\n",
    "    force_vec  = df[force_cols].values\n",
    "    output_vec = df[output_cols].values\n",
    "    return dist_vec, force_vec, output_vec"
   ]
  },
  {
   "cell_type": "code",
   "execution_count": 6,
   "id": "e707fdd1-3d84-4da3-ba05-dcd32528599d",
   "metadata": {},
   "outputs": [
    {
     "name": "stdout",
     "output_type": "stream",
     "text": [
      "Using features: ['x_s', 'y_s', 'z_s', 'x_k', 'y_k', 'z_k', 'dist_s', 'dist_s_sq', 'dist_s_sqsq', 'min_dist_s', 'dist_k', 'dist_k_sq', 'dist_k_sqsq', 'min_dist_k', 'dist_sk', 'dist_sk_sq', 'dist_sk_sqsq']\n"
     ]
    },
    {
     "data": {
      "text/plain": [
       "(torch.Size([32000, 17]), torch.Size([32000, 6]), torch.Size([8000, 17]))"
      ]
     },
     "execution_count": 6,
     "metadata": {},
     "output_type": "execute_result"
    }
   ],
   "source": [
    "feat, force, vel = prepare_vectors(df)\n",
    "feat, force, vel = convert_to_tensors(feat, force, vel)\n",
    "\n",
    "\n",
    "tmp = list(shuffle_and_split(df, feat, force, vel, split_frac=.8))\n",
    "indices = tmp.pop()\n",
    "\n",
    "for i in range(len(tmp)):\n",
    "    tmp[i] = tmp[i].to(device)\n",
    "\n",
    "(train_dist_tensor, val_dist_tensor, \n",
    "    train_force_tensor, val_force_tensor, \n",
    "    train_velocity_tensor, val_velocity_tensor) = tmp\n",
    "\n",
    "train_dist_tensor.shape, train_force_tensor.shape, val_dist_tensor.shape"
   ]
  },
  {
   "cell_type": "code",
   "execution_count": 7,
   "id": "8830fdb2-94d5-4cac-ac69-8e052510089f",
   "metadata": {},
   "outputs": [
    {
     "data": {
      "text/plain": [
       "tensor(6324.0659, device='cuda:0')"
      ]
     },
     "execution_count": 7,
     "metadata": {},
     "output_type": "execute_result"
    }
   ],
   "source": [
    "train_dist_tensor[:,-1].max()"
   ]
  },
  {
   "cell_type": "code",
   "execution_count": null,
   "id": "a5fba1a1-e763-4be5-854b-06c3db34b972",
   "metadata": {},
   "outputs": [],
   "source": []
  },
  {
   "cell_type": "code",
   "execution_count": 8,
   "id": "1c592054-d13b-41cc-a68f-0f1ce26b54e9",
   "metadata": {},
   "outputs": [],
   "source": [
    "viscosity = 1.0\n",
    "eigens = None\n",
    "\n",
    "def outer(u):                        \n",
    "    return torch.einsum('bi,bj->bij', u, u)\n",
    "\n",
    "def sym(u, v):                        \n",
    "    return 0.5*(torch.einsum('bi,bj->bij', u, v) +\n",
    "                torch.einsum('bi,bj->bij', v, u))\n",
    "\n",
    "def cross_mat(u):                     # [u]×\n",
    "    levi = torch.tensor([[[0,0,0],[0,0,1],[0,-1,0]],\n",
    "                         [[0,0,-1],[0,0,0],[1,0,0]],\n",
    "                         [[0,1,0],[-1,0,0],[0,0,0]]],\n",
    "                        dtype=u.dtype, device=u.device)\n",
    "    return torch.einsum('ijk,bk->bij', levi, u)\n",
    "\n",
    "def triplet_basis(r12, r13):          # r12 = x2–x1 , r13 = x3–x1\n",
    "    e = r12 / r12.norm(p=2, dim=1, keepdim=True)\n",
    "    f = r13 / r13.norm(p=2, dim=1, keepdim=True)\n",
    "    I  = torch.eye(3, device=e.device).expand(len(e),3,3)\n",
    "    B  = {                          # six independent pieces\n",
    "        'I' : I,        'ee': outer(e),\n",
    "        'ff': outer(f), 'ef': sym(e,f),\n",
    "        'Xe': cross_mat(e), 'Xf': cross_mat(f)\n",
    "    }\n",
    "    return B\n",
    "\n",
    "def triplet_block(r12, r13, coeff):\n",
    "    B = triplet_basis(r12, r13)\n",
    "\n",
    "    TT = (coeff[:,0,None,None]*B['I']  + coeff[:,1,None,None]*B['ee']\n",
    "        + coeff[:,2,None,None]*B['ff'] + coeff[:,3,None,None]*B['ef'])\n",
    "    RT = (coeff[:,4,None,None]*B['Xe'] + coeff[:,5,None,None]*B['Xf'])\n",
    "    RR = (coeff[:,6,None,None]*B['I']  + coeff[:,7,None,None]*B['ee']\n",
    "        + coeff[:,8,None,None]*B['ff'] + coeff[:,9,None,None]*B['ef'])\n",
    "\n",
    "    K   = torch.zeros(len(r12),6,6, device=r12.device)\n",
    "    K[:,:3,:3] = TT           # TT block\n",
    "    K[:,3:,:3] = RT           # RT block\n",
    "    K[:,:3,3:] = RT           # TR ≡ RT for identical spheres\n",
    "    K[:,3:,3:] = RR           # RR block\n",
    "    return K                 # shape [batch,6,6]\n",
    "\n",
    "\n",
    "def velocity_triplet(r12, r13, coeff, force_s):\n",
    "    K   = triplet_block(r12, r13, coeff)      # [B,6,6]\n",
    "    v  = torch.einsum('bij,bj->bi', K, force_s)   # [B,6]\n",
    "\n",
    "    return v\n",
    "\n",
    "class ThreeBodyNet(nn.Module):\n",
    "    \"\"\"\n",
    "    Predicts the 10 scalar functions (4 TT + 2 RT + 4 RR) that\n",
    "    feed triplet_block / velocity_triplet.\n",
    "    \"\"\"\n",
    "    def __init__(self, input_dim, two_nn_path, median_2b, mean_dist_s):\n",
    "        super().__init__()\n",
    "        self.net = nn.Sequential(\n",
    "            nn.Linear(input_dim, 64),\n",
    "            nn.SiLU(),\n",
    "            nn.Linear(64, 128),\n",
    "            nn.SiLU(),\n",
    "            nn.Linear(128, 64),\n",
    "            nn.SiLU(),\n",
    "            nn.Linear(64, 128),\n",
    "            nn.SiLU(),\n",
    "            nn.Linear(128, 10)\n",
    "        )\n",
    "        self.two_nn = torch.jit.load(two_nn_path, map_location=device).eval()\n",
    "        self.median_2b = median_2b\n",
    "        self.mean_dist_s = mean_dist_s\n",
    "\n",
    "    def forward(self, X):\n",
    "        return self.net(X)           # shape [B,10]\n",
    "\n",
    "    @torch.jit.export\n",
    "    def predict_velocity(self, X, force_s):\n",
    "        \"\"\"\n",
    "        Using features: ['x_s', 'y_s', 'z_s', 'x_k', 'y_k', 'z_k', \n",
    "        'dist_s', 'dist_s_sq', 'dist_s_sqsq', 'min_dist_s', \n",
    "        'dist_k', 'dist_k_sq', 'dist_k_sqsq', 'min_dist_k',\n",
    "        'dist_sk', 'dist_sk_sq', 'dist_sk_sqsq']\n",
    "        \"\"\"\n",
    "        coeff = self.forward(X[:,6:])               # [B,10]\n",
    "\n",
    "        r12 = X[:, 0:3]                             # c2_x,y,z\n",
    "        r13 = X[:, 3:6]                             # c3_x,y,z\n",
    "\n",
    "        vel = velocity_triplet(r12, r13, coeff, force_s)\n",
    "        return vel\n",
    "\n",
    "    def predict_velocity_total(self, X3b, force_s, mu=1.0):\n",
    "        return self.predict_two_body_from_triplet(X3b, force_s, mu) + \\\n",
    "               self.predict_velocity(X3b, force_s)\n",
    "    \n",
    "    def predict_two_body_from_triplet(self, X3b, force_s, mu=1.0):\n",
    "        \"\"\"\n",
    "        X3b: [B, 17] triplet features in notebook order\n",
    "        force_s: [B, 6] source force/torque in the lab frame (only s is nonzero)\n",
    "        Returns: [B, 6] predicted two-body velocity on t due to s only\n",
    "        \"\"\"\n",
    "        # Extract dvec_s = (x_s, y_s, z_s) which is target - source (already in lab frame)\n",
    "        dvec_s = X3b[:, 0:3]                         # [B,3]\n",
    "\n",
    "        # Recover raw dist_s: centered + mean\n",
    "        dist_s_centered = X3b[:, 6]                  # [B]\n",
    "        dist_s_raw = dist_s_centered + self.mean_dist_s\n",
    "\n",
    "        # Build 2-body inputs\n",
    "        min_dist_raw = dist_s_raw - 2.0              # [B]\n",
    "        r2 = (dist_s_raw - self.median_2b)**2\n",
    "        r4 = r2 * r2\n",
    "\n",
    "        X2b = torch.cat(\n",
    "            [dvec_s,\n",
    "             dist_s_raw.unsqueeze(1),\n",
    "             r2.unsqueeze(1),\n",
    "             r4.unsqueeze(1),\n",
    "             min_dist_raw.unsqueeze(1)],\n",
    "            dim=1\n",
    "        ).to(device)                                    # [B, 7] (sphere case)\n",
    "\n",
    "        # Forces: only source on (s) is nonzero; target (t) = zeros\n",
    "        Fs_target = torch.zeros_like(force_s, device=device)  # [B,6]\n",
    "        Ft_source = force_s.to(device)                        # [B,6]\n",
    "\n",
    "        mu_tensor = torch.tensor(float(mu), dtype=torch.float32, device=device)\n",
    "        v2b = self.two_nn.predict_velocity(X2b, Fs_target, Ft_source, mu_tensor)  # [B,6]\n",
    "        return v2b\n",
    "\n",
    "    def make_residual_labels(self, X3b, force_s, y_total_3b, mu=1.0):\n",
    "        \"\"\"\n",
    "        y_total_3b: [B,6] ground truth velocity on t from 3-body solve (s active, k passive)\n",
    "        Returns residual labels: y_res = y_total_3b - v2b_pred\n",
    "        \"\"\"\n",
    "        v2b = self.predict_two_body_from_triplet(X3b, force_s, mu)\n",
    "        return y_total_3b.to(device) - v2b"
   ]
  },
  {
   "cell_type": "code",
   "execution_count": 9,
   "id": "e51e9214-4e62-466a-808c-4fb1a71089fd",
   "metadata": {},
   "outputs": [],
   "source": [
    "# viscosity = 1.0\n",
    "# eigens = None\n",
    "\n",
    "# class ThreeBodyNet(nn.Module):\n",
    "#     def __init__(self, input_dim, two_nn_path, median_2b, mean_dist_s):\n",
    "#         super().__init__()\n",
    "#         self.net = nn.Sequential(\n",
    "#             nn.Linear(input_dim, 64),\n",
    "#             nn.Tanh(),\n",
    "#             nn.Linear(64, 128),\n",
    "#             nn.Tanh(),\n",
    "#             nn.Linear(128, 256),\n",
    "#             nn.Tanh(),\n",
    "#             nn.Linear(256, 128),\n",
    "#             nn.Tanh(),\n",
    "#             nn.Linear(128, 36)\n",
    "#         )\n",
    "#         self.two_nn = torch.jit.load(two_nn_path, map_location=device).eval()\n",
    "#         self.median_2b = median_2b\n",
    "#         self.mean_dist_s = mean_dist_s\n",
    "        \n",
    "#     def forward(self, X):\n",
    "#         return self.net(X)           # shape [B,10]\n",
    "\n",
    "#     @torch.jit.export\n",
    "#     def predict_velocity(self, X, force_s):\n",
    "#         coeff = self.forward(X)                     # [B,10]\n",
    "\n",
    "#         M_3b = torch.reshape(coeff, (-1, 6, 6))\n",
    "#         v = torch.bmm(M_3b, force_s.unsqueeze(-1)).squeeze(-1)\n",
    "#         return v\n",
    "\n",
    "#     def predict_velocity_total(self, X3b, force_s, mu=1.0):\n",
    "#         return self.predict_two_body_from_triplet(X3b, force_s, mu) + \\\n",
    "#                self.predict_velocity(X3b, force_s)\n",
    "        \n",
    "\n",
    "#     def predict_two_body_from_triplet(self, X3b, force_s, mu=1.0):\n",
    "#         \"\"\"\n",
    "#         X3b: [B, 17] triplet features in notebook order\n",
    "#         force_s: [B, 6] source force/torque in the lab frame (only s is nonzero)\n",
    "#         Returns: [B, 6] predicted two-body velocity on t due to s only\n",
    "#         \"\"\"\n",
    "#         # Extract dvec_s = (x_s, y_s, z_s) which is target - source (already in lab frame)\n",
    "#         dvec_s = X3b[:, 0:3]                         # [B,3]\n",
    "\n",
    "#         # Recover raw dist_s: centered + mean\n",
    "#         dist_s_centered = X3b[:, 6]                  # [B]\n",
    "#         dist_s_raw = dist_s_centered + self.mean_dist_s\n",
    "\n",
    "#         # Build 2-body inputs\n",
    "#         min_dist_raw = dist_s_raw - 2.0              # [B]\n",
    "#         r2 = (dist_s_raw - self.median_2b)**2\n",
    "#         r4 = r2 * r2\n",
    "\n",
    "#         X2b = torch.cat(\n",
    "#             [dvec_s,\n",
    "#              dist_s_raw.unsqueeze(1),\n",
    "#              r2.unsqueeze(1),\n",
    "#              r4.unsqueeze(1),\n",
    "#              min_dist_raw.unsqueeze(1)],\n",
    "#             dim=1\n",
    "#         ).to(device)                                    # [B, 7] (sphere case)\n",
    "\n",
    "#         # Forces: only source on (s) is nonzero; target (t) = zeros\n",
    "#         Fs_target = torch.zeros_like(force_s, device=device)  # [B,6]\n",
    "#         Ft_source = force_s.to(device)                        # [B,6]\n",
    "\n",
    "#         mu_tensor = torch.tensor(float(mu), dtype=torch.float32, device=device)\n",
    "#         v2b = self.two_nn.predict_velocity(X2b, Fs_target, Ft_source, mu_tensor)  # [B,6]\n",
    "#         return v2b\n",
    "\n",
    "#     def make_residual_labels(self, X3b, force_s, y_total_3b, mu=1.0):\n",
    "#         \"\"\"\n",
    "#         y_total_3b: [B,6] ground truth velocity on t from 3-body solve (s active, k passive)\n",
    "#         Returns residual labels: y_res = y_total_3b - v2b_pred\n",
    "#         \"\"\"\n",
    "#         v2b = self.predict_two_body_from_triplet(X3b, force_s, mu)\n",
    "#         return y_total_3b.to(device) - v2b"
   ]
  },
  {
   "cell_type": "code",
   "execution_count": null,
   "id": "82ebbc7d-95f8-44a9-a2ed-efa18d542a84",
   "metadata": {},
   "outputs": [],
   "source": []
  },
  {
   "cell_type": "markdown",
   "id": "1014c0a1-1c7d-4ce3-b84a-2620831d4d56",
   "metadata": {},
   "source": [
    "## Modelling"
   ]
  },
  {
   "cell_type": "code",
   "execution_count": 10,
   "id": "cdf70f6d-c04d-4e7e-8d58-650e3fc3126c",
   "metadata": {},
   "outputs": [
    {
     "data": {
      "text/plain": [
       "(125, 32000, 32000)"
      ]
     },
     "execution_count": 10,
     "metadata": {},
     "output_type": "execute_result"
    }
   ],
   "source": [
    "input_dim = train_dist_tensor.shape[1] - 6\n",
    "batch_size = 256\n",
    "epochs = 350 #350 seemed important for mob_op_3b acc on reference.csv\n",
    "\n",
    "twob_path = \"../data/models/two_body_combined_model.pt\"\n",
    "median_2b = 5.008307682776568 #copied from 2b training notebook\n",
    "model = ThreeBodyNet(input_dim, twob_path,median_2b, mean_dist_s).to(device)\n",
    "\n",
    "\n",
    "optimizer = torch.optim.Adam(model.parameters(), lr=0.001)\n",
    "#scheduler = torch.optim.lr_scheduler.StepLR(optimizer, step_size=50, gamma=0.50)\n",
    "scheduler = torch.optim.lr_scheduler.CosineAnnealingLR(optimizer, T_max=epochs)\n",
    "\n",
    "\n",
    "criterion = nn.MSELoss()\n",
    "#criterion = nn.L1Loss()\n",
    "n_batches = train_velocity_tensor.shape[0]//batch_size\n",
    "n_batches, n_batches*batch_size, len(train_dist_tensor)"
   ]
  },
  {
   "cell_type": "code",
   "execution_count": 11,
   "id": "6b124a17-ba0a-492f-87c9-7b93b16b53bd",
   "metadata": {},
   "outputs": [],
   "source": [
    "def shuffle_tensors(*tensors):\n",
    "    \"\"\" Shuffles multiple tensors in the same order \"\"\"\n",
    "    indices = torch.randperm(tensors[0].size(0),device=device)  # Generate random indices\n",
    "    return tuple(tensor[indices] for tensor in tensors)\n",
    "\n",
    "with torch.no_grad():\n",
    "    y_residual = model.make_residual_labels(\n",
    "        train_dist_tensor, \n",
    "        train_force_tensor, \n",
    "        train_velocity_tensor, mu=1.0)"
   ]
  },
  {
   "cell_type": "code",
   "execution_count": 12,
   "id": "5ece1e25-757d-40ea-8986-7e05c2e5c4e7",
   "metadata": {},
   "outputs": [
    {
     "data": {
      "text/plain": [
       "tensor([[ 0.0304,  0.0655, -0.1373, -0.0009, -0.0041,  0.0122],\n",
       "        [ 0.1231, -0.0318,  0.1026,  0.0157,  0.1389,  0.0258],\n",
       "        [-0.0023, -0.0237,  0.0061, -0.0144,  0.0013,  0.0186],\n",
       "        [ 0.1129, -0.0677, -0.2372, -0.1318, -0.0899,  0.1440],\n",
       "        [ 0.0070,  0.0123, -0.0324, -0.0159, -0.0121,  0.0235],\n",
       "        [-0.0270,  0.0014,  0.0003,  0.0058, -0.0241, -0.0122],\n",
       "        [-0.0100,  0.0122,  0.0210,  0.0033, -0.0067,  0.0202],\n",
       "        [-0.1262,  0.0534, -0.1841,  0.0878, -0.0363,  0.1270],\n",
       "        [-0.0192, -0.0019, -0.0218, -0.0047, -0.0002, -0.0230],\n",
       "        [-0.0381,  0.0993,  0.0641, -0.0373, -0.0543, -0.0827]],\n",
       "       device='cuda:0')"
      ]
     },
     "execution_count": 12,
     "metadata": {},
     "output_type": "execute_result"
    }
   ],
   "source": [
    "y_residual[:10]"
   ]
  },
  {
   "cell_type": "code",
   "execution_count": 13,
   "id": "73765d5c-4273-4c30-8bf5-1e29b86e0397",
   "metadata": {},
   "outputs": [
    {
     "name": "stdout",
     "output_type": "stream",
     "text": [
      "Epoch 0, Loss: 18.391458940565585\n",
      "Epoch 5, Loss: 0.014291013695299625\n",
      "Epoch 10, Loss: 0.0061415061429142956\n",
      "Epoch 15, Loss: 0.813024499874562\n",
      "Epoch 20, Loss: 0.0009841135181486607\n",
      "Epoch 25, Loss: 0.0005443476310465485\n",
      "Epoch 30, Loss: 0.0003588459399761632\n",
      "Epoch 35, Loss: 0.00023463746812194585\n",
      "Epoch 40, Loss: 0.0003001593197695911\n",
      "Epoch 45, Loss: 0.00012746003997744993\n",
      "Epoch 50, Loss: 9.639379201689735e-05\n",
      "Epoch 55, Loss: 0.000280547684407793\n",
      "Epoch 60, Loss: 8.814805478323251e-05\n",
      "Epoch 65, Loss: 5.668062638142146e-05\n",
      "Epoch 70, Loss: 4.740045095968526e-05\n",
      "Epoch 75, Loss: 0.00012774240950238892\n",
      "Epoch 80, Loss: 5.6763705069897694e-05\n",
      "Epoch 85, Loss: 5.269880779087543e-05\n",
      "Epoch 90, Loss: 2.5864422641461716e-05\n",
      "Epoch 95, Loss: 7.505397738714237e-05\n",
      "Epoch 100, Loss: 5.5740224197506905e-05\n",
      "Epoch 105, Loss: 5.170002943486907e-05\n",
      "Epoch 110, Loss: 3.539435578568373e-05\n",
      "Epoch 115, Loss: 3.054483829328092e-05\n",
      "Epoch 120, Loss: 3.743847660371102e-05\n",
      "Epoch 125, Loss: 4.6944826615799684e-05\n",
      "Epoch 130, Loss: 2.8850123162555973e-05\n",
      "Epoch 135, Loss: 1.4910980746208224e-05\n",
      "Epoch 140, Loss: 2.1798726826091297e-05\n",
      "Epoch 145, Loss: 3.571257123257965e-05\n",
      "Epoch 150, Loss: 1.670479620952392e-05\n",
      "Epoch 155, Loss: 3.8858707957842855e-05\n",
      "Epoch 160, Loss: 4.046140603895765e-05\n",
      "Epoch 165, Loss: 2.2669406498607713e-05\n",
      "Epoch 170, Loss: 1.973295838251943e-05\n",
      "Epoch 175, Loss: 1.066077007999411e-05\n",
      "Epoch 180, Loss: 2.515160614711931e-05\n",
      "Epoch 185, Loss: 1.4762450628040823e-05\n",
      "Epoch 190, Loss: 1.4793219579587457e-05\n",
      "Epoch 195, Loss: 1.073240125697339e-05\n",
      "Epoch 200, Loss: 1.4878310521453386e-05\n",
      "Epoch 205, Loss: 1.9825271268928192e-05\n",
      "Epoch 210, Loss: 1.3648722553625703e-05\n",
      "Epoch 215, Loss: 1.270027431746712e-05\n",
      "Epoch 220, Loss: 1.3603804844024125e-05\n",
      "Epoch 225, Loss: 1.3001595700188773e-05\n",
      "Epoch 230, Loss: 1.3001717652514344e-05\n",
      "Epoch 235, Loss: 8.6700063002354e-06\n",
      "Epoch 240, Loss: 7.673142143175937e-06\n",
      "Epoch 245, Loss: 7.790308904077392e-06\n",
      "Epoch 250, Loss: 7.479368479835102e-06\n",
      "Epoch 255, Loss: 6.281701391344541e-06\n",
      "Epoch 260, Loss: 6.17594914365327e-06\n",
      "Epoch 265, Loss: 5.789801834907849e-06\n",
      "Epoch 270, Loss: 7.0904363801673756e-06\n",
      "Epoch 275, Loss: 5.370210172259249e-06\n",
      "Epoch 280, Loss: 5.081175509985769e-06\n",
      "Epoch 285, Loss: 5.050748555731843e-06\n",
      "Epoch 290, Loss: 5.04787745376234e-06\n",
      "Epoch 295, Loss: 4.7420524497283624e-06\n",
      "Epoch 300, Loss: 4.5520906405727145e-06\n",
      "Epoch 305, Loss: 4.4135955067758915e-06\n",
      "Epoch 310, Loss: 4.407060937410279e-06\n",
      "Epoch 315, Loss: 4.244123596436111e-06\n",
      "Epoch 320, Loss: 4.212259880659986e-06\n",
      "Epoch 325, Loss: 4.112712267669849e-06\n",
      "Epoch 330, Loss: 4.081699829839635e-06\n",
      "Epoch 335, Loss: 4.003683583505335e-06\n",
      "Epoch 340, Loss: 3.974236095928063e-06\n",
      "Epoch 345, Loss: 3.947028893890092e-06\n"
     ]
    }
   ],
   "source": [
    "    \n",
    "losses = []\n",
    "data_losses, spsd_losses = [], []\n",
    "for epoch in range(epochs):\n",
    "    model.train()\n",
    "    avg = 0\n",
    "    avg_data, avg_spsd = 0, 0\n",
    "    \n",
    "    train_dist_tensor, train_force_tensor, y_residual = shuffle_tensors(\n",
    "        train_dist_tensor, train_force_tensor, y_residual\n",
    "    )\n",
    "    for it in range(n_batches):\n",
    "        optimizer.zero_grad()\n",
    "        \n",
    "        indices = torch.arange(it*batch_size, (it+1)*batch_size, dtype=torch.int).cuda()\n",
    "        \n",
    "        X = train_dist_tensor[indices]  \n",
    "        force_s = train_force_tensor[indices]         \n",
    "        Y = y_residual[indices]  \n",
    "\n",
    "        Y_b = model.predict_velocity(X, force_s)\n",
    "        loss = criterion(Y_b, Y)\n",
    "        \n",
    "        loss.backward()\n",
    "        avg += loss.item()\n",
    "        avg_data += 0 #data_loss.item()\n",
    "        #avg_spsd += spsd_loss.item()\n",
    "        optimizer.step()\n",
    "        \n",
    "\n",
    "    scheduler.step()\n",
    "    if epoch%5==0:\n",
    "        print(f'Epoch {epoch}, Loss: {avg/n_batches}')\n",
    "        losses.append(avg/n_batches)\n",
    "        data_losses.append(avg_data/n_batches)\n",
    "        spsd_losses.append(avg_spsd/n_batches)\n",
    "\n",
    "torch.save(model.state_dict(), \"3body_cross.wt\")"
   ]
  },
  {
   "cell_type": "code",
   "execution_count": 14,
   "id": "0eb5dcd1-4bf6-432e-8dff-52837043b3f7",
   "metadata": {},
   "outputs": [
    {
     "data": {
      "image/png": "[encoded data removed]",
      "text/plain": [
       "<Figure size 640x480 with 1 Axes>"
      ]
     },
     "metadata": {},
     "output_type": "display_data"
    }
   ],
   "source": [
    "import matplotlib.pyplot as plt\n",
    "los = losses[1:] # first one is usually too big, messes up the plot\n",
    "plt.plot(np.arange(len(los))*5+1, los);\n",
    "plt.ylabel(\"Loss\")\n",
    "plt.xlabel(\"Epochs\");\n",
    "plt.savefig(\"loss.png\");"
   ]
  },
  {
   "cell_type": "markdown",
   "id": "27add100-c5c5-4cae-9e3a-b990d064f0f2",
   "metadata": {},
   "source": [
    "## Evaluation"
   ]
  },
  {
   "cell_type": "code",
   "execution_count": 15,
   "id": "475b064e-fd6f-4703-b6b6-498fc2bfb597",
   "metadata": {},
   "outputs": [],
   "source": [
    "model = ThreeBodyNet(input_dim, twob_path,median_2b, mean_dist_s).to(device)\n",
    "model.load_state_dict(torch.load(\"3body_cross.wt\", weights_only=True))\n",
    "model.eval()\n",
    "\n",
    "with torch.no_grad():\n",
    "    val_output = model.predict_velocity_total(val_dist_tensor, val_force_tensor)"
   ]
  },
  {
   "cell_type": "code",
   "execution_count": 16,
   "id": "a1e83fff-c71b-40da-923c-3f86f0c9b75f",
   "metadata": {},
   "outputs": [
    {
     "data": {
      "text/plain": [
       "(tensor([-0.110665,  0.234305, -0.272255,  0.003983,  0.034451,  0.029250],\n",
       "        device='cuda:0'),\n",
       " tensor([-0.109013,  0.234673, -0.274385,  0.002120,  0.036132,  0.035760],\n",
       "        device='cuda:0'),\n",
       " tensor([-1.258089, -2.584173, -1.851157], device='cuda:0'))"
      ]
     },
     "execution_count": 16,
     "metadata": {},
     "output_type": "execute_result"
    }
   ],
   "source": [
    "torch.set_printoptions(sci_mode=False, precision=6)\n",
    "jj = 185\n",
    "val_output[jj], val_velocity_tensor[jj], val_dist_tensor[jj, [6,10,14]]"
   ]
  },
  {
   "cell_type": "code",
   "execution_count": 17,
   "id": "a4387198-f1e4-441b-a0d6-39ea60d5189b",
   "metadata": {},
   "outputs": [
    {
     "name": "stdout",
     "output_type": "stream",
     "text": [
      "Root Mean Squared error for each of 6 output variables:\n",
      " tensor([0.002345, 0.002796, 0.002556, 0.001463, 0.001423, 0.001460],\n",
      "       device='cuda:0')\n",
      "Actual Magnitude:\n",
      "  tensor([0.128210, 0.127427, 0.125916, 0.021024, 0.021028, 0.021496],\n",
      "       device='cuda:0')\n",
      "RMSE: tensor(0.002088, device='cuda:0')\n"
     ]
    }
   ],
   "source": [
    "criterion = nn.MSELoss(reduction='none') \n",
    "err = criterion(val_output, val_velocity_tensor)\n",
    "\n",
    "rmse = torch.sqrt(err.mean(axis=0))\n",
    "\n",
    "print(\"Root Mean Squared error for each of 6 output variables:\\n\", rmse)\n",
    "print(\"Actual Magnitude:\\n \", torch.abs(val_velocity_tensor).mean(axis=0))\n",
    "print(\"RMSE:\", err.mean()**.5)"
   ]
  },
  {
   "cell_type": "code",
   "execution_count": 18,
   "id": "5bfaf267-c823-46fd-a6f4-733f03683bf1",
   "metadata": {},
   "outputs": [
    {
     "data": {
      "text/plain": [
       "tensor([0.524537, 0.531891, 0.531882, 2.990605, 3.023539, 3.013410],\n",
       "       device='cuda:0')"
      ]
     },
     "execution_count": 18,
     "metadata": {},
     "output_type": "execute_result"
    }
   ],
   "source": [
    "#### Mean Relative Absolute Error\n",
    "valid_mask = torch.abs(val_velocity_tensor) > 1e-6\n",
    "\n",
    "filtered_y_tensor = torch.where(valid_mask, val_velocity_tensor, torch.tensor(float('nan')))\n",
    "relative_error = torch.abs((val_output - filtered_y_tensor) / filtered_y_tensor)\n",
    "\n",
    "a,_ = torch.nanmedian(relative_error, dim=0)\n",
    "a*100"
   ]
  },
  {
   "cell_type": "code",
   "execution_count": 19,
   "id": "83facc6d-63e3-40c5-9f64-dae62dfe3d57",
   "metadata": {},
   "outputs": [
    {
     "data": {
      "text/plain": [
       "tensor([ 4.033917,  6.146086,  4.232626, 25.827269, 19.724447, 36.014763],\n",
       "       device='cuda:0')"
      ]
     },
     "execution_count": 19,
     "metadata": {},
     "output_type": "execute_result"
    }
   ],
   "source": [
    "a = torch.nanmean(relative_error, dim=0)\n",
    "a*100"
   ]
  },
  {
   "cell_type": "code",
   "execution_count": 20,
   "id": "0057f3d9-16c3-4657-9848-0cec8ac7bde4",
   "metadata": {},
   "outputs": [
    {
     "data": {
      "text/plain": [
       "tensor([1.829061, 2.194143, 2.030095, 6.960518, 6.767957, 6.794086],\n",
       "       device='cuda:0')"
      ]
     },
     "execution_count": 20,
     "metadata": {},
     "output_type": "execute_result"
    }
   ],
   "source": [
    "100*rmse/torch.abs(val_velocity_tensor).mean(axis=0)"
   ]
  },
  {
   "cell_type": "code",
   "execution_count": 21,
   "id": "36b8a2fa-76ac-4a4b-86ca-1b4c3bcce7a5",
   "metadata": {},
   "outputs": [],
   "source": [
    "# scripted_model = torch.jit.script(model)\n",
    "# scripted_model.save(\"../data/models/3body_cross.pt\")\n",
    "\n",
    "# Finetuning didn't work\n",
    "# ft_2b_path = \"../data/models/two_body_combined_model_finetuned.pt\"\n",
    "# model.two_nn.eval()  # optional, but recommended\n",
    "# model.two_nn.save(ft_2b_path)\n"
   ]
  },
  {
   "cell_type": "code",
   "execution_count": 30,
   "id": "32abd000-f3e8-4813-af39-1e196d8619e5",
   "metadata": {},
   "outputs": [
    {
     "data": {
      "text/plain": [
       "(33.20564231536785, 6.676046130020485, 4.701194833185608)"
      ]
     },
     "execution_count": 30,
     "metadata": {},
     "output_type": "execute_result"
    }
   ],
   "source": [
    "# Comparing w/ multibody\n",
    "metric = []\n",
    "dsss = []\n",
    "dttt = []\n",
    "for i in range(len(df)):\n",
    "    row = df.iloc[i].values\n",
    "    d_ks = np.linalg.norm(row[0:3]-row[11:14])\n",
    "    d_kt = np.linalg.norm(row[11:14])\n",
    "    metric.append(d_kt*d_ks)\n",
    "    dsss.append(d_ks)\n",
    "    dttt.append(d_kt)\n",
    "    \n",
    "(\n",
    "    sum(metric)/len(metric),\n",
    "    sum(dsss)/len(dsss),\n",
    "    sum(dttt)/len(dttt)\n",
    ")"
   ]
  },
  {
   "cell_type": "code",
   "execution_count": 32,
   "id": "62168a7f-4d51-467e-a0af-f2f552f7680d",
   "metadata": {},
   "outputs": [
    {
     "data": {
      "text/plain": [
       "(6.484691125608878, 4.558643371662552)"
      ]
     },
     "execution_count": 32,
     "metadata": {},
     "output_type": "execute_result"
    }
   ],
   "source": [
    "np.median(dsss), np.median(dttt)"
   ]
  },
  {
   "cell_type": "code",
   "execution_count": 33,
   "id": "03b98424-2068-45ff-acd1-301958ddb0f2",
   "metadata": {},
   "outputs": [
    {
     "data": {
      "image/png": "[encoded data removed]",
      "text/plain": [
       "<Figure size 640x480 with 1 Axes>"
      ]
     },
     "metadata": {},
     "output_type": "display_data"
    }
   ],
   "source": [
    "plt.hist(dttt);"
   ]
  },
  {
   "cell_type": "code",
   "execution_count": null,
   "id": "2c5982a9-db8a-4c44-af1f-ba723a453f30",
   "metadata": {},
   "outputs": [],
   "source": [
    "\n",
    "\n",
    "\n",
    "\n",
    "\n",
    "\n",
    "\n",
    "\n",
    "\n",
    "\n",
    "\n",
    "\n"
   ]
  }
 ],
 "metadata": {
  "kernelspec": {
   "display_name": "Python 3 (ipykernel)",
   "language": "python",
   "name": "python3"
  },
  "language_info": {
   "codemirror_mode": {
    "name": "ipython",
    "version": 3
   },
   "file_extension": ".py",
   "mimetype": "text/x-python",
   "name": "python",
   "nbconvert_exporter": "python",
   "pygments_lexer": "ipython3",
   "version": "3.12.2"
  }
 },
 "nbformat": 4,
 "nbformat_minor": 5
}
